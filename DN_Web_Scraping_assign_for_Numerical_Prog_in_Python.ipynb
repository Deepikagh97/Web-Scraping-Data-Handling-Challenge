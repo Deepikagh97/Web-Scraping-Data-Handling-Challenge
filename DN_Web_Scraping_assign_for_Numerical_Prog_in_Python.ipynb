{
  "cells": [
    {
      "cell_type": "markdown",
      "metadata": {
        "id": "view-in-github",
        "colab_type": "text"
      },
      "source": [
        "<a href=\"https://colab.research.google.com/github/Deepikagh97/Web-Scraping-Data-Handling-Challenge/blob/main/DN_Web_Scraping_assign_for_Numerical_Prog_in_Python.ipynb\" target=\"_parent\"><img src=\"https://colab.research.google.com/assets/colab-badge.svg\" alt=\"Open In Colab\"/></a>"
      ]
    },
    {
      "cell_type": "markdown",
      "metadata": {
        "id": "bKFlk3slQ1ol"
      },
      "source": [
        "# **Web Scraping & Data Handling Challenge**"
      ]
    },
    {
      "cell_type": "markdown",
      "source": [
        " **Contribution - Individual - Deepika Nayak**"
      ],
      "metadata": {
        "id": "ncJgrUz-G2-I"
      }
    },
    {
      "cell_type": "markdown",
      "metadata": {
        "id": "YU_opgaCYpcO"
      },
      "source": [
        "\n",
        "\n",
        "### **Website:**\n",
        "JustWatch -  https://www.justwatch.com/in/movies?release_year_from=2000\n",
        "\n",
        "\n",
        "### **Description:**\n",
        "\n",
        "JustWatch is a popular platform that allows users to search for movies and TV shows across multiple streaming services like Netflix, Amazon Prime, Hulu, etc. For this assignment, you will be required to scrape movie and TV show data from JustWatch using Selenium, Python, and BeautifulSoup. Extract data from HTML, not by directly calling their APIs. Then, perform data filtering and analysis using Pandas, and finally, save the results to a CSV file.\n",
        "\n",
        "### **Tasks:**\n",
        "\n",
        "**1. Web Scraping:**\n",
        "\n",
        "Use BeautifulSoup to scrape the following data from JustWatch:\n",
        "\n",
        "   **a. Movie Information:**\n",
        "\n",
        "      - Movie title\n",
        "      - Release year\n",
        "      - Genre\n",
        "      - IMDb rating\n",
        "      - Streaming services available (Netflix, Amazon Prime, Hulu, etc.)\n",
        "      - URL to the movie page on JustWatch\n",
        "\n",
        "   **b. TV Show Information:**\n",
        "\n",
        "      - TV show title\n",
        "      - Release year\n",
        "      - Genre\n",
        "      - IMDb rating\n",
        "      - Streaming services available (Netflix, Amazon Prime, Hulu, etc.)\n",
        "      - URL to the TV show page on JustWatch\n",
        "\n",
        "  **c. Scope:**\n",
        "\n",
        "```\n",
        " ` - Scrape data for at least 50 movies and 50 TV shows.\n",
        "   - You can choose the entry point (e.g., starting with popular movies,\n",
        "     or a specific genre, etc.) to ensure a diverse dataset.`\n",
        "\n",
        "```\n",
        "\n",
        "\n",
        "**2. Data Filtering & Analysis:**\n",
        "\n",
        "   After scraping the data, use Pandas to perform the following tasks:\n",
        "\n",
        "   **a. Filter movies and TV shows based on specific criteria:**\n",
        "\n",
        "   ```\n",
        "      - Only include movies and TV shows released in the last 2 years (from the current date).\n",
        "      - Only include movies and TV shows with an IMDb rating of 7 or higher.\n",
        "```\n",
        "\n",
        "   **b. Data Analysis:**\n",
        "\n",
        "   ```\n",
        "      - Calculate the average IMDb rating for the scraped movies and TV shows.\n",
        "      - Identify the top 5 genres that have the highest number of available movies and TV shows.\n",
        "      - Determine the streaming service with the most significant number of offerings.\n",
        "      \n",
        "   ```   \n",
        "\n",
        "**3. Data Export:**\n",
        "\n",
        "```\n",
        "   - Dump the filtered and analysed data into a CSV file for further processing and reporting.\n",
        "\n",
        "   - Keep the CSV file in your Drive Folder and Share the Drive link on the colab while keeping view access with anyone.\n",
        "```\n",
        "\n",
        "**Submission:**\n",
        "```\n",
        "- Submit a link to your Colab made for the assignment.\n",
        "\n",
        "- The Colab should contain your Python script (.py format only) with clear\n",
        "  comments explaining the scraping, filtering, and analysis process.\n",
        "\n",
        "- Your Code shouldn't have any errors and should be executable at a one go.\n",
        "\n",
        "- Before Conclusion, Keep your Dataset Drive Link in the Notebook.\n",
        "```\n",
        "\n",
        "\n",
        "\n",
        "**Note:**\n",
        "\n",
        "1. Properly handle errors and exceptions during web scraping to ensure a robust script.\n",
        "\n",
        "2. Make sure your code is well-structured, easy to understand, and follows Python best practices.\n",
        "\n",
        "3. The assignment will be evaluated based on the correctness of the scraped data, accuracy of data filtering and analysis, and the overall quality of the Python code.\n",
        "\n",
        "\n",
        "\n",
        "\n",
        "\n",
        "\n"
      ]
    },
    {
      "cell_type": "markdown",
      "metadata": {
        "id": "k8ptoMlNQ5zB"
      },
      "source": [
        "# **Start The Project**"
      ]
    },
    {
      "cell_type": "markdown",
      "metadata": {
        "id": "-xHLaFLPn4yC"
      },
      "source": [
        "## **Task 1:- Web Scrapping**"
      ]
    },
    {
      "cell_type": "code",
      "execution_count": null,
      "metadata": {
        "colab": {
          "base_uri": "https://localhost:8080/"
        },
        "id": "axiEsy9ZL3qd",
        "outputId": "6d1d772c-0b4d-48f3-a629-cf7f18190847"
      },
      "outputs": [
        {
          "name": "stdout",
          "output_type": "stream",
          "text": [
            "Requirement already satisfied: bs4 in c:\\users\\deepika\\anaconda3\\lib\\site-packages (0.0.2)\n",
            "Requirement already satisfied: beautifulsoup4 in c:\\users\\deepika\\anaconda3\\lib\\site-packages (from bs4) (4.12.2)\n",
            "Requirement already satisfied: soupsieve>1.2 in c:\\users\\deepika\\anaconda3\\lib\\site-packages (from beautifulsoup4->bs4) (2.4)\n",
            "Requirement already satisfied: requests in c:\\users\\deepika\\anaconda3\\lib\\site-packages (2.31.0)\n",
            "Requirement already satisfied: charset-normalizer<4,>=2 in c:\\users\\deepika\\anaconda3\\lib\\site-packages (from requests) (2.0.4)\n",
            "Requirement already satisfied: idna<4,>=2.5 in c:\\users\\deepika\\anaconda3\\lib\\site-packages (from requests) (3.4)\n",
            "Requirement already satisfied: urllib3<3,>=1.21.1 in c:\\users\\deepika\\anaconda3\\lib\\site-packages (from requests) (1.26.16)\n",
            "Requirement already satisfied: certifi>=2017.4.17 in c:\\users\\deepika\\anaconda3\\lib\\site-packages (from requests) (2023.7.22)\n"
          ]
        }
      ],
      "source": [
        "#Installing all necessary labraries\n",
        "!pip install bs4\n",
        "!pip install requests"
      ]
    },
    {
      "cell_type": "code",
      "execution_count": null,
      "metadata": {
        "id": "omJlLZASQBmU"
      },
      "outputs": [],
      "source": [
        "#import all necessary labraries\n",
        "import requests\n",
        "from bs4 import BeautifulSoup\n",
        "import re\n",
        "import pandas as pd\n",
        "import numpy as np"
      ]
    },
    {
      "cell_type": "markdown",
      "source": [
        "Imports necessary libraries for web scraping and data manipulation. It includes requests for making HTTP requests, BeautifulSoup for parsing HTML and XML documents, re for regular expressions, pandas for data manipulation and analysis, and numpy for numerical computations."
      ],
      "metadata": {
        "id": "0n-YDXmqBHY6"
      }
    },
    {
      "cell_type": "markdown",
      "metadata": {
        "id": "NCWbwB1Og3bD"
      },
      "source": [
        "## **Scrapping Movies Data**"
      ]
    },
    {
      "cell_type": "code",
      "execution_count": null,
      "metadata": {
        "id": "Pk6hihO4Amxf",
        "outputId": "0b0f983a-37eb-4836-fafe-3de9b29ed256"
      },
      "outputs": [
        {
          "name": "stdout",
          "output_type": "stream",
          "text": [
            "Requirement already satisfied: selenium in c:\\users\\deepika\\anaconda3\\lib\\site-packages (4.19.0)\n",
            "Requirement already satisfied: urllib3[socks]<3,>=1.26 in c:\\users\\deepika\\anaconda3\\lib\\site-packages (from selenium) (1.26.16)\n",
            "Requirement already satisfied: trio~=0.17 in c:\\users\\deepika\\anaconda3\\lib\\site-packages (from selenium) (0.25.0)\n",
            "Requirement already satisfied: trio-websocket~=0.9 in c:\\users\\deepika\\anaconda3\\lib\\site-packages (from selenium) (0.11.1)\n",
            "Requirement already satisfied: certifi>=2021.10.8 in c:\\users\\deepika\\anaconda3\\lib\\site-packages (from selenium) (2023.7.22)\n",
            "Requirement already satisfied: typing_extensions>=4.9.0 in c:\\users\\deepika\\anaconda3\\lib\\site-packages (from selenium) (4.9.0)\n",
            "Requirement already satisfied: attrs>=23.2.0 in c:\\users\\deepika\\anaconda3\\lib\\site-packages (from trio~=0.17->selenium) (23.2.0)\n",
            "Requirement already satisfied: sortedcontainers in c:\\users\\deepika\\anaconda3\\lib\\site-packages (from trio~=0.17->selenium) (2.4.0)\n",
            "Requirement already satisfied: idna in c:\\users\\deepika\\anaconda3\\lib\\site-packages (from trio~=0.17->selenium) (3.4)\n",
            "Requirement already satisfied: outcome in c:\\users\\deepika\\anaconda3\\lib\\site-packages (from trio~=0.17->selenium) (1.3.0.post0)\n",
            "Requirement already satisfied: sniffio>=1.3.0 in c:\\users\\deepika\\anaconda3\\lib\\site-packages (from trio~=0.17->selenium) (1.3.1)\n",
            "Requirement already satisfied: cffi>=1.14 in c:\\users\\deepika\\anaconda3\\lib\\site-packages (from trio~=0.17->selenium) (1.15.1)\n",
            "Requirement already satisfied: wsproto>=0.14 in c:\\users\\deepika\\anaconda3\\lib\\site-packages (from trio-websocket~=0.9->selenium) (1.2.0)\n",
            "Requirement already satisfied: PySocks!=1.5.7,<2.0,>=1.5.6 in c:\\users\\deepika\\anaconda3\\lib\\site-packages (from urllib3[socks]<3,>=1.26->selenium) (1.7.1)\n",
            "Requirement already satisfied: pycparser in c:\\users\\deepika\\anaconda3\\lib\\site-packages (from cffi>=1.14->trio~=0.17->selenium) (2.21)\n",
            "Requirement already satisfied: h11<1,>=0.9.0 in c:\\users\\deepika\\anaconda3\\lib\\site-packages (from wsproto>=0.14->trio-websocket~=0.9->selenium) (0.14.0)\n"
          ]
        }
      ],
      "source": [
        "!pip install selenium\n",
        "from selenium import webdriver\n",
        "\n",
        "# Specify the path to ChromeDriver if not in PATH\n",
        "# driver = webdriver.Chrome('/path/to/chromedriver')\n",
        "\n",
        "# Initialize Chrome WebDriver\n",
        "driver = webdriver.Chrome()\n",
        "\n",
        "# Example usage: Open a website\n",
        "driver.get('https://www.google.com')\n",
        "\n",
        "# Close the WebDriver\n",
        "driver.quit()"
      ]
    },
    {
      "cell_type": "markdown",
      "source": [
        "This Python code installs Selenium using pip, then imports the necessary module for web automation. It initializes a Chrome WebDriver and demonstrates an example of opening a website using Selenium. Finally, it closes the WebDriver."
      ],
      "metadata": {
        "id": "8HlebEiuBRjp"
      }
    },
    {
      "cell_type": "code",
      "execution_count": null,
      "metadata": {
        "colab": {
          "base_uri": "https://localhost:8080/",
          "height": 72
        },
        "id": "R8zVtAQmh93m",
        "outputId": "4d3d5b8b-131c-44ba-ffae-0171554056b3"
      },
      "outputs": [
        {
          "name": "stdout",
          "output_type": "stream",
          "text": [
            "Requirement already satisfied: chromedriver-autoinstaller in c:\\users\\deepika\\anaconda3\\lib\\site-packages (0.6.4)\n",
            "Requirement already satisfied: packaging>=23.1 in c:\\users\\deepika\\anaconda3\\lib\\site-packages (from chromedriver-autoinstaller) (24.0)\n"
          ]
        },
        {
          "data": {
            "text/plain": [
              "'C:\\\\Users\\\\Deepika\\\\anaconda3\\\\Lib\\\\site-packages\\\\chromedriver_autoinstaller\\\\124\\\\chromedriver.exe'"
            ]
          },
          "execution_count": 5,
          "metadata": {},
          "output_type": "execute_result"
        }
      ],
      "source": [
        "!pip install chromedriver-autoinstaller\n",
        "\n",
        "import sys\n",
        "sys.path.insert(0,'/usr/lib/chromium-browser/chromedriver')\n",
        "\n",
        "import time\n",
        "import chromedriver_autoinstaller\n",
        "\n",
        "# setup chrome options\n",
        "chrome_options = webdriver.ChromeOptions()\n",
        "chrome_options.add_argument('--headless') # ensure GUI is off\n",
        "chrome_options.add_argument('--no-sandbox')\n",
        "chrome_options.add_argument('--disable-dev-shm-usage')\n",
        "\n",
        "# set path to chromedriver as per your configuration\n",
        "chromedriver_autoinstaller.install()\n"
      ]
    },
    {
      "cell_type": "markdown",
      "source": [
        "\n",
        "This Python script installs the chromedriver-autoinstaller package, then sets up the necessary configurations for web scraping using Selenium with Chrome. It also imports libraries for data manipulation (pandas), HTML parsing (BeautifulSoup), and web automation (webdriver from Selenium). The script ensures that Chrome runs in headless mode (without GUI) and configures options for stable execution. Finally, it installs the ChromeDriver automatically with chromedriver_autoinstaller."
      ],
      "metadata": {
        "id": "0WZWlaJiBgOr"
      }
    },
    {
      "cell_type": "code",
      "execution_count": null,
      "metadata": {
        "id": "q1Mfqi_9AoBu"
      },
      "outputs": [],
      "source": [
        "# set the target URL\n",
        "url = 'https://www.justwatch.com/in/movies?release_year_from=2000'\n",
        "\n",
        "# set up the webdriver\n",
        "driver = webdriver.Chrome(options=chrome_options)"
      ]
    },
    {
      "cell_type": "code",
      "execution_count": null,
      "metadata": {
        "id": "XL9ZIF1blTHv"
      },
      "outputs": [],
      "source": [
        "driver.get(url )"
      ]
    },
    {
      "cell_type": "code",
      "execution_count": null,
      "metadata": {
        "colab": {
          "base_uri": "https://localhost:8080/"
        },
        "id": "0BUf9C8srHV9",
        "outputId": "d97d76e6-8414-414f-84a4-7c1dcba5e729"
      },
      "outputs": [
        {
          "data": {
            "text/plain": [
              "<selenium.webdriver.chrome.webdriver.WebDriver (session=\"4ff5a548cf6e0d5b13da1c55b48057d4\")>"
            ]
          },
          "execution_count": 8,
          "metadata": {},
          "output_type": "execute_result"
        }
      ],
      "source": [
        "driver"
      ]
    },
    {
      "cell_type": "markdown",
      "source": [
        "The above script sets the target URL to 'https://www.justwatch.com/in/movies?release_year_from=2000' and sets up a Chrome WebDriver with the specified Chrome options for headless browsing. And  instructs the WebDriver to navigate to the specified URL (url) using the get() method."
      ],
      "metadata": {
        "id": "O31W28M3ByAf"
      }
    },
    {
      "cell_type": "code",
      "execution_count": null,
      "metadata": {
        "id": "WXteyrTAjnSx"
      },
      "outputs": [],
      "source": [
        "from selenium.webdriver.support.ui import WebDriverWait\n",
        "from selenium.webdriver.support import expected_conditions as EC\n",
        "from selenium.webdriver.common.by import By"
      ]
    },
    {
      "cell_type": "markdown",
      "source": [
        "\n",
        "This script imports additional modules from Selenium for handling explicit waits (WebDriverWait) and expected conditions (EC), as well as common methods for locating elements (By). These are useful for synchronizing script execution with the browser's state."
      ],
      "metadata": {
        "id": "-L_U1yXODy5y"
      }
    },
    {
      "cell_type": "code",
      "execution_count": null,
      "metadata": {
        "colab": {
          "base_uri": "https://localhost:8080/"
        },
        "id": "OrU8iy99kLgK",
        "outputId": "d1339486-fc76-4081-95bc-1834a6068c23"
      },
      "outputs": [
        {
          "data": {
            "text/plain": [
              "[<selenium.webdriver.remote.webelement.WebElement (session=\"4ff5a548cf6e0d5b13da1c55b48057d4\", element=\"f.16087E2C503BF704248C65E5B8F11E10.d.2EFC687FDB66A5DF77F52D59872B4BDC.e.21\")>,\n",
              " <selenium.webdriver.remote.webelement.WebElement (session=\"4ff5a548cf6e0d5b13da1c55b48057d4\", element=\"f.16087E2C503BF704248C65E5B8F11E10.d.2EFC687FDB66A5DF77F52D59872B4BDC.e.22\")>,\n",
              " <selenium.webdriver.remote.webelement.WebElement (session=\"4ff5a548cf6e0d5b13da1c55b48057d4\", element=\"f.16087E2C503BF704248C65E5B8F11E10.d.2EFC687FDB66A5DF77F52D59872B4BDC.e.23\")>,\n",
              " <selenium.webdriver.remote.webelement.WebElement (session=\"4ff5a548cf6e0d5b13da1c55b48057d4\", element=\"f.16087E2C503BF704248C65E5B8F11E10.d.2EFC687FDB66A5DF77F52D59872B4BDC.e.24\")>,\n",
              " <selenium.webdriver.remote.webelement.WebElement (session=\"4ff5a548cf6e0d5b13da1c55b48057d4\", element=\"f.16087E2C503BF704248C65E5B8F11E10.d.2EFC687FDB66A5DF77F52D59872B4BDC.e.25\")>,\n",
              " <selenium.webdriver.remote.webelement.WebElement (session=\"4ff5a548cf6e0d5b13da1c55b48057d4\", element=\"f.16087E2C503BF704248C65E5B8F11E10.d.2EFC687FDB66A5DF77F52D59872B4BDC.e.26\")>,\n",
              " <selenium.webdriver.remote.webelement.WebElement (session=\"4ff5a548cf6e0d5b13da1c55b48057d4\", element=\"f.16087E2C503BF704248C65E5B8F11E10.d.2EFC687FDB66A5DF77F52D59872B4BDC.e.27\")>,\n",
              " <selenium.webdriver.remote.webelement.WebElement (session=\"4ff5a548cf6e0d5b13da1c55b48057d4\", element=\"f.16087E2C503BF704248C65E5B8F11E10.d.2EFC687FDB66A5DF77F52D59872B4BDC.e.28\")>,\n",
              " <selenium.webdriver.remote.webelement.WebElement (session=\"4ff5a548cf6e0d5b13da1c55b48057d4\", element=\"f.16087E2C503BF704248C65E5B8F11E10.d.2EFC687FDB66A5DF77F52D59872B4BDC.e.29\")>,\n",
              " <selenium.webdriver.remote.webelement.WebElement (session=\"4ff5a548cf6e0d5b13da1c55b48057d4\", element=\"f.16087E2C503BF704248C65E5B8F11E10.d.2EFC687FDB66A5DF77F52D59872B4BDC.e.30\")>,\n",
              " <selenium.webdriver.remote.webelement.WebElement (session=\"4ff5a548cf6e0d5b13da1c55b48057d4\", element=\"f.16087E2C503BF704248C65E5B8F11E10.d.2EFC687FDB66A5DF77F52D59872B4BDC.e.31\")>,\n",
              " <selenium.webdriver.remote.webelement.WebElement (session=\"4ff5a548cf6e0d5b13da1c55b48057d4\", element=\"f.16087E2C503BF704248C65E5B8F11E10.d.2EFC687FDB66A5DF77F52D59872B4BDC.e.32\")>,\n",
              " <selenium.webdriver.remote.webelement.WebElement (session=\"4ff5a548cf6e0d5b13da1c55b48057d4\", element=\"f.16087E2C503BF704248C65E5B8F11E10.d.2EFC687FDB66A5DF77F52D59872B4BDC.e.33\")>,\n",
              " <selenium.webdriver.remote.webelement.WebElement (session=\"4ff5a548cf6e0d5b13da1c55b48057d4\", element=\"f.16087E2C503BF704248C65E5B8F11E10.d.2EFC687FDB66A5DF77F52D59872B4BDC.e.34\")>,\n",
              " <selenium.webdriver.remote.webelement.WebElement (session=\"4ff5a548cf6e0d5b13da1c55b48057d4\", element=\"f.16087E2C503BF704248C65E5B8F11E10.d.2EFC687FDB66A5DF77F52D59872B4BDC.e.35\")>,\n",
              " <selenium.webdriver.remote.webelement.WebElement (session=\"4ff5a548cf6e0d5b13da1c55b48057d4\", element=\"f.16087E2C503BF704248C65E5B8F11E10.d.2EFC687FDB66A5DF77F52D59872B4BDC.e.36\")>,\n",
              " <selenium.webdriver.remote.webelement.WebElement (session=\"4ff5a548cf6e0d5b13da1c55b48057d4\", element=\"f.16087E2C503BF704248C65E5B8F11E10.d.2EFC687FDB66A5DF77F52D59872B4BDC.e.37\")>,\n",
              " <selenium.webdriver.remote.webelement.WebElement (session=\"4ff5a548cf6e0d5b13da1c55b48057d4\", element=\"f.16087E2C503BF704248C65E5B8F11E10.d.2EFC687FDB66A5DF77F52D59872B4BDC.e.38\")>,\n",
              " <selenium.webdriver.remote.webelement.WebElement (session=\"4ff5a548cf6e0d5b13da1c55b48057d4\", element=\"f.16087E2C503BF704248C65E5B8F11E10.d.2EFC687FDB66A5DF77F52D59872B4BDC.e.39\")>,\n",
              " <selenium.webdriver.remote.webelement.WebElement (session=\"4ff5a548cf6e0d5b13da1c55b48057d4\", element=\"f.16087E2C503BF704248C65E5B8F11E10.d.2EFC687FDB66A5DF77F52D59872B4BDC.e.40\")>,\n",
              " <selenium.webdriver.remote.webelement.WebElement (session=\"4ff5a548cf6e0d5b13da1c55b48057d4\", element=\"f.16087E2C503BF704248C65E5B8F11E10.d.2EFC687FDB66A5DF77F52D59872B4BDC.e.41\")>,\n",
              " <selenium.webdriver.remote.webelement.WebElement (session=\"4ff5a548cf6e0d5b13da1c55b48057d4\", element=\"f.16087E2C503BF704248C65E5B8F11E10.d.2EFC687FDB66A5DF77F52D59872B4BDC.e.42\")>,\n",
              " <selenium.webdriver.remote.webelement.WebElement (session=\"4ff5a548cf6e0d5b13da1c55b48057d4\", element=\"f.16087E2C503BF704248C65E5B8F11E10.d.2EFC687FDB66A5DF77F52D59872B4BDC.e.43\")>,\n",
              " <selenium.webdriver.remote.webelement.WebElement (session=\"4ff5a548cf6e0d5b13da1c55b48057d4\", element=\"f.16087E2C503BF704248C65E5B8F11E10.d.2EFC687FDB66A5DF77F52D59872B4BDC.e.44\")>,\n",
              " <selenium.webdriver.remote.webelement.WebElement (session=\"4ff5a548cf6e0d5b13da1c55b48057d4\", element=\"f.16087E2C503BF704248C65E5B8F11E10.d.2EFC687FDB66A5DF77F52D59872B4BDC.e.45\")>,\n",
              " <selenium.webdriver.remote.webelement.WebElement (session=\"4ff5a548cf6e0d5b13da1c55b48057d4\", element=\"f.16087E2C503BF704248C65E5B8F11E10.d.2EFC687FDB66A5DF77F52D59872B4BDC.e.46\")>,\n",
              " <selenium.webdriver.remote.webelement.WebElement (session=\"4ff5a548cf6e0d5b13da1c55b48057d4\", element=\"f.16087E2C503BF704248C65E5B8F11E10.d.2EFC687FDB66A5DF77F52D59872B4BDC.e.47\")>,\n",
              " <selenium.webdriver.remote.webelement.WebElement (session=\"4ff5a548cf6e0d5b13da1c55b48057d4\", element=\"f.16087E2C503BF704248C65E5B8F11E10.d.2EFC687FDB66A5DF77F52D59872B4BDC.e.48\")>,\n",
              " <selenium.webdriver.remote.webelement.WebElement (session=\"4ff5a548cf6e0d5b13da1c55b48057d4\", element=\"f.16087E2C503BF704248C65E5B8F11E10.d.2EFC687FDB66A5DF77F52D59872B4BDC.e.49\")>,\n",
              " <selenium.webdriver.remote.webelement.WebElement (session=\"4ff5a548cf6e0d5b13da1c55b48057d4\", element=\"f.16087E2C503BF704248C65E5B8F11E10.d.2EFC687FDB66A5DF77F52D59872B4BDC.e.50\")>,\n",
              " <selenium.webdriver.remote.webelement.WebElement (session=\"4ff5a548cf6e0d5b13da1c55b48057d4\", element=\"f.16087E2C503BF704248C65E5B8F11E10.d.2EFC687FDB66A5DF77F52D59872B4BDC.e.51\")>,\n",
              " <selenium.webdriver.remote.webelement.WebElement (session=\"4ff5a548cf6e0d5b13da1c55b48057d4\", element=\"f.16087E2C503BF704248C65E5B8F11E10.d.2EFC687FDB66A5DF77F52D59872B4BDC.e.52\")>,\n",
              " <selenium.webdriver.remote.webelement.WebElement (session=\"4ff5a548cf6e0d5b13da1c55b48057d4\", element=\"f.16087E2C503BF704248C65E5B8F11E10.d.2EFC687FDB66A5DF77F52D59872B4BDC.e.53\")>,\n",
              " <selenium.webdriver.remote.webelement.WebElement (session=\"4ff5a548cf6e0d5b13da1c55b48057d4\", element=\"f.16087E2C503BF704248C65E5B8F11E10.d.2EFC687FDB66A5DF77F52D59872B4BDC.e.54\")>,\n",
              " <selenium.webdriver.remote.webelement.WebElement (session=\"4ff5a548cf6e0d5b13da1c55b48057d4\", element=\"f.16087E2C503BF704248C65E5B8F11E10.d.2EFC687FDB66A5DF77F52D59872B4BDC.e.55\")>,\n",
              " <selenium.webdriver.remote.webelement.WebElement (session=\"4ff5a548cf6e0d5b13da1c55b48057d4\", element=\"f.16087E2C503BF704248C65E5B8F11E10.d.2EFC687FDB66A5DF77F52D59872B4BDC.e.56\")>,\n",
              " <selenium.webdriver.remote.webelement.WebElement (session=\"4ff5a548cf6e0d5b13da1c55b48057d4\", element=\"f.16087E2C503BF704248C65E5B8F11E10.d.2EFC687FDB66A5DF77F52D59872B4BDC.e.57\")>,\n",
              " <selenium.webdriver.remote.webelement.WebElement (session=\"4ff5a548cf6e0d5b13da1c55b48057d4\", element=\"f.16087E2C503BF704248C65E5B8F11E10.d.2EFC687FDB66A5DF77F52D59872B4BDC.e.58\")>,\n",
              " <selenium.webdriver.remote.webelement.WebElement (session=\"4ff5a548cf6e0d5b13da1c55b48057d4\", element=\"f.16087E2C503BF704248C65E5B8F11E10.d.2EFC687FDB66A5DF77F52D59872B4BDC.e.59\")>,\n",
              " <selenium.webdriver.remote.webelement.WebElement (session=\"4ff5a548cf6e0d5b13da1c55b48057d4\", element=\"f.16087E2C503BF704248C65E5B8F11E10.d.2EFC687FDB66A5DF77F52D59872B4BDC.e.60\")>,\n",
              " <selenium.webdriver.remote.webelement.WebElement (session=\"4ff5a548cf6e0d5b13da1c55b48057d4\", element=\"f.16087E2C503BF704248C65E5B8F11E10.d.2EFC687FDB66A5DF77F52D59872B4BDC.e.61\")>,\n",
              " <selenium.webdriver.remote.webelement.WebElement (session=\"4ff5a548cf6e0d5b13da1c55b48057d4\", element=\"f.16087E2C503BF704248C65E5B8F11E10.d.2EFC687FDB66A5DF77F52D59872B4BDC.e.62\")>,\n",
              " <selenium.webdriver.remote.webelement.WebElement (session=\"4ff5a548cf6e0d5b13da1c55b48057d4\", element=\"f.16087E2C503BF704248C65E5B8F11E10.d.2EFC687FDB66A5DF77F52D59872B4BDC.e.63\")>,\n",
              " <selenium.webdriver.remote.webelement.WebElement (session=\"4ff5a548cf6e0d5b13da1c55b48057d4\", element=\"f.16087E2C503BF704248C65E5B8F11E10.d.2EFC687FDB66A5DF77F52D59872B4BDC.e.64\")>,\n",
              " <selenium.webdriver.remote.webelement.WebElement (session=\"4ff5a548cf6e0d5b13da1c55b48057d4\", element=\"f.16087E2C503BF704248C65E5B8F11E10.d.2EFC687FDB66A5DF77F52D59872B4BDC.e.65\")>,\n",
              " <selenium.webdriver.remote.webelement.WebElement (session=\"4ff5a548cf6e0d5b13da1c55b48057d4\", element=\"f.16087E2C503BF704248C65E5B8F11E10.d.2EFC687FDB66A5DF77F52D59872B4BDC.e.66\")>,\n",
              " <selenium.webdriver.remote.webelement.WebElement (session=\"4ff5a548cf6e0d5b13da1c55b48057d4\", element=\"f.16087E2C503BF704248C65E5B8F11E10.d.2EFC687FDB66A5DF77F52D59872B4BDC.e.67\")>,\n",
              " <selenium.webdriver.remote.webelement.WebElement (session=\"4ff5a548cf6e0d5b13da1c55b48057d4\", element=\"f.16087E2C503BF704248C65E5B8F11E10.d.2EFC687FDB66A5DF77F52D59872B4BDC.e.68\")>,\n",
              " <selenium.webdriver.remote.webelement.WebElement (session=\"4ff5a548cf6e0d5b13da1c55b48057d4\", element=\"f.16087E2C503BF704248C65E5B8F11E10.d.2EFC687FDB66A5DF77F52D59872B4BDC.e.69\")>,\n",
              " <selenium.webdriver.remote.webelement.WebElement (session=\"4ff5a548cf6e0d5b13da1c55b48057d4\", element=\"f.16087E2C503BF704248C65E5B8F11E10.d.2EFC687FDB66A5DF77F52D59872B4BDC.e.70\")>,\n",
              " <selenium.webdriver.remote.webelement.WebElement (session=\"4ff5a548cf6e0d5b13da1c55b48057d4\", element=\"f.16087E2C503BF704248C65E5B8F11E10.d.2EFC687FDB66A5DF77F52D59872B4BDC.e.71\")>,\n",
              " <selenium.webdriver.remote.webelement.WebElement (session=\"4ff5a548cf6e0d5b13da1c55b48057d4\", element=\"f.16087E2C503BF704248C65E5B8F11E10.d.2EFC687FDB66A5DF77F52D59872B4BDC.e.72\")>,\n",
              " <selenium.webdriver.remote.webelement.WebElement (session=\"4ff5a548cf6e0d5b13da1c55b48057d4\", element=\"f.16087E2C503BF704248C65E5B8F11E10.d.2EFC687FDB66A5DF77F52D59872B4BDC.e.73\")>,\n",
              " <selenium.webdriver.remote.webelement.WebElement (session=\"4ff5a548cf6e0d5b13da1c55b48057d4\", element=\"f.16087E2C503BF704248C65E5B8F11E10.d.2EFC687FDB66A5DF77F52D59872B4BDC.e.74\")>,\n",
              " <selenium.webdriver.remote.webelement.WebElement (session=\"4ff5a548cf6e0d5b13da1c55b48057d4\", element=\"f.16087E2C503BF704248C65E5B8F11E10.d.2EFC687FDB66A5DF77F52D59872B4BDC.e.75\")>,\n",
              " <selenium.webdriver.remote.webelement.WebElement (session=\"4ff5a548cf6e0d5b13da1c55b48057d4\", element=\"f.16087E2C503BF704248C65E5B8F11E10.d.2EFC687FDB66A5DF77F52D59872B4BDC.e.76\")>,\n",
              " <selenium.webdriver.remote.webelement.WebElement (session=\"4ff5a548cf6e0d5b13da1c55b48057d4\", element=\"f.16087E2C503BF704248C65E5B8F11E10.d.2EFC687FDB66A5DF77F52D59872B4BDC.e.77\")>,\n",
              " <selenium.webdriver.remote.webelement.WebElement (session=\"4ff5a548cf6e0d5b13da1c55b48057d4\", element=\"f.16087E2C503BF704248C65E5B8F11E10.d.2EFC687FDB66A5DF77F52D59872B4BDC.e.78\")>,\n",
              " <selenium.webdriver.remote.webelement.WebElement (session=\"4ff5a548cf6e0d5b13da1c55b48057d4\", element=\"f.16087E2C503BF704248C65E5B8F11E10.d.2EFC687FDB66A5DF77F52D59872B4BDC.e.79\")>,\n",
              " <selenium.webdriver.remote.webelement.WebElement (session=\"4ff5a548cf6e0d5b13da1c55b48057d4\", element=\"f.16087E2C503BF704248C65E5B8F11E10.d.2EFC687FDB66A5DF77F52D59872B4BDC.e.80\")>,\n",
              " <selenium.webdriver.remote.webelement.WebElement (session=\"4ff5a548cf6e0d5b13da1c55b48057d4\", element=\"f.16087E2C503BF704248C65E5B8F11E10.d.2EFC687FDB66A5DF77F52D59872B4BDC.e.81\")>,\n",
              " <selenium.webdriver.remote.webelement.WebElement (session=\"4ff5a548cf6e0d5b13da1c55b48057d4\", element=\"f.16087E2C503BF704248C65E5B8F11E10.d.2EFC687FDB66A5DF77F52D59872B4BDC.e.82\")>,\n",
              " <selenium.webdriver.remote.webelement.WebElement (session=\"4ff5a548cf6e0d5b13da1c55b48057d4\", element=\"f.16087E2C503BF704248C65E5B8F11E10.d.2EFC687FDB66A5DF77F52D59872B4BDC.e.83\")>,\n",
              " <selenium.webdriver.remote.webelement.WebElement (session=\"4ff5a548cf6e0d5b13da1c55b48057d4\", element=\"f.16087E2C503BF704248C65E5B8F11E10.d.2EFC687FDB66A5DF77F52D59872B4BDC.e.84\")>,\n",
              " <selenium.webdriver.remote.webelement.WebElement (session=\"4ff5a548cf6e0d5b13da1c55b48057d4\", element=\"f.16087E2C503BF704248C65E5B8F11E10.d.2EFC687FDB66A5DF77F52D59872B4BDC.e.85\")>,\n",
              " <selenium.webdriver.remote.webelement.WebElement (session=\"4ff5a548cf6e0d5b13da1c55b48057d4\", element=\"f.16087E2C503BF704248C65E5B8F11E10.d.2EFC687FDB66A5DF77F52D59872B4BDC.e.86\")>,\n",
              " <selenium.webdriver.remote.webelement.WebElement (session=\"4ff5a548cf6e0d5b13da1c55b48057d4\", element=\"f.16087E2C503BF704248C65E5B8F11E10.d.2EFC687FDB66A5DF77F52D59872B4BDC.e.87\")>,\n",
              " <selenium.webdriver.remote.webelement.WebElement (session=\"4ff5a548cf6e0d5b13da1c55b48057d4\", element=\"f.16087E2C503BF704248C65E5B8F11E10.d.2EFC687FDB66A5DF77F52D59872B4BDC.e.88\")>,\n",
              " <selenium.webdriver.remote.webelement.WebElement (session=\"4ff5a548cf6e0d5b13da1c55b48057d4\", element=\"f.16087E2C503BF704248C65E5B8F11E10.d.2EFC687FDB66A5DF77F52D59872B4BDC.e.89\")>,\n",
              " <selenium.webdriver.remote.webelement.WebElement (session=\"4ff5a548cf6e0d5b13da1c55b48057d4\", element=\"f.16087E2C503BF704248C65E5B8F11E10.d.2EFC687FDB66A5DF77F52D59872B4BDC.e.90\")>,\n",
              " <selenium.webdriver.remote.webelement.WebElement (session=\"4ff5a548cf6e0d5b13da1c55b48057d4\", element=\"f.16087E2C503BF704248C65E5B8F11E10.d.2EFC687FDB66A5DF77F52D59872B4BDC.e.91\")>,\n",
              " <selenium.webdriver.remote.webelement.WebElement (session=\"4ff5a548cf6e0d5b13da1c55b48057d4\", element=\"f.16087E2C503BF704248C65E5B8F11E10.d.2EFC687FDB66A5DF77F52D59872B4BDC.e.92\")>,\n",
              " <selenium.webdriver.remote.webelement.WebElement (session=\"4ff5a548cf6e0d5b13da1c55b48057d4\", element=\"f.16087E2C503BF704248C65E5B8F11E10.d.2EFC687FDB66A5DF77F52D59872B4BDC.e.93\")>,\n",
              " <selenium.webdriver.remote.webelement.WebElement (session=\"4ff5a548cf6e0d5b13da1c55b48057d4\", element=\"f.16087E2C503BF704248C65E5B8F11E10.d.2EFC687FDB66A5DF77F52D59872B4BDC.e.94\")>,\n",
              " <selenium.webdriver.remote.webelement.WebElement (session=\"4ff5a548cf6e0d5b13da1c55b48057d4\", element=\"f.16087E2C503BF704248C65E5B8F11E10.d.2EFC687FDB66A5DF77F52D59872B4BDC.e.95\")>,\n",
              " <selenium.webdriver.remote.webelement.WebElement (session=\"4ff5a548cf6e0d5b13da1c55b48057d4\", element=\"f.16087E2C503BF704248C65E5B8F11E10.d.2EFC687FDB66A5DF77F52D59872B4BDC.e.96\")>,\n",
              " <selenium.webdriver.remote.webelement.WebElement (session=\"4ff5a548cf6e0d5b13da1c55b48057d4\", element=\"f.16087E2C503BF704248C65E5B8F11E10.d.2EFC687FDB66A5DF77F52D59872B4BDC.e.97\")>,\n",
              " <selenium.webdriver.remote.webelement.WebElement (session=\"4ff5a548cf6e0d5b13da1c55b48057d4\", element=\"f.16087E2C503BF704248C65E5B8F11E10.d.2EFC687FDB66A5DF77F52D59872B4BDC.e.98\")>,\n",
              " <selenium.webdriver.remote.webelement.WebElement (session=\"4ff5a548cf6e0d5b13da1c55b48057d4\", element=\"f.16087E2C503BF704248C65E5B8F11E10.d.2EFC687FDB66A5DF77F52D59872B4BDC.e.99\")>,\n",
              " <selenium.webdriver.remote.webelement.WebElement (session=\"4ff5a548cf6e0d5b13da1c55b48057d4\", element=\"f.16087E2C503BF704248C65E5B8F11E10.d.2EFC687FDB66A5DF77F52D59872B4BDC.e.100\")>,\n",
              " <selenium.webdriver.remote.webelement.WebElement (session=\"4ff5a548cf6e0d5b13da1c55b48057d4\", element=\"f.16087E2C503BF704248C65E5B8F11E10.d.2EFC687FDB66A5DF77F52D59872B4BDC.e.101\")>,\n",
              " <selenium.webdriver.remote.webelement.WebElement (session=\"4ff5a548cf6e0d5b13da1c55b48057d4\", element=\"f.16087E2C503BF704248C65E5B8F11E10.d.2EFC687FDB66A5DF77F52D59872B4BDC.e.102\")>,\n",
              " <selenium.webdriver.remote.webelement.WebElement (session=\"4ff5a548cf6e0d5b13da1c55b48057d4\", element=\"f.16087E2C503BF704248C65E5B8F11E10.d.2EFC687FDB66A5DF77F52D59872B4BDC.e.103\")>,\n",
              " <selenium.webdriver.remote.webelement.WebElement (session=\"4ff5a548cf6e0d5b13da1c55b48057d4\", element=\"f.16087E2C503BF704248C65E5B8F11E10.d.2EFC687FDB66A5DF77F52D59872B4BDC.e.104\")>,\n",
              " <selenium.webdriver.remote.webelement.WebElement (session=\"4ff5a548cf6e0d5b13da1c55b48057d4\", element=\"f.16087E2C503BF704248C65E5B8F11E10.d.2EFC687FDB66A5DF77F52D59872B4BDC.e.105\")>,\n",
              " <selenium.webdriver.remote.webelement.WebElement (session=\"4ff5a548cf6e0d5b13da1c55b48057d4\", element=\"f.16087E2C503BF704248C65E5B8F11E10.d.2EFC687FDB66A5DF77F52D59872B4BDC.e.106\")>,\n",
              " <selenium.webdriver.remote.webelement.WebElement (session=\"4ff5a548cf6e0d5b13da1c55b48057d4\", element=\"f.16087E2C503BF704248C65E5B8F11E10.d.2EFC687FDB66A5DF77F52D59872B4BDC.e.107\")>,\n",
              " <selenium.webdriver.remote.webelement.WebElement (session=\"4ff5a548cf6e0d5b13da1c55b48057d4\", element=\"f.16087E2C503BF704248C65E5B8F11E10.d.2EFC687FDB66A5DF77F52D59872B4BDC.e.108\")>,\n",
              " <selenium.webdriver.remote.webelement.WebElement (session=\"4ff5a548cf6e0d5b13da1c55b48057d4\", element=\"f.16087E2C503BF704248C65E5B8F11E10.d.2EFC687FDB66A5DF77F52D59872B4BDC.e.109\")>,\n",
              " <selenium.webdriver.remote.webelement.WebElement (session=\"4ff5a548cf6e0d5b13da1c55b48057d4\", element=\"f.16087E2C503BF704248C65E5B8F11E10.d.2EFC687FDB66A5DF77F52D59872B4BDC.e.110\")>,\n",
              " <selenium.webdriver.remote.webelement.WebElement (session=\"4ff5a548cf6e0d5b13da1c55b48057d4\", element=\"f.16087E2C503BF704248C65E5B8F11E10.d.2EFC687FDB66A5DF77F52D59872B4BDC.e.111\")>,\n",
              " <selenium.webdriver.remote.webelement.WebElement (session=\"4ff5a548cf6e0d5b13da1c55b48057d4\", element=\"f.16087E2C503BF704248C65E5B8F11E10.d.2EFC687FDB66A5DF77F52D59872B4BDC.e.112\")>,\n",
              " <selenium.webdriver.remote.webelement.WebElement (session=\"4ff5a548cf6e0d5b13da1c55b48057d4\", element=\"f.16087E2C503BF704248C65E5B8F11E10.d.2EFC687FDB66A5DF77F52D59872B4BDC.e.113\")>,\n",
              " <selenium.webdriver.remote.webelement.WebElement (session=\"4ff5a548cf6e0d5b13da1c55b48057d4\", element=\"f.16087E2C503BF704248C65E5B8F11E10.d.2EFC687FDB66A5DF77F52D59872B4BDC.e.114\")>,\n",
              " <selenium.webdriver.remote.webelement.WebElement (session=\"4ff5a548cf6e0d5b13da1c55b48057d4\", element=\"f.16087E2C503BF704248C65E5B8F11E10.d.2EFC687FDB66A5DF77F52D59872B4BDC.e.115\")>,\n",
              " <selenium.webdriver.remote.webelement.WebElement (session=\"4ff5a548cf6e0d5b13da1c55b48057d4\", element=\"f.16087E2C503BF704248C65E5B8F11E10.d.2EFC687FDB66A5DF77F52D59872B4BDC.e.116\")>,\n",
              " <selenium.webdriver.remote.webelement.WebElement (session=\"4ff5a548cf6e0d5b13da1c55b48057d4\", element=\"f.16087E2C503BF704248C65E5B8F11E10.d.2EFC687FDB66A5DF77F52D59872B4BDC.e.117\")>,\n",
              " <selenium.webdriver.remote.webelement.WebElement (session=\"4ff5a548cf6e0d5b13da1c55b48057d4\", element=\"f.16087E2C503BF704248C65E5B8F11E10.d.2EFC687FDB66A5DF77F52D59872B4BDC.e.118\")>,\n",
              " <selenium.webdriver.remote.webelement.WebElement (session=\"4ff5a548cf6e0d5b13da1c55b48057d4\", element=\"f.16087E2C503BF704248C65E5B8F11E10.d.2EFC687FDB66A5DF77F52D59872B4BDC.e.119\")>,\n",
              " <selenium.webdriver.remote.webelement.WebElement (session=\"4ff5a548cf6e0d5b13da1c55b48057d4\", element=\"f.16087E2C503BF704248C65E5B8F11E10.d.2EFC687FDB66A5DF77F52D59872B4BDC.e.120\")>]"
            ]
          },
          "execution_count": 10,
          "metadata": {},
          "output_type": "execute_result"
        }
      ],
      "source": [
        "title_list = driver.find_elements(By.XPATH,\"//a[@class='title-list-grid__item--link']\")\n",
        "title_list"
      ]
    },
    {
      "cell_type": "markdown",
      "source": [
        "This code snippet finds all the elements on the webpage that match the specified XPath expression. It then assigns these elements to the variable title_list."
      ],
      "metadata": {
        "id": "TzgdcC1yD0RM"
      }
    },
    {
      "cell_type": "markdown",
      "metadata": {
        "id": "V-qsNrtIsBEp"
      },
      "source": [
        "## **Fetching Movie URL's**"
      ]
    },
    {
      "cell_type": "code",
      "execution_count": null,
      "metadata": {
        "colab": {
          "base_uri": "https://localhost:8080/"
        },
        "id": "o8RovSn5rUke",
        "outputId": "8e7aedfc-e69f-45eb-b40a-e0ec2bd7671a"
      },
      "outputs": [
        {
          "data": {
            "text/plain": [
              "['https://www.justwatch.com/in/movie/untitled-shahid-kapoor-kriti-sanon-film',\n",
              " 'https://www.justwatch.com/in/movie/premalu',\n",
              " 'https://www.justwatch.com/in/movie/article-370',\n",
              " 'https://www.justwatch.com/in/movie/hanu-man',\n",
              " 'https://www.justwatch.com/in/movie/laapataa-ladies',\n",
              " 'https://www.justwatch.com/in/movie/oppenheimer',\n",
              " 'https://www.justwatch.com/in/movie/dune-part-two',\n",
              " 'https://www.justwatch.com/in/movie/the-crew-2024',\n",
              " 'https://www.justwatch.com/in/movie/anatomie-dune-chute',\n",
              " 'https://www.justwatch.com/in/movie/manjummel-boys',\n",
              " 'https://www.justwatch.com/in/movie/amar-singh-chamkila',\n",
              " 'https://www.justwatch.com/in/movie/anyone-but-you',\n",
              " 'https://www.justwatch.com/in/movie/animal-2022',\n",
              " 'https://www.justwatch.com/in/movie/fighter-2022',\n",
              " 'https://www.justwatch.com/in/movie/dune-2021',\n",
              " 'https://www.justwatch.com/in/movie/monkey-man',\n",
              " 'https://www.justwatch.com/in/movie/12th-fail',\n",
              " 'https://www.justwatch.com/in/movie/godzilla-x-kong-the-new-empire',\n",
              " 'https://www.justwatch.com/in/movie/kung-fu-panda-4',\n",
              " 'https://www.justwatch.com/in/movie/bramayugam',\n",
              " 'https://www.justwatch.com/in/movie/black-magic-2024',\n",
              " 'https://www.justwatch.com/in/movie/family-star',\n",
              " 'https://www.justwatch.com/in/movie/poor-things',\n",
              " 'https://www.justwatch.com/in/movie/gaami',\n",
              " 'https://www.justwatch.com/in/movie/tillu-square',\n",
              " 'https://www.justwatch.com/in/movie/the-beekeeper-2024',\n",
              " 'https://www.justwatch.com/in/movie/sam-bahadur',\n",
              " 'https://www.justwatch.com/in/movie/yodha-2022',\n",
              " 'https://www.justwatch.com/in/movie/dj-tillu',\n",
              " 'https://www.justwatch.com/in/movie/madame-web',\n",
              " 'https://www.justwatch.com/in/movie/365-days',\n",
              " 'https://www.justwatch.com/in/movie/road-house-2024',\n",
              " 'https://www.justwatch.com/in/movie/kung-fu-panda',\n",
              " 'https://www.justwatch.com/in/movie/salaar',\n",
              " 'https://www.justwatch.com/in/movie/777-charlie',\n",
              " 'https://www.justwatch.com/in/movie/madgaon-express',\n",
              " 'https://www.justwatch.com/in/movie/lover-2024',\n",
              " 'https://www.justwatch.com/in/movie/om-bheem-bush',\n",
              " 'https://www.justwatch.com/in/movie/bade-miyan-chote-miyan-2023',\n",
              " 'https://www.justwatch.com/in/movie/aadujeevitham',\n",
              " 'https://www.justwatch.com/in/movie/kampon',\n",
              " 'https://www.justwatch.com/in/movie/godzilla-vs-kong',\n",
              " 'https://www.justwatch.com/in/movie/harry-potter-and-the-philosophers-stone',\n",
              " 'https://www.justwatch.com/in/movie/the-kerala-story',\n",
              " 'https://www.justwatch.com/in/movie/aquaman-and-the-lost-kingdom',\n",
              " 'https://www.justwatch.com/in/movie/chaari-111',\n",
              " 'https://www.justwatch.com/in/movie/crakk-jeetegaa-toh-jiyegaa',\n",
              " 'https://www.justwatch.com/in/movie/joker-2019',\n",
              " 'https://www.justwatch.com/in/movie/argylle',\n",
              " 'https://www.justwatch.com/in/movie/maidaan',\n",
              " 'https://www.justwatch.com/in/movie/merry-christmas-2024',\n",
              " 'https://www.justwatch.com/in/movie/aattam',\n",
              " 'https://www.justwatch.com/in/movie/speak-no-evil-2022',\n",
              " 'https://www.justwatch.com/in/movie/joram',\n",
              " 'https://www.justwatch.com/in/movie/rebel-moon-part-two-the-scargiver',\n",
              " 'https://www.justwatch.com/in/movie/scoop-0',\n",
              " 'https://www.justwatch.com/in/movie/she-said',\n",
              " 'https://www.justwatch.com/in/movie/rebel-2024',\n",
              " 'https://www.justwatch.com/in/movie/migration',\n",
              " 'https://www.justwatch.com/in/movie/eagle-2024',\n",
              " 'https://www.justwatch.com/in/movie/rush-2013',\n",
              " 'https://www.justwatch.com/in/movie/pushpa',\n",
              " 'https://www.justwatch.com/in/movie/murder-mubarak',\n",
              " 'https://www.justwatch.com/in/movie/anchakkallakokkan',\n",
              " 'https://www.justwatch.com/in/movie/zara-hatke-zara-bach-ke',\n",
              " 'https://www.justwatch.com/in/movie/aavesham-2024',\n",
              " 'https://www.justwatch.com/in/movie/godzilla-minus-one',\n",
              " 'https://www.justwatch.com/in/movie/interstellar',\n",
              " 'https://www.justwatch.com/in/movie/tomb-raider',\n",
              " 'https://www.justwatch.com/in/movie/k-g-f-chapter-2',\n",
              " 'https://www.justwatch.com/in/movie/dunki',\n",
              " 'https://www.justwatch.com/in/movie/ravening',\n",
              " 'https://www.justwatch.com/in/movie/along-with-the-gods-the-two-worlds',\n",
              " 'https://www.justwatch.com/in/movie/wild-tales',\n",
              " 'https://www.justwatch.com/in/movie/yatra-2',\n",
              " 'https://www.justwatch.com/in/movie/dada-2023',\n",
              " 'https://www.justwatch.com/in/movie/silence-2-the-night-owl-bar-shootout',\n",
              " 'https://www.justwatch.com/in/movie/swatantra-veer-savarkar',\n",
              " 'https://www.justwatch.com/in/movie/new-york-i-love-you',\n",
              " 'https://www.justwatch.com/in/movie/anweshippin-kandethum',\n",
              " 'https://www.justwatch.com/in/movie/jawan',\n",
              " 'https://www.justwatch.com/in/movie/rockstar',\n",
              " 'https://www.justwatch.com/in/movie/all-india-rank',\n",
              " 'https://www.justwatch.com/in/movie/hatching',\n",
              " 'https://www.justwatch.com/in/movie/the-wolf-of-wall-street',\n",
              " 'https://www.justwatch.com/in/movie/john-wick',\n",
              " 'https://www.justwatch.com/in/movie/jatt-nuu-chudail-takri',\n",
              " 'https://www.justwatch.com/in/movie/the-holdovers',\n",
              " 'https://www.justwatch.com/in/movie/godzilla',\n",
              " 'https://www.justwatch.com/in/movie/ranam-2024',\n",
              " 'https://www.justwatch.com/in/movie/tee-yod',\n",
              " 'https://www.justwatch.com/in/movie/the-lord-of-the-rings-the-fellowship-of-the-ring',\n",
              " 'https://www.justwatch.com/in/movie/challengers',\n",
              " 'https://www.justwatch.com/in/movie/civil-war-2024-0',\n",
              " 'https://www.justwatch.com/in/movie/perfect-days',\n",
              " 'https://www.justwatch.com/in/movie/rocky-aur-rani-ki-prem-kahani',\n",
              " 'https://www.justwatch.com/in/movie/ghostbusters-afterlife',\n",
              " 'https://www.justwatch.com/in/movie/2012',\n",
              " 'https://www.justwatch.com/in/movie/siren-2024',\n",
              " 'https://www.justwatch.com/in/movie/bhimaa']"
            ]
          },
          "execution_count": 11,
          "metadata": {},
          "output_type": "execute_result"
        }
      ],
      "source": [
        "movies=[]\n",
        "for i in title_list:\n",
        "    name=i.get_attribute('href')\n",
        "    movies.append(name)\n",
        "movies"
      ]
    },
    {
      "cell_type": "markdown",
      "source": [
        "This code iterates through each element in title_list, extracts the 'href' attribute using get_attribute(), and appends it to the list movies. Finally, it returns the list of movie URLs."
      ],
      "metadata": {
        "id": "KjJ3CvkfEH1Y"
      }
    },
    {
      "cell_type": "markdown",
      "metadata": {
        "id": "Dam_ehZgvgmw"
      },
      "source": [
        "## **Scrapping Movie Title**"
      ]
    },
    {
      "cell_type": "code",
      "execution_count": null,
      "metadata": {
        "id": "1FGDXRKQxd1s"
      },
      "outputs": [],
      "source": [
        "def extract_movie_name_from_url(url):\n",
        "    return url.split('/')[-1]\n",
        "\n",
        "# Extract movie names from the URLs\n",
        "movie_names = [extract_movie_name_from_url(url) for url in movies]\n"
      ]
    },
    {
      "cell_type": "markdown",
      "source": [
        "\n",
        "This code defines a function extract_movie_name_from_url() that extracts the movie name from a given URL by splitting the URL at each '/' and returning the last part. Then, it applies this function to each URL in the movies list using a list comprehension, storing the results in movie_names."
      ],
      "metadata": {
        "id": "EviZb83bESLE"
      }
    },
    {
      "cell_type": "code",
      "execution_count": null,
      "metadata": {
        "colab": {
          "base_uri": "https://localhost:8080/"
        },
        "id": "K-qtrMMMvL_W",
        "outputId": "8c0c24cc-0828-4aa8-e432-176a8a77e04c"
      },
      "outputs": [
        {
          "data": {
            "text/plain": [
              "['untitled-shahid-kapoor-kriti-sanon-film',\n",
              " 'premalu',\n",
              " 'article-370',\n",
              " 'hanu-man',\n",
              " 'laapataa-ladies',\n",
              " 'oppenheimer',\n",
              " 'dune-part-two',\n",
              " 'the-crew-2024',\n",
              " 'anatomie-dune-chute',\n",
              " 'manjummel-boys',\n",
              " 'amar-singh-chamkila',\n",
              " 'anyone-but-you',\n",
              " 'animal-2022',\n",
              " 'fighter-2022',\n",
              " 'dune-2021',\n",
              " 'monkey-man',\n",
              " '12th-fail',\n",
              " 'godzilla-x-kong-the-new-empire',\n",
              " 'kung-fu-panda-4',\n",
              " 'bramayugam',\n",
              " 'black-magic-2024',\n",
              " 'family-star',\n",
              " 'poor-things',\n",
              " 'gaami',\n",
              " 'tillu-square',\n",
              " 'the-beekeeper-2024',\n",
              " 'sam-bahadur',\n",
              " 'yodha-2022',\n",
              " 'dj-tillu',\n",
              " 'madame-web',\n",
              " '365-days',\n",
              " 'road-house-2024',\n",
              " 'kung-fu-panda',\n",
              " 'salaar',\n",
              " '777-charlie',\n",
              " 'madgaon-express',\n",
              " 'lover-2024',\n",
              " 'om-bheem-bush',\n",
              " 'bade-miyan-chote-miyan-2023',\n",
              " 'aadujeevitham',\n",
              " 'kampon',\n",
              " 'godzilla-vs-kong',\n",
              " 'harry-potter-and-the-philosophers-stone',\n",
              " 'the-kerala-story',\n",
              " 'aquaman-and-the-lost-kingdom',\n",
              " 'chaari-111',\n",
              " 'crakk-jeetegaa-toh-jiyegaa',\n",
              " 'joker-2019',\n",
              " 'argylle',\n",
              " 'maidaan',\n",
              " 'merry-christmas-2024',\n",
              " 'aattam',\n",
              " 'speak-no-evil-2022',\n",
              " 'joram',\n",
              " 'rebel-moon-part-two-the-scargiver',\n",
              " 'scoop-0',\n",
              " 'she-said',\n",
              " 'rebel-2024',\n",
              " 'migration',\n",
              " 'eagle-2024',\n",
              " 'rush-2013',\n",
              " 'pushpa',\n",
              " 'murder-mubarak',\n",
              " 'anchakkallakokkan',\n",
              " 'zara-hatke-zara-bach-ke',\n",
              " 'aavesham-2024',\n",
              " 'godzilla-minus-one',\n",
              " 'interstellar',\n",
              " 'tomb-raider',\n",
              " 'k-g-f-chapter-2',\n",
              " 'dunki',\n",
              " 'ravening',\n",
              " 'along-with-the-gods-the-two-worlds',\n",
              " 'wild-tales',\n",
              " 'yatra-2',\n",
              " 'dada-2023',\n",
              " 'silence-2-the-night-owl-bar-shootout',\n",
              " 'swatantra-veer-savarkar',\n",
              " 'new-york-i-love-you',\n",
              " 'anweshippin-kandethum',\n",
              " 'jawan',\n",
              " 'rockstar',\n",
              " 'all-india-rank',\n",
              " 'hatching',\n",
              " 'the-wolf-of-wall-street',\n",
              " 'john-wick',\n",
              " 'jatt-nuu-chudail-takri',\n",
              " 'the-holdovers',\n",
              " 'godzilla',\n",
              " 'ranam-2024',\n",
              " 'tee-yod',\n",
              " 'the-lord-of-the-rings-the-fellowship-of-the-ring',\n",
              " 'challengers',\n",
              " 'civil-war-2024-0',\n",
              " 'perfect-days',\n",
              " 'rocky-aur-rani-ki-prem-kahani',\n",
              " 'ghostbusters-afterlife',\n",
              " '2012',\n",
              " 'siren-2024',\n",
              " 'bhimaa']"
            ]
          },
          "execution_count": 13,
          "metadata": {},
          "output_type": "execute_result"
        }
      ],
      "source": [
        "movie_names"
      ]
    },
    {
      "cell_type": "markdown",
      "source": [
        "The Movie names are listed above."
      ],
      "metadata": {
        "id": "rQyf5Ba7EUdo"
      }
    },
    {
      "cell_type": "markdown",
      "metadata": {
        "id": "VEg1U1uPzGoj"
      },
      "source": [
        "## **Scrapping release Year**"
      ]
    },
    {
      "cell_type": "code",
      "execution_count": null,
      "metadata": {
        "colab": {
          "base_uri": "https://localhost:8080/"
        },
        "id": "wLqLKOvP5Gmt",
        "outputId": "52833d5b-5411-4333-d19e-f8c7f38fc472"
      },
      "outputs": [
        {
          "name": "stdout",
          "output_type": "stream",
          "text": [
            "{'Movie URL': 'https://www.justwatch.com/in/movie/untitled-shahid-kapoor-kriti-sanon-film', 'Release Year': '2024'}\n",
            "{'Movie URL': 'https://www.justwatch.com/in/movie/premalu', 'Release Year': '2024'}\n",
            "{'Movie URL': 'https://www.justwatch.com/in/movie/article-370', 'Release Year': '2024'}\n",
            "{'Movie URL': 'https://www.justwatch.com/in/movie/hanu-man', 'Release Year': '2024'}\n",
            "{'Movie URL': 'https://www.justwatch.com/in/movie/laapataa-ladies', 'Release Year': '2024'}\n",
            "{'Movie URL': 'https://www.justwatch.com/in/movie/oppenheimer', 'Release Year': '2023'}\n",
            "{'Movie URL': 'https://www.justwatch.com/in/movie/dune-part-two', 'Release Year': '2024'}\n",
            "{'Movie URL': 'https://www.justwatch.com/in/movie/the-crew-2024', 'Release Year': '2024'}\n",
            "{'Movie URL': 'https://www.justwatch.com/in/movie/anatomie-dune-chute', 'Release Year': '2023'}\n",
            "{'Movie URL': 'https://www.justwatch.com/in/movie/manjummel-boys', 'Release Year': '2024'}\n",
            "{'Movie URL': 'https://www.justwatch.com/in/movie/amar-singh-chamkila', 'Release Year': '2024'}\n",
            "{'Movie URL': 'https://www.justwatch.com/in/movie/anyone-but-you', 'Release Year': '2024'}\n",
            "{'Movie URL': 'https://www.justwatch.com/in/movie/animal-2022', 'Release Year': '2023'}\n",
            "{'Movie URL': 'https://www.justwatch.com/in/movie/fighter-2022', 'Release Year': '2024'}\n",
            "{'Movie URL': 'https://www.justwatch.com/in/movie/dune-2021', 'Release Year': '2021'}\n",
            "{'Movie URL': 'https://www.justwatch.com/in/movie/monkey-man', 'Release Year': '2024'}\n",
            "{'Movie URL': 'https://www.justwatch.com/in/movie/12th-fail', 'Release Year': '2023'}\n",
            "{'Movie URL': 'https://www.justwatch.com/in/movie/godzilla-x-kong-the-new-empire', 'Release Year': '2024'}\n",
            "{'Movie URL': 'https://www.justwatch.com/in/movie/kung-fu-panda-4', 'Release Year': '2024'}\n",
            "{'Movie URL': 'https://www.justwatch.com/in/movie/bramayugam', 'Release Year': 'Release Year not found'}\n",
            "{'Movie URL': 'https://www.justwatch.com/in/movie/black-magic-2024', 'Release Year': 'Release Year not found'}\n",
            "{'Movie URL': 'https://www.justwatch.com/in/movie/family-star', 'Release Year': 'Release Year not found'}\n",
            "{'Movie URL': 'https://www.justwatch.com/in/movie/poor-things', 'Release Year': 'Release Year not found'}\n",
            "{'Movie URL': 'https://www.justwatch.com/in/movie/gaami', 'Release Year': '2024'}\n",
            "{'Movie URL': 'https://www.justwatch.com/in/movie/tillu-square', 'Release Year': 'Release Year not found'}\n",
            "{'Movie URL': 'https://www.justwatch.com/in/movie/the-beekeeper-2024', 'Release Year': 'Release Year not found'}\n",
            "{'Movie URL': 'https://www.justwatch.com/in/movie/sam-bahadur', 'Release Year': 'Release Year not found'}\n",
            "{'Movie URL': 'https://www.justwatch.com/in/movie/yodha-2022', 'Release Year': 'Release Year not found'}\n",
            "{'Movie URL': 'https://www.justwatch.com/in/movie/dj-tillu', 'Release Year': 'Release Year not found'}\n",
            "{'Movie URL': 'https://www.justwatch.com/in/movie/madame-web', 'Release Year': '2024'}\n",
            "{'Movie URL': 'https://www.justwatch.com/in/movie/365-days', 'Release Year': 'Release Year not found'}\n",
            "{'Movie URL': 'https://www.justwatch.com/in/movie/road-house-2024', 'Release Year': 'Release Year not found'}\n",
            "{'Movie URL': 'https://www.justwatch.com/in/movie/kung-fu-panda', 'Release Year': 'Release Year not found'}\n",
            "{'Movie URL': 'https://www.justwatch.com/in/movie/salaar', 'Release Year': 'Release Year not found'}\n",
            "{'Movie URL': 'https://www.justwatch.com/in/movie/777-charlie', 'Release Year': 'Release Year not found'}\n",
            "{'Movie URL': 'https://www.justwatch.com/in/movie/madgaon-express', 'Release Year': 'Release Year not found'}\n",
            "{'Movie URL': 'https://www.justwatch.com/in/movie/lover-2024', 'Release Year': '2024'}\n",
            "{'Movie URL': 'https://www.justwatch.com/in/movie/om-bheem-bush', 'Release Year': 'Release Year not found'}\n",
            "{'Movie URL': 'https://www.justwatch.com/in/movie/bade-miyan-chote-miyan-2023', 'Release Year': 'Release Year not found'}\n",
            "{'Movie URL': 'https://www.justwatch.com/in/movie/aadujeevitham', 'Release Year': 'Release Year not found'}\n",
            "{'Movie URL': 'https://www.justwatch.com/in/movie/kampon', 'Release Year': 'Release Year not found'}\n",
            "{'Movie URL': 'https://www.justwatch.com/in/movie/godzilla-vs-kong', 'Release Year': 'Release Year not found'}\n",
            "{'Movie URL': 'https://www.justwatch.com/in/movie/harry-potter-and-the-philosophers-stone', 'Release Year': 'Release Year not found'}\n",
            "{'Movie URL': 'https://www.justwatch.com/in/movie/the-kerala-story', 'Release Year': '2023'}\n",
            "{'Movie URL': 'https://www.justwatch.com/in/movie/aquaman-and-the-lost-kingdom', 'Release Year': 'Release Year not found'}\n",
            "{'Movie URL': 'https://www.justwatch.com/in/movie/chaari-111', 'Release Year': 'Release Year not found'}\n",
            "{'Movie URL': 'https://www.justwatch.com/in/movie/crakk-jeetegaa-toh-jiyegaa', 'Release Year': 'Release Year not found'}\n",
            "{'Movie URL': 'https://www.justwatch.com/in/movie/joker-2019', 'Release Year': 'Release Year not found'}\n",
            "{'Movie URL': 'https://www.justwatch.com/in/movie/argylle', 'Release Year': 'Release Year not found'}\n",
            "{'Movie URL': 'https://www.justwatch.com/in/movie/maidaan', 'Release Year': 'Release Year not found'}\n",
            "{'Movie URL': 'https://www.justwatch.com/in/movie/merry-christmas-2024', 'Release Year': '2024'}\n",
            "{'Movie URL': 'https://www.justwatch.com/in/movie/aattam', 'Release Year': 'Release Year not found'}\n",
            "{'Movie URL': 'https://www.justwatch.com/in/movie/speak-no-evil-2022', 'Release Year': 'Release Year not found'}\n",
            "{'Movie URL': 'https://www.justwatch.com/in/movie/joram', 'Release Year': 'Release Year not found'}\n",
            "{'Movie URL': 'https://www.justwatch.com/in/movie/rebel-moon-part-two-the-scargiver', 'Release Year': 'Release Year not found'}\n",
            "{'Movie URL': 'https://www.justwatch.com/in/movie/scoop-0', 'Release Year': 'Release Year not found'}\n",
            "{'Movie URL': 'https://www.justwatch.com/in/movie/she-said', 'Release Year': 'Release Year not found'}\n",
            "{'Movie URL': 'https://www.justwatch.com/in/movie/rebel-2024', 'Release Year': '2024'}\n",
            "{'Movie URL': 'https://www.justwatch.com/in/movie/migration', 'Release Year': 'Release Year not found'}\n",
            "{'Movie URL': 'https://www.justwatch.com/in/movie/eagle-2024', 'Release Year': 'Release Year not found'}\n",
            "{'Movie URL': 'https://www.justwatch.com/in/movie/rush-2013', 'Release Year': 'Release Year not found'}\n",
            "{'Movie URL': 'https://www.justwatch.com/in/movie/pushpa', 'Release Year': 'Release Year not found'}\n",
            "{'Movie URL': 'https://www.justwatch.com/in/movie/murder-mubarak', 'Release Year': '2024'}\n",
            "{'Movie URL': 'https://www.justwatch.com/in/movie/anchakkallakokkan', 'Release Year': 'Release Year not found'}\n",
            "{'Movie URL': 'https://www.justwatch.com/in/movie/zara-hatke-zara-bach-ke', 'Release Year': 'Release Year not found'}\n",
            "{'Movie URL': 'https://www.justwatch.com/in/movie/aavesham-2024', 'Release Year': 'Release Year not found'}\n",
            "{'Movie URL': 'https://www.justwatch.com/in/movie/godzilla-minus-one', 'Release Year': 'Release Year not found'}\n",
            "{'Movie URL': 'https://www.justwatch.com/in/movie/interstellar', 'Release Year': 'Release Year not found'}\n",
            "{'Movie URL': 'https://www.justwatch.com/in/movie/tomb-raider', 'Release Year': 'Release Year not found'}\n",
            "{'Movie URL': 'https://www.justwatch.com/in/movie/k-g-f-chapter-2', 'Release Year': '2022'}\n",
            "{'Movie URL': 'https://www.justwatch.com/in/movie/dunki', 'Release Year': 'Release Year not found'}\n",
            "{'Movie URL': 'https://www.justwatch.com/in/movie/ravening', 'Release Year': 'Release Year not found'}\n",
            "{'Movie URL': 'https://www.justwatch.com/in/movie/along-with-the-gods-the-two-worlds', 'Release Year': 'Release Year not found'}\n",
            "{'Movie URL': 'https://www.justwatch.com/in/movie/wild-tales', 'Release Year': 'Release Year not found'}\n",
            "{'Movie URL': 'https://www.justwatch.com/in/movie/yatra-2', 'Release Year': 'Release Year not found'}\n",
            "{'Movie URL': 'https://www.justwatch.com/in/movie/dada-2023', 'Release Year': 'Release Year not found'}\n",
            "{'Movie URL': 'https://www.justwatch.com/in/movie/silence-2-the-night-owl-bar-shootout', 'Release Year': '2024'}\n",
            "{'Movie URL': 'https://www.justwatch.com/in/movie/swatantra-veer-savarkar', 'Release Year': 'Release Year not found'}\n",
            "{'Movie URL': 'https://www.justwatch.com/in/movie/new-york-i-love-you', 'Release Year': 'Release Year not found'}\n",
            "{'Movie URL': 'https://www.justwatch.com/in/movie/anweshippin-kandethum', 'Release Year': 'Release Year not found'}\n",
            "{'Movie URL': 'https://www.justwatch.com/in/movie/jawan', 'Release Year': 'Release Year not found'}\n",
            "{'Movie URL': 'https://www.justwatch.com/in/movie/rockstar', 'Release Year': 'Release Year not found'}\n",
            "{'Movie URL': 'https://www.justwatch.com/in/movie/all-india-rank', 'Release Year': 'Release Year not found'}\n",
            "{'Movie URL': 'https://www.justwatch.com/in/movie/hatching', 'Release Year': '2022'}\n",
            "{'Movie URL': 'https://www.justwatch.com/in/movie/the-wolf-of-wall-street', 'Release Year': 'Release Year not found'}\n",
            "{'Movie URL': 'https://www.justwatch.com/in/movie/john-wick', 'Release Year': 'Release Year not found'}\n",
            "{'Movie URL': 'https://www.justwatch.com/in/movie/jatt-nuu-chudail-takri', 'Release Year': 'Release Year not found'}\n",
            "{'Movie URL': 'https://www.justwatch.com/in/movie/the-holdovers', 'Release Year': 'Release Year not found'}\n",
            "{'Movie URL': 'https://www.justwatch.com/in/movie/godzilla', 'Release Year': 'Release Year not found'}\n",
            "{'Movie URL': 'https://www.justwatch.com/in/movie/ranam-2024', 'Release Year': 'Release Year not found'}\n",
            "{'Movie URL': 'https://www.justwatch.com/in/movie/tee-yod', 'Release Year': '2023'}\n",
            "{'Movie URL': 'https://www.justwatch.com/in/movie/the-lord-of-the-rings-the-fellowship-of-the-ring', 'Release Year': 'Release Year not found'}\n",
            "{'Movie URL': 'https://www.justwatch.com/in/movie/challengers', 'Release Year': 'Release Year not found'}\n",
            "{'Movie URL': 'https://www.justwatch.com/in/movie/civil-war-2024-0', 'Release Year': 'Release Year not found'}\n",
            "{'Movie URL': 'https://www.justwatch.com/in/movie/perfect-days', 'Release Year': 'Release Year not found'}\n",
            "{'Movie URL': 'https://www.justwatch.com/in/movie/rocky-aur-rani-ki-prem-kahani', 'Release Year': 'Release Year not found'}\n",
            "{'Movie URL': 'https://www.justwatch.com/in/movie/ghostbusters-afterlife', 'Release Year': '2021'}\n",
            "{'Movie URL': 'https://www.justwatch.com/in/movie/2012', 'Release Year': 'Release Year not found'}\n",
            "{'Movie URL': 'https://www.justwatch.com/in/movie/siren-2024', 'Release Year': 'Release Year not found'}\n",
            "{'Movie URL': 'https://www.justwatch.com/in/movie/bhimaa', 'Release Year': 'Release Year not found'}\n"
          ]
        }
      ],
      "source": [
        "Release_year=[]\n",
        "for movie_url in movies:\n",
        "    driver.get(movie_url)\n",
        "\n",
        "    try:\n",
        "        # Find the release year element\n",
        "        release_year_element = driver.find_element(By.XPATH, \"//span[@class='text-muted']\")\n",
        "        release_year = release_year_element.text.strip(\"()\")\n",
        "    except:\n",
        "        release_year = \"Release Year not found\"\n",
        "    Release_year.append({\"Movie URL\": movie_url, \"Release Year\": release_year})\n",
        "\n",
        "for cur_movie in Release_year:\n",
        "  print(cur_movie)"
      ]
    },
    {
      "cell_type": "markdown",
      "source": [
        "\n",
        "This code iterates through each movie URL in the movies list. For each URL, it navigates to the page using driver.get(movie_url). Then, it attempts to find the release year element on the page using an XPath expression and extracts the text."
      ],
      "metadata": {
        "id": "AeBuYIUyEiqM"
      }
    },
    {
      "cell_type": "code",
      "execution_count": null,
      "metadata": {
        "id": "WLPQarMptK-c"
      },
      "outputs": [],
      "source": [
        "# Extract release years from the Release_year list\n",
        "movie_release_years = [year[\"Release Year\"] for year in Release_year]"
      ]
    },
    {
      "cell_type": "markdown",
      "source": [
        "\n",
        "This code extracts the release years from the Release_year list by iterating through each dictionary in the list and extracting the \"Release Year\" value. It stores these release years in the movie_release_years list using a list comprehension."
      ],
      "metadata": {
        "id": "HJc6ZfLkEt-M"
      }
    },
    {
      "cell_type": "code",
      "execution_count": null,
      "metadata": {
        "colab": {
          "base_uri": "https://localhost:8080/"
        },
        "id": "FpUUxzuQvXMz",
        "outputId": "f12c6103-22b3-491a-e1d8-dda077dc3e66"
      },
      "outputs": [
        {
          "data": {
            "text/plain": [
              "['2024',\n",
              " '2024',\n",
              " '2024',\n",
              " '2024',\n",
              " '2024',\n",
              " '2023',\n",
              " '2024',\n",
              " '2024',\n",
              " '2023',\n",
              " '2024',\n",
              " '2024',\n",
              " '2024',\n",
              " '2023',\n",
              " '2024',\n",
              " '2021',\n",
              " '2024',\n",
              " '2023',\n",
              " '2024',\n",
              " '2024',\n",
              " 'Release Year not found',\n",
              " 'Release Year not found',\n",
              " 'Release Year not found',\n",
              " 'Release Year not found',\n",
              " '2024',\n",
              " 'Release Year not found',\n",
              " 'Release Year not found',\n",
              " 'Release Year not found',\n",
              " 'Release Year not found',\n",
              " 'Release Year not found',\n",
              " '2024',\n",
              " 'Release Year not found',\n",
              " 'Release Year not found',\n",
              " 'Release Year not found',\n",
              " 'Release Year not found',\n",
              " 'Release Year not found',\n",
              " 'Release Year not found',\n",
              " '2024',\n",
              " 'Release Year not found',\n",
              " 'Release Year not found',\n",
              " 'Release Year not found',\n",
              " 'Release Year not found',\n",
              " 'Release Year not found',\n",
              " 'Release Year not found',\n",
              " '2023',\n",
              " 'Release Year not found',\n",
              " 'Release Year not found',\n",
              " 'Release Year not found',\n",
              " 'Release Year not found',\n",
              " 'Release Year not found',\n",
              " 'Release Year not found',\n",
              " '2024',\n",
              " 'Release Year not found',\n",
              " 'Release Year not found',\n",
              " 'Release Year not found',\n",
              " 'Release Year not found',\n",
              " 'Release Year not found',\n",
              " 'Release Year not found',\n",
              " '2024',\n",
              " 'Release Year not found',\n",
              " 'Release Year not found',\n",
              " 'Release Year not found',\n",
              " 'Release Year not found',\n",
              " '2024',\n",
              " 'Release Year not found',\n",
              " 'Release Year not found',\n",
              " 'Release Year not found',\n",
              " 'Release Year not found',\n",
              " 'Release Year not found',\n",
              " 'Release Year not found',\n",
              " '2022',\n",
              " 'Release Year not found',\n",
              " 'Release Year not found',\n",
              " 'Release Year not found',\n",
              " 'Release Year not found',\n",
              " 'Release Year not found',\n",
              " 'Release Year not found',\n",
              " '2024',\n",
              " 'Release Year not found',\n",
              " 'Release Year not found',\n",
              " 'Release Year not found',\n",
              " 'Release Year not found',\n",
              " 'Release Year not found',\n",
              " 'Release Year not found',\n",
              " '2022',\n",
              " 'Release Year not found',\n",
              " 'Release Year not found',\n",
              " 'Release Year not found',\n",
              " 'Release Year not found',\n",
              " 'Release Year not found',\n",
              " 'Release Year not found',\n",
              " '2023',\n",
              " 'Release Year not found',\n",
              " 'Release Year not found',\n",
              " 'Release Year not found',\n",
              " 'Release Year not found',\n",
              " 'Release Year not found',\n",
              " '2021',\n",
              " 'Release Year not found',\n",
              " 'Release Year not found',\n",
              " 'Release Year not found']"
            ]
          },
          "execution_count": 16,
          "metadata": {},
          "output_type": "execute_result"
        }
      ],
      "source": [
        "movie_release_years"
      ]
    },
    {
      "cell_type": "markdown",
      "source": [
        "The Movie release years are listed above."
      ],
      "metadata": {
        "id": "AS261qOkEvpc"
      }
    },
    {
      "cell_type": "markdown",
      "metadata": {
        "id": "aqzhL8STqaMX"
      },
      "source": [
        "## **Scrapping Genres**"
      ]
    },
    {
      "cell_type": "code",
      "execution_count": null,
      "metadata": {
        "colab": {
          "base_uri": "https://localhost:8080/"
        },
        "id": "NYGVsfKjrDWr",
        "outputId": "b590b955-0c0c-4c41-ec08-7b7643889665"
      },
      "outputs": [
        {
          "name": "stderr",
          "output_type": "stream",
          "text": [
            "C:\\Users\\Deepika\\AppData\\Local\\Temp\\ipykernel_13692\\1615457247.py:9: DeprecationWarning: The 'text' argument to find()-type methods is deprecated. Use 'string' instead.\n",
            "  genres_heading = soup.find('h3', class_='detail-infos__subheading', text='Genres')\n"
          ]
        },
        {
          "name": "stdout",
          "output_type": "stream",
          "text": [
            "['Action & Adventure', 'Drama', 'Mystery & Thriller', 'Mystery & Thriller', 'Drama', 'Action & Adventure', 'Animation', 'Action & Adventure', 'Comedy', 'Kids & Family', 'Fantasy', 'Comedy', 'Drama', 'Mystery & Thriller', 'Crime', 'Action & Adventure', 'Animation', 'Kids & Family', 'Comedy', 'Fantasy', 'Horror', 'Mystery & Thriller', 'Crime', 'Drama', 'Action & Adventure', 'Comedy', 'Mystery & Thriller', 'Drama', 'Comedy', 'Mystery & Thriller', 'Romance', 'Comedy', 'Drama', 'Comedy', 'Drama', 'Romance', 'Made in Europe', 'Mystery & Thriller', 'Action & Adventure', 'Crime', 'Action & Adventure', 'Mystery & Thriller', 'War & Military', 'Drama']\n"
          ]
        }
      ],
      "source": [
        "#scrapping genre\n",
        "def fetch_genre(url):\n",
        "    response = requests.get(url)\n",
        "    if response.status_code == 200:\n",
        "        soup = BeautifulSoup(response.content, 'html.parser')\n",
        "\n",
        "        # Find the genres using the provided XPath expression\n",
        "        genres_heading = soup.find('h3', class_='detail-infos__subheading', text='Genres')\n",
        "        if genres_heading:\n",
        "            genres_element = genres_heading.find_next_sibling('div', class_='detail-infos__value')\n",
        "            genres = genres_element.text.strip()\n",
        "\n",
        "            # Split the genres into a list\n",
        "            genres_list = [genre.strip() for genre in genres.split(',')]\n",
        "            return genres_list\n",
        "    return None\n",
        "\n",
        "# Fetch genres for each URL in 'movies' and store in a new list 'all_genres'\n",
        "movie_genres = []\n",
        "\n",
        "for movie_url in movies:\n",
        "    genres = fetch_genre(movie_url)\n",
        "    if genres:\n",
        "        movie_genres.extend(genres)\n",
        "\n",
        "# Print the list of all genres\n",
        "print(movie_genres)"
      ]
    },
    {
      "cell_type": "markdown",
      "source": [
        "This code defines a function fetch_genre(url) to scrape the genres of movies from a given URL. It uses the provided XPath expression to locate the genres on the webpage and extracts them."
      ],
      "metadata": {
        "id": "tSCS9RwPFQG3"
      }
    },
    {
      "cell_type": "code",
      "execution_count": null,
      "metadata": {
        "colab": {
          "base_uri": "https://localhost:8080/"
        },
        "id": "CKKsLbEIve5p",
        "outputId": "c5a7f9e9-915b-41d2-a239-d03a56c1eeaa"
      },
      "outputs": [
        {
          "data": {
            "text/plain": [
              "['Action & Adventure',\n",
              " 'Drama',\n",
              " 'Mystery & Thriller',\n",
              " 'Mystery & Thriller',\n",
              " 'Drama',\n",
              " 'Action & Adventure',\n",
              " 'Animation',\n",
              " 'Action & Adventure',\n",
              " 'Comedy',\n",
              " 'Kids & Family',\n",
              " 'Fantasy',\n",
              " 'Comedy',\n",
              " 'Drama',\n",
              " 'Mystery & Thriller',\n",
              " 'Crime',\n",
              " 'Action & Adventure',\n",
              " 'Animation',\n",
              " 'Kids & Family',\n",
              " 'Comedy',\n",
              " 'Fantasy',\n",
              " 'Horror',\n",
              " 'Mystery & Thriller',\n",
              " 'Crime',\n",
              " 'Drama',\n",
              " 'Action & Adventure',\n",
              " 'Comedy',\n",
              " 'Mystery & Thriller',\n",
              " 'Drama',\n",
              " 'Comedy',\n",
              " 'Mystery & Thriller',\n",
              " 'Romance',\n",
              " 'Comedy',\n",
              " 'Drama',\n",
              " 'Comedy',\n",
              " 'Drama',\n",
              " 'Romance',\n",
              " 'Made in Europe',\n",
              " 'Mystery & Thriller',\n",
              " 'Action & Adventure',\n",
              " 'Crime',\n",
              " 'Action & Adventure',\n",
              " 'Mystery & Thriller',\n",
              " 'War & Military',\n",
              " 'Drama']"
            ]
          },
          "execution_count": 18,
          "metadata": {},
          "output_type": "execute_result"
        }
      ],
      "source": [
        "movie_genres"
      ]
    },
    {
      "cell_type": "markdown",
      "source": [
        "The Movie Genres are listed above"
      ],
      "metadata": {
        "id": "LSfJslFkFRpu"
      }
    },
    {
      "cell_type": "markdown",
      "metadata": {
        "id": "UOof6-0xFuf6"
      },
      "source": [
        "## **Scrapping IMBD Rating**"
      ]
    },
    {
      "cell_type": "code",
      "execution_count": null,
      "metadata": {
        "colab": {
          "base_uri": "https://localhost:8080/"
        },
        "id": "kmyMu1Oxk9jI",
        "outputId": "e322d0b4-7ab9-4d9a-ad2c-a976582d0157"
      },
      "outputs": [
        {
          "name": "stderr",
          "output_type": "stream",
          "text": [
            "C:\\Users\\Deepika\\AppData\\Local\\Temp\\ipykernel_13692\\899411400.py:8: DeprecationWarning: The 'text' argument to find()-type methods is deprecated. Use 'string' instead.\n",
            "  imdb_heading = soup.find('h3', class_='detail-infos__subheading', text='Rating')\n"
          ]
        }
      ],
      "source": [
        "#scrapping imdb rating\n",
        "def fetch_imdb(url):\n",
        "    response = requests.get(url)\n",
        "    if response.status_code == 200:\n",
        "        soup = BeautifulSoup(response.content, 'html.parser')\n",
        "\n",
        "        # Find the genres using the provided XPath expression\n",
        "        imdb_heading = soup.find('h3', class_='detail-infos__subheading', text='Rating')\n",
        "        if imdb_heading:\n",
        "            imdb_element = imdb_heading.find_next_sibling('div', class_='detail-infos__value')\n",
        "            imdb = imdb_element.text.strip()\n",
        "\n",
        "            # Split the genres into a list\n",
        "            imdb_list = [imdb.strip() for imdb in imdb.split(',')]\n",
        "            return imdb_list\n",
        "    return None\n",
        "\n",
        "# Fetch genres for each URL in 'movies' and store in a new list 'all_genres'\n",
        "movie_imdb = []\n",
        "\n",
        "for movie_url in movies:\n",
        "    imdb = fetch_imdb(movie_url)\n",
        "    if imdb:\n",
        "        movie_imdb.extend(imdb)"
      ]
    },
    {
      "cell_type": "markdown",
      "source": [
        "It finds the IMDb rating using the correct XPath expression and return it as a single numerical value."
      ],
      "metadata": {
        "id": "hkYu8RljFu4j"
      }
    },
    {
      "cell_type": "code",
      "execution_count": null,
      "metadata": {
        "colab": {
          "base_uri": "https://localhost:8080/"
        },
        "id": "4xGYsg_vqzYC",
        "outputId": "810d2633-465c-4762-d2d3-0d2a20dfe0ee"
      },
      "outputs": [
        {
          "data": {
            "text/plain": [
              "['6.4  (47k)',\n",
              " '8.0  (8k)',\n",
              " '8.1  (15k)',\n",
              " '7.9  (23k)',\n",
              " '8.6  (7k)',\n",
              " '9.0  (111k)',\n",
              " '7.0  (1k)',\n",
              " '6.2  (112k)',\n",
              " '5.8',\n",
              " '5.2',\n",
              " '6.7  (2k)',\n",
              " '7.6  (87k)',\n",
              " '8.3  (150k)',\n",
              " '7.8  (13k)',\n",
              " '7.4  (739k)',\n",
              " '7.6  (51k)']"
            ]
          },
          "execution_count": 20,
          "metadata": {},
          "output_type": "execute_result"
        }
      ],
      "source": [
        "movie_imdb"
      ]
    },
    {
      "cell_type": "markdown",
      "source": [
        "The IMDb ratings are listed above."
      ],
      "metadata": {
        "id": "nPzwr2HTF0Ye"
      }
    },
    {
      "cell_type": "markdown",
      "metadata": {
        "id": "IrJlIsBWrO2r"
      },
      "source": [
        "## **Fetching Streaming Service Details**"
      ]
    },
    {
      "cell_type": "code",
      "execution_count": null,
      "metadata": {
        "colab": {
          "base_uri": "https://localhost:8080/"
        },
        "id": "Yk72jDLZu7EZ",
        "outputId": "80cd1882-0ff2-4067-b582-1b39fa01b1d9"
      },
      "outputs": [
        {
          "name": "stdout",
          "output_type": "stream",
          "text": [
            "{'Movie URL': 'https://www.justwatch.com/in/movie/untitled-shahid-kapoor-kriti-sanon-film', 'Provider Name': 'Provider not found'}\n",
            "{'Movie URL': 'https://www.justwatch.com/in/movie/premalu', 'Provider Name': 'aha'}\n",
            "{'Movie URL': 'https://www.justwatch.com/in/movie/article-370', 'Provider Name': 'Provider not found'}\n",
            "{'Movie URL': 'https://www.justwatch.com/in/movie/hanu-man', 'Provider Name': 'Provider not found'}\n",
            "{'Movie URL': 'https://www.justwatch.com/in/movie/laapataa-ladies', 'Provider Name': 'Provider not found'}\n",
            "{'Movie URL': 'https://www.justwatch.com/in/movie/oppenheimer', 'Provider Name': 'Provider not found'}\n",
            "{'Movie URL': 'https://www.justwatch.com/in/movie/dune-part-two', 'Provider Name': 'Provider not found'}\n",
            "{'Movie URL': 'https://www.justwatch.com/in/movie/the-crew-2024', 'Provider Name': 'Provider not found'}\n",
            "{'Movie URL': 'https://www.justwatch.com/in/movie/anatomie-dune-chute', 'Provider Name': 'Amazon Prime Video'}\n",
            "{'Movie URL': 'https://www.justwatch.com/in/movie/manjummel-boys', 'Provider Name': 'Provider not found'}\n",
            "{'Movie URL': 'https://www.justwatch.com/in/movie/amar-singh-chamkila', 'Provider Name': 'Provider not found'}\n",
            "{'Movie URL': 'https://www.justwatch.com/in/movie/anyone-but-you', 'Provider Name': 'Provider not found'}\n",
            "{'Movie URL': 'https://www.justwatch.com/in/movie/animal-2022', 'Provider Name': 'Provider not found'}\n",
            "{'Movie URL': 'https://www.justwatch.com/in/movie/fighter-2022', 'Provider Name': 'Provider not found'}\n",
            "{'Movie URL': 'https://www.justwatch.com/in/movie/dune-2021', 'Provider Name': 'Provider not found'}\n",
            "{'Movie URL': 'https://www.justwatch.com/in/movie/monkey-man', 'Provider Name': 'Provider not found'}\n",
            "{'Movie URL': 'https://www.justwatch.com/in/movie/12th-fail', 'Provider Name': 'Provider not found'}\n",
            "{'Movie URL': 'https://www.justwatch.com/in/movie/godzilla-x-kong-the-new-empire', 'Provider Name': 'Provider not found'}\n",
            "{'Movie URL': 'https://www.justwatch.com/in/movie/kung-fu-panda-4', 'Provider Name': 'Provider not found'}\n",
            "{'Movie URL': 'https://www.justwatch.com/in/movie/bramayugam', 'Provider Name': 'Provider not found'}\n",
            "{'Movie URL': 'https://www.justwatch.com/in/movie/black-magic-2024', 'Provider Name': 'Provider not found'}\n",
            "{'Movie URL': 'https://www.justwatch.com/in/movie/family-star', 'Provider Name': 'Provider not found'}\n",
            "{'Movie URL': 'https://www.justwatch.com/in/movie/poor-things', 'Provider Name': 'Apple TV'}\n",
            "{'Movie URL': 'https://www.justwatch.com/in/movie/gaami', 'Provider Name': 'Provider not found'}\n",
            "{'Movie URL': 'https://www.justwatch.com/in/movie/tillu-square', 'Provider Name': 'Provider not found'}\n",
            "{'Movie URL': 'https://www.justwatch.com/in/movie/the-beekeeper-2024', 'Provider Name': 'Provider not found'}\n",
            "{'Movie URL': 'https://www.justwatch.com/in/movie/sam-bahadur', 'Provider Name': 'Provider not found'}\n",
            "{'Movie URL': 'https://www.justwatch.com/in/movie/yodha-2022', 'Provider Name': 'Amazon Video'}\n",
            "{'Movie URL': 'https://www.justwatch.com/in/movie/dj-tillu', 'Provider Name': 'Provider not found'}\n",
            "{'Movie URL': 'https://www.justwatch.com/in/movie/madame-web', 'Provider Name': 'Provider not found'}\n",
            "{'Movie URL': 'https://www.justwatch.com/in/movie/365-days', 'Provider Name': 'Provider not found'}\n",
            "{'Movie URL': 'https://www.justwatch.com/in/movie/road-house-2024', 'Provider Name': 'Provider not found'}\n",
            "{'Movie URL': 'https://www.justwatch.com/in/movie/kung-fu-panda', 'Provider Name': 'Provider not found'}\n",
            "{'Movie URL': 'https://www.justwatch.com/in/movie/salaar', 'Provider Name': 'Netflix'}\n",
            "{'Movie URL': 'https://www.justwatch.com/in/movie/777-charlie', 'Provider Name': 'Provider not found'}\n",
            "{'Movie URL': 'https://www.justwatch.com/in/movie/madgaon-express', 'Provider Name': 'Provider not found'}\n",
            "{'Movie URL': 'https://www.justwatch.com/in/movie/lover-2024', 'Provider Name': 'Provider not found'}\n",
            "{'Movie URL': 'https://www.justwatch.com/in/movie/om-bheem-bush', 'Provider Name': 'Provider not found'}\n",
            "{'Movie URL': 'https://www.justwatch.com/in/movie/bade-miyan-chote-miyan-2023', 'Provider Name': 'Provider not found'}\n",
            "{'Movie URL': 'https://www.justwatch.com/in/movie/aadujeevitham', 'Provider Name': 'Provider not found'}\n",
            "{'Movie URL': 'https://www.justwatch.com/in/movie/kampon', 'Provider Name': 'Provider not found'}\n",
            "{'Movie URL': 'https://www.justwatch.com/in/movie/godzilla-vs-kong', 'Provider Name': 'Provider not found'}\n",
            "{'Movie URL': 'https://www.justwatch.com/in/movie/harry-potter-and-the-philosophers-stone', 'Provider Name': 'Provider not found'}\n",
            "{'Movie URL': 'https://www.justwatch.com/in/movie/the-kerala-story', 'Provider Name': 'Provider not found'}\n",
            "{'Movie URL': 'https://www.justwatch.com/in/movie/aquaman-and-the-lost-kingdom', 'Provider Name': 'Apple TV'}\n",
            "{'Movie URL': 'https://www.justwatch.com/in/movie/chaari-111', 'Provider Name': 'Provider not found'}\n",
            "{'Movie URL': 'https://www.justwatch.com/in/movie/crakk-jeetegaa-toh-jiyegaa', 'Provider Name': 'Provider not found'}\n",
            "{'Movie URL': 'https://www.justwatch.com/in/movie/joker-2019', 'Provider Name': 'Provider not found'}\n",
            "{'Movie URL': 'https://www.justwatch.com/in/movie/argylle', 'Provider Name': 'Provider not found'}\n",
            "{'Movie URL': 'https://www.justwatch.com/in/movie/maidaan', 'Provider Name': 'Bookmyshow'}\n",
            "{'Movie URL': 'https://www.justwatch.com/in/movie/merry-christmas-2024', 'Provider Name': 'Provider not found'}\n",
            "{'Movie URL': 'https://www.justwatch.com/in/movie/aattam', 'Provider Name': 'Provider not found'}\n",
            "{'Movie URL': 'https://www.justwatch.com/in/movie/speak-no-evil-2022', 'Provider Name': 'Provider not found'}\n",
            "{'Movie URL': 'https://www.justwatch.com/in/movie/joram', 'Provider Name': 'Provider not found'}\n",
            "{'Movie URL': 'https://www.justwatch.com/in/movie/rebel-moon-part-two-the-scargiver', 'Provider Name': 'Provider not found'}\n",
            "{'Movie URL': 'https://www.justwatch.com/in/movie/scoop-0', 'Provider Name': 'Netflix'}\n",
            "{'Movie URL': 'https://www.justwatch.com/in/movie/she-said', 'Provider Name': 'Provider not found'}\n",
            "{'Movie URL': 'https://www.justwatch.com/in/movie/rebel-2024', 'Provider Name': 'Provider not found'}\n",
            "{'Movie URL': 'https://www.justwatch.com/in/movie/migration', 'Provider Name': 'Provider not found'}\n",
            "{'Movie URL': 'https://www.justwatch.com/in/movie/eagle-2024', 'Provider Name': 'Provider not found'}\n",
            "{'Movie URL': 'https://www.justwatch.com/in/movie/rush-2013', 'Provider Name': 'Provider not found'}\n",
            "{'Movie URL': 'https://www.justwatch.com/in/movie/pushpa', 'Provider Name': 'Provider not found'}\n",
            "{'Movie URL': 'https://www.justwatch.com/in/movie/murder-mubarak', 'Provider Name': 'Provider not found'}\n",
            "{'Movie URL': 'https://www.justwatch.com/in/movie/anchakkallakokkan', 'Provider Name': 'Provider not found'}\n",
            "{'Movie URL': 'https://www.justwatch.com/in/movie/zara-hatke-zara-bach-ke', 'Provider Name': 'Provider not found'}\n",
            "{'Movie URL': 'https://www.justwatch.com/in/movie/aavesham-2024', 'Provider Name': 'Bookmyshow'}\n",
            "{'Movie URL': 'https://www.justwatch.com/in/movie/godzilla-minus-one', 'Provider Name': 'Provider not found'}\n",
            "{'Movie URL': 'https://www.justwatch.com/in/movie/interstellar', 'Provider Name': 'Provider not found'}\n",
            "{'Movie URL': 'https://www.justwatch.com/in/movie/tomb-raider', 'Provider Name': 'Provider not found'}\n",
            "{'Movie URL': 'https://www.justwatch.com/in/movie/k-g-f-chapter-2', 'Provider Name': 'Provider not found'}\n",
            "{'Movie URL': 'https://www.justwatch.com/in/movie/dunki', 'Provider Name': 'Provider not found'}\n",
            "{'Movie URL': 'https://www.justwatch.com/in/movie/ravening', 'Provider Name': 'Sony Liv'}\n",
            "{'Movie URL': 'https://www.justwatch.com/in/movie/along-with-the-gods-the-two-worlds', 'Provider Name': 'Provider not found'}\n",
            "{'Movie URL': 'https://www.justwatch.com/in/movie/wild-tales', 'Provider Name': 'Provider not found'}\n",
            "{'Movie URL': 'https://www.justwatch.com/in/movie/yatra-2', 'Provider Name': 'Provider not found'}\n",
            "{'Movie URL': 'https://www.justwatch.com/in/movie/dada-2023', 'Provider Name': 'Provider not found'}\n",
            "{'Movie URL': 'https://www.justwatch.com/in/movie/silence-2-the-night-owl-bar-shootout', 'Provider Name': 'Zee5'}\n",
            "{'Movie URL': 'https://www.justwatch.com/in/movie/swatantra-veer-savarkar', 'Provider Name': 'Provider not found'}\n",
            "{'Movie URL': 'https://www.justwatch.com/in/movie/new-york-i-love-you', 'Provider Name': 'Provider not found'}\n",
            "{'Movie URL': 'https://www.justwatch.com/in/movie/anweshippin-kandethum', 'Provider Name': 'Provider not found'}\n",
            "{'Movie URL': 'https://www.justwatch.com/in/movie/jawan', 'Provider Name': 'Provider not found'}\n",
            "{'Movie URL': 'https://www.justwatch.com/in/movie/rockstar', 'Provider Name': 'Provider not found'}\n",
            "{'Movie URL': 'https://www.justwatch.com/in/movie/all-india-rank', 'Provider Name': 'Provider not found'}\n",
            "{'Movie URL': 'https://www.justwatch.com/in/movie/hatching', 'Provider Name': 'Amazon Prime Video'}\n",
            "{'Movie URL': 'https://www.justwatch.com/in/movie/the-wolf-of-wall-street', 'Provider Name': 'Provider not found'}\n",
            "{'Movie URL': 'https://www.justwatch.com/in/movie/john-wick', 'Provider Name': 'Provider not found'}\n",
            "{'Movie URL': 'https://www.justwatch.com/in/movie/jatt-nuu-chudail-takri', 'Provider Name': 'Provider not found'}\n",
            "{'Movie URL': 'https://www.justwatch.com/in/movie/the-holdovers', 'Provider Name': 'Provider not found'}\n",
            "{'Movie URL': 'https://www.justwatch.com/in/movie/godzilla', 'Provider Name': 'Amazon Prime Video'}\n",
            "{'Movie URL': 'https://www.justwatch.com/in/movie/ranam-2024', 'Provider Name': 'Provider not found'}\n",
            "{'Movie URL': 'https://www.justwatch.com/in/movie/tee-yod', 'Provider Name': 'Provider not found'}\n",
            "{'Movie URL': 'https://www.justwatch.com/in/movie/the-lord-of-the-rings-the-fellowship-of-the-ring', 'Provider Name': 'Provider not found'}\n",
            "{'Movie URL': 'https://www.justwatch.com/in/movie/challengers', 'Provider Name': 'Provider not found'}\n",
            "{'Movie URL': 'https://www.justwatch.com/in/movie/civil-war-2024-0', 'Provider Name': 'Bookmyshow'}\n",
            "{'Movie URL': 'https://www.justwatch.com/in/movie/perfect-days', 'Provider Name': 'Provider not found'}\n",
            "{'Movie URL': 'https://www.justwatch.com/in/movie/rocky-aur-rani-ki-prem-kahani', 'Provider Name': 'Provider not found'}\n",
            "{'Movie URL': 'https://www.justwatch.com/in/movie/ghostbusters-afterlife', 'Provider Name': 'Provider not found'}\n",
            "{'Movie URL': 'https://www.justwatch.com/in/movie/2012', 'Provider Name': 'Provider not found'}\n",
            "{'Movie URL': 'https://www.justwatch.com/in/movie/siren-2024', 'Provider Name': 'Provider not found'}\n",
            "{'Movie URL': 'https://www.justwatch.com/in/movie/bhimaa', 'Provider Name': 'Provider not found'}\n"
          ]
        }
      ],
      "source": [
        "Provider = []\n",
        "\n",
        "for movie_url in movies:\n",
        "    driver.get(movie_url)\n",
        "\n",
        "    try:\n",
        "        # Find the provider element\n",
        "        provider_element = driver.find_element(By.XPATH, \"//img[@class='offer__icon']\")\n",
        "        provider_name = provider_element.get_attribute('alt')\n",
        "    except:\n",
        "        provider_name = \"Provider not found\"\n",
        "\n",
        "    Provider.append({\"Movie URL\": movie_url, \"Provider Name\": provider_name})\n",
        "\n",
        "for stream in Provider:\n",
        "  print(stream)"
      ]
    },
    {
      "cell_type": "markdown",
      "source": [
        "This script iterates through each movie URL in the movies list, navigates to each URL using the WebDriver, and attempts to find the provider element using an XPath expression. It then extracts the provider name."
      ],
      "metadata": {
        "id": "krI4hDorGjlg"
      }
    },
    {
      "cell_type": "code",
      "execution_count": null,
      "metadata": {
        "id": "x_W8Ckjbt0JH"
      },
      "outputs": [],
      "source": [
        "Movie_streaming = [movie_info['Provider Name'] for movie_info in Provider]\n"
      ]
    },
    {
      "cell_type": "code",
      "execution_count": null,
      "metadata": {
        "colab": {
          "base_uri": "https://localhost:8080/"
        },
        "id": "SZCB4nzJt-8X",
        "outputId": "5c541f9f-c7b4-4787-998f-5cf0a0492827"
      },
      "outputs": [
        {
          "data": {
            "text/plain": [
              "['Provider not found',\n",
              " 'aha',\n",
              " 'Provider not found',\n",
              " 'Provider not found',\n",
              " 'Provider not found',\n",
              " 'Provider not found',\n",
              " 'Provider not found',\n",
              " 'Provider not found',\n",
              " 'Amazon Prime Video',\n",
              " 'Provider not found',\n",
              " 'Provider not found',\n",
              " 'Provider not found',\n",
              " 'Provider not found',\n",
              " 'Provider not found',\n",
              " 'Provider not found',\n",
              " 'Provider not found',\n",
              " 'Provider not found',\n",
              " 'Provider not found',\n",
              " 'Provider not found',\n",
              " 'Provider not found',\n",
              " 'Provider not found',\n",
              " 'Provider not found',\n",
              " 'Apple TV',\n",
              " 'Provider not found',\n",
              " 'Provider not found',\n",
              " 'Provider not found',\n",
              " 'Provider not found',\n",
              " 'Amazon Video',\n",
              " 'Provider not found',\n",
              " 'Provider not found',\n",
              " 'Provider not found',\n",
              " 'Provider not found',\n",
              " 'Provider not found',\n",
              " 'Netflix',\n",
              " 'Provider not found',\n",
              " 'Provider not found',\n",
              " 'Provider not found',\n",
              " 'Provider not found',\n",
              " 'Provider not found',\n",
              " 'Provider not found',\n",
              " 'Provider not found',\n",
              " 'Provider not found',\n",
              " 'Provider not found',\n",
              " 'Provider not found',\n",
              " 'Apple TV',\n",
              " 'Provider not found',\n",
              " 'Provider not found',\n",
              " 'Provider not found',\n",
              " 'Provider not found',\n",
              " 'Bookmyshow',\n",
              " 'Provider not found',\n",
              " 'Provider not found',\n",
              " 'Provider not found',\n",
              " 'Provider not found',\n",
              " 'Provider not found',\n",
              " 'Netflix',\n",
              " 'Provider not found',\n",
              " 'Provider not found',\n",
              " 'Provider not found',\n",
              " 'Provider not found',\n",
              " 'Provider not found',\n",
              " 'Provider not found',\n",
              " 'Provider not found',\n",
              " 'Provider not found',\n",
              " 'Provider not found',\n",
              " 'Bookmyshow',\n",
              " 'Provider not found',\n",
              " 'Provider not found',\n",
              " 'Provider not found',\n",
              " 'Provider not found',\n",
              " 'Provider not found',\n",
              " 'Sony Liv',\n",
              " 'Provider not found',\n",
              " 'Provider not found',\n",
              " 'Provider not found',\n",
              " 'Provider not found',\n",
              " 'Zee5',\n",
              " 'Provider not found',\n",
              " 'Provider not found',\n",
              " 'Provider not found',\n",
              " 'Provider not found',\n",
              " 'Provider not found',\n",
              " 'Provider not found',\n",
              " 'Amazon Prime Video',\n",
              " 'Provider not found',\n",
              " 'Provider not found',\n",
              " 'Provider not found',\n",
              " 'Provider not found',\n",
              " 'Amazon Prime Video',\n",
              " 'Provider not found',\n",
              " 'Provider not found',\n",
              " 'Provider not found',\n",
              " 'Provider not found',\n",
              " 'Bookmyshow',\n",
              " 'Provider not found',\n",
              " 'Provider not found',\n",
              " 'Provider not found',\n",
              " 'Provider not found',\n",
              " 'Provider not found',\n",
              " 'Provider not found']"
            ]
          },
          "execution_count": 23,
          "metadata": {},
          "output_type": "execute_result"
        }
      ],
      "source": [
        "Movie_streaming"
      ]
    },
    {
      "cell_type": "markdown",
      "source": [
        "The above code extracts the provider names from the Provider list by iterating through each dictionary in the list and extracting the \"Provider Name\" value. It stores these provider names in the Movie_streaming list using a list comprehension. And the provider names are listed above."
      ],
      "metadata": {
        "id": "wdqY6IsHGr6Z"
      }
    },
    {
      "cell_type": "code",
      "execution_count": null,
      "metadata": {
        "colab": {
          "base_uri": "https://localhost:8080/"
        },
        "id": "dMcSEl_RwwCV",
        "outputId": "55887717-58da-4ee3-9836-5d0e811eadf2"
      },
      "outputs": [
        {
          "data": {
            "text/plain": [
              "['https://www.justwatch.com/in/movie/untitled-shahid-kapoor-kriti-sanon-film',\n",
              " 'https://www.justwatch.com/in/movie/premalu',\n",
              " 'https://www.justwatch.com/in/movie/article-370',\n",
              " 'https://www.justwatch.com/in/movie/hanu-man',\n",
              " 'https://www.justwatch.com/in/movie/laapataa-ladies',\n",
              " 'https://www.justwatch.com/in/movie/oppenheimer',\n",
              " 'https://www.justwatch.com/in/movie/dune-part-two',\n",
              " 'https://www.justwatch.com/in/movie/the-crew-2024',\n",
              " 'https://www.justwatch.com/in/movie/anatomie-dune-chute',\n",
              " 'https://www.justwatch.com/in/movie/manjummel-boys',\n",
              " 'https://www.justwatch.com/in/movie/amar-singh-chamkila',\n",
              " 'https://www.justwatch.com/in/movie/anyone-but-you',\n",
              " 'https://www.justwatch.com/in/movie/animal-2022',\n",
              " 'https://www.justwatch.com/in/movie/fighter-2022',\n",
              " 'https://www.justwatch.com/in/movie/dune-2021',\n",
              " 'https://www.justwatch.com/in/movie/monkey-man',\n",
              " 'https://www.justwatch.com/in/movie/12th-fail',\n",
              " 'https://www.justwatch.com/in/movie/godzilla-x-kong-the-new-empire',\n",
              " 'https://www.justwatch.com/in/movie/kung-fu-panda-4',\n",
              " 'https://www.justwatch.com/in/movie/bramayugam',\n",
              " 'https://www.justwatch.com/in/movie/black-magic-2024',\n",
              " 'https://www.justwatch.com/in/movie/family-star',\n",
              " 'https://www.justwatch.com/in/movie/poor-things',\n",
              " 'https://www.justwatch.com/in/movie/gaami',\n",
              " 'https://www.justwatch.com/in/movie/tillu-square',\n",
              " 'https://www.justwatch.com/in/movie/the-beekeeper-2024',\n",
              " 'https://www.justwatch.com/in/movie/sam-bahadur',\n",
              " 'https://www.justwatch.com/in/movie/yodha-2022',\n",
              " 'https://www.justwatch.com/in/movie/dj-tillu',\n",
              " 'https://www.justwatch.com/in/movie/madame-web',\n",
              " 'https://www.justwatch.com/in/movie/365-days',\n",
              " 'https://www.justwatch.com/in/movie/road-house-2024',\n",
              " 'https://www.justwatch.com/in/movie/kung-fu-panda',\n",
              " 'https://www.justwatch.com/in/movie/salaar',\n",
              " 'https://www.justwatch.com/in/movie/777-charlie',\n",
              " 'https://www.justwatch.com/in/movie/madgaon-express',\n",
              " 'https://www.justwatch.com/in/movie/lover-2024',\n",
              " 'https://www.justwatch.com/in/movie/om-bheem-bush',\n",
              " 'https://www.justwatch.com/in/movie/bade-miyan-chote-miyan-2023',\n",
              " 'https://www.justwatch.com/in/movie/aadujeevitham',\n",
              " 'https://www.justwatch.com/in/movie/kampon',\n",
              " 'https://www.justwatch.com/in/movie/godzilla-vs-kong',\n",
              " 'https://www.justwatch.com/in/movie/harry-potter-and-the-philosophers-stone',\n",
              " 'https://www.justwatch.com/in/movie/the-kerala-story',\n",
              " 'https://www.justwatch.com/in/movie/aquaman-and-the-lost-kingdom',\n",
              " 'https://www.justwatch.com/in/movie/chaari-111',\n",
              " 'https://www.justwatch.com/in/movie/crakk-jeetegaa-toh-jiyegaa',\n",
              " 'https://www.justwatch.com/in/movie/joker-2019',\n",
              " 'https://www.justwatch.com/in/movie/argylle',\n",
              " 'https://www.justwatch.com/in/movie/maidaan',\n",
              " 'https://www.justwatch.com/in/movie/merry-christmas-2024',\n",
              " 'https://www.justwatch.com/in/movie/aattam',\n",
              " 'https://www.justwatch.com/in/movie/speak-no-evil-2022',\n",
              " 'https://www.justwatch.com/in/movie/joram',\n",
              " 'https://www.justwatch.com/in/movie/rebel-moon-part-two-the-scargiver',\n",
              " 'https://www.justwatch.com/in/movie/scoop-0',\n",
              " 'https://www.justwatch.com/in/movie/she-said',\n",
              " 'https://www.justwatch.com/in/movie/rebel-2024',\n",
              " 'https://www.justwatch.com/in/movie/migration',\n",
              " 'https://www.justwatch.com/in/movie/eagle-2024',\n",
              " 'https://www.justwatch.com/in/movie/rush-2013',\n",
              " 'https://www.justwatch.com/in/movie/pushpa',\n",
              " 'https://www.justwatch.com/in/movie/murder-mubarak',\n",
              " 'https://www.justwatch.com/in/movie/anchakkallakokkan',\n",
              " 'https://www.justwatch.com/in/movie/zara-hatke-zara-bach-ke',\n",
              " 'https://www.justwatch.com/in/movie/aavesham-2024',\n",
              " 'https://www.justwatch.com/in/movie/godzilla-minus-one',\n",
              " 'https://www.justwatch.com/in/movie/interstellar',\n",
              " 'https://www.justwatch.com/in/movie/tomb-raider',\n",
              " 'https://www.justwatch.com/in/movie/k-g-f-chapter-2',\n",
              " 'https://www.justwatch.com/in/movie/dunki',\n",
              " 'https://www.justwatch.com/in/movie/ravening',\n",
              " 'https://www.justwatch.com/in/movie/along-with-the-gods-the-two-worlds',\n",
              " 'https://www.justwatch.com/in/movie/wild-tales',\n",
              " 'https://www.justwatch.com/in/movie/yatra-2',\n",
              " 'https://www.justwatch.com/in/movie/dada-2023',\n",
              " 'https://www.justwatch.com/in/movie/silence-2-the-night-owl-bar-shootout',\n",
              " 'https://www.justwatch.com/in/movie/swatantra-veer-savarkar',\n",
              " 'https://www.justwatch.com/in/movie/new-york-i-love-you',\n",
              " 'https://www.justwatch.com/in/movie/anweshippin-kandethum',\n",
              " 'https://www.justwatch.com/in/movie/jawan',\n",
              " 'https://www.justwatch.com/in/movie/rockstar',\n",
              " 'https://www.justwatch.com/in/movie/all-india-rank',\n",
              " 'https://www.justwatch.com/in/movie/hatching',\n",
              " 'https://www.justwatch.com/in/movie/the-wolf-of-wall-street',\n",
              " 'https://www.justwatch.com/in/movie/john-wick',\n",
              " 'https://www.justwatch.com/in/movie/jatt-nuu-chudail-takri',\n",
              " 'https://www.justwatch.com/in/movie/the-holdovers',\n",
              " 'https://www.justwatch.com/in/movie/godzilla',\n",
              " 'https://www.justwatch.com/in/movie/ranam-2024',\n",
              " 'https://www.justwatch.com/in/movie/tee-yod',\n",
              " 'https://www.justwatch.com/in/movie/the-lord-of-the-rings-the-fellowship-of-the-ring',\n",
              " 'https://www.justwatch.com/in/movie/challengers',\n",
              " 'https://www.justwatch.com/in/movie/civil-war-2024-0',\n",
              " 'https://www.justwatch.com/in/movie/perfect-days',\n",
              " 'https://www.justwatch.com/in/movie/rocky-aur-rani-ki-prem-kahani',\n",
              " 'https://www.justwatch.com/in/movie/ghostbusters-afterlife',\n",
              " 'https://www.justwatch.com/in/movie/2012',\n",
              " 'https://www.justwatch.com/in/movie/siren-2024',\n",
              " 'https://www.justwatch.com/in/movie/bhimaa']"
            ]
          },
          "execution_count": 24,
          "metadata": {},
          "output_type": "execute_result"
        }
      ],
      "source": [
        "movies"
      ]
    },
    {
      "cell_type": "code",
      "execution_count": null,
      "metadata": {
        "id": "M5dVnKQ5wx8D"
      },
      "outputs": [],
      "source": [
        "driver.quit()"
      ]
    },
    {
      "cell_type": "markdown",
      "source": [
        "This line of code closes the WebDriver and shuts down the browser session, freeing up system resources. It's good practice to call driver.quit() at the end of the Selenium script to ensure proper cleanup."
      ],
      "metadata": {
        "id": "7xQxwi1VG81t"
      }
    },
    {
      "cell_type": "markdown",
      "metadata": {
        "id": "Mnh22VX_7f6K"
      },
      "source": [
        "## **Now Creating Movies DataFrame**"
      ]
    },
    {
      "cell_type": "code",
      "execution_count": null,
      "metadata": {
        "colab": {
          "base_uri": "https://localhost:8080/"
        },
        "id": "n6Jho1Ge_oei",
        "outputId": "b7eaccb3-c6e1-41b0-8c22-350b98f4222c"
      },
      "outputs": [
        {
          "name": "stdout",
          "output_type": "stream",
          "text": [
            "100\n",
            "100\n",
            "44\n",
            "100\n",
            "16\n",
            "100\n"
          ]
        }
      ],
      "source": [
        "print(len(movie_names))\n",
        "print(len(movie_release_years))\n",
        "print(len(movie_genres))\n",
        "print(len(movies))\n",
        "print(len(movie_imdb))\n",
        "print(len(Movie_streaming))"
      ]
    },
    {
      "cell_type": "markdown",
      "source": [
        "These lines of code print out the lengths of different lists representing various movie attributes such as names, release years, genres, URLs, IMDb ratings, and streaming providers. This can help ensure that the data for each movie is consistent and aligned across all attributes."
      ],
      "metadata": {
        "id": "PAzQgkSgHKqa"
      }
    },
    {
      "cell_type": "code",
      "execution_count": null,
      "metadata": {
        "colab": {
          "base_uri": "https://localhost:8080/",
          "height": 206
        },
        "id": "Fi7OLiSwudGl",
        "outputId": "b5dc6c07-eafb-4a25-f6c4-62bbf45b2f4f"
      },
      "outputs": [
        {
          "data": {
            "text/html": [
              "<div>\n",
              "<style scoped>\n",
              "    .dataframe tbody tr th:only-of-type {\n",
              "        vertical-align: middle;\n",
              "    }\n",
              "\n",
              "    .dataframe tbody tr th {\n",
              "        vertical-align: top;\n",
              "    }\n",
              "\n",
              "    .dataframe thead th {\n",
              "        text-align: right;\n",
              "    }\n",
              "</style>\n",
              "<table border=\"1\" class=\"dataframe\">\n",
              "  <thead>\n",
              "    <tr style=\"text-align: right;\">\n",
              "      <th></th>\n",
              "      <th>Movie Names</th>\n",
              "      <th>Release Year</th>\n",
              "      <th>Movie Genres</th>\n",
              "      <th>Movie IMDb Ratings</th>\n",
              "      <th>Movie Url</th>\n",
              "      <th>Movie Streaming Service</th>\n",
              "    </tr>\n",
              "  </thead>\n",
              "  <tbody>\n",
              "    <tr>\n",
              "      <th>0</th>\n",
              "      <td>untitled-shahid-kapoor-kriti-sanon-film</td>\n",
              "      <td>2024</td>\n",
              "      <td>Action &amp; Adventure</td>\n",
              "      <td>6.4  (47k)</td>\n",
              "      <td>https://www.justwatch.com/in/movie/untitled-sh...</td>\n",
              "      <td>Provider not found</td>\n",
              "    </tr>\n",
              "    <tr>\n",
              "      <th>1</th>\n",
              "      <td>premalu</td>\n",
              "      <td>2024</td>\n",
              "      <td>Drama</td>\n",
              "      <td>8.0  (8k)</td>\n",
              "      <td>https://www.justwatch.com/in/movie/premalu</td>\n",
              "      <td>aha</td>\n",
              "    </tr>\n",
              "    <tr>\n",
              "      <th>2</th>\n",
              "      <td>article-370</td>\n",
              "      <td>2024</td>\n",
              "      <td>Mystery &amp; Thriller</td>\n",
              "      <td>8.1  (15k)</td>\n",
              "      <td>https://www.justwatch.com/in/movie/article-370</td>\n",
              "      <td>Provider not found</td>\n",
              "    </tr>\n",
              "    <tr>\n",
              "      <th>3</th>\n",
              "      <td>hanu-man</td>\n",
              "      <td>2024</td>\n",
              "      <td>Mystery &amp; Thriller</td>\n",
              "      <td>7.9  (23k)</td>\n",
              "      <td>https://www.justwatch.com/in/movie/hanu-man</td>\n",
              "      <td>Provider not found</td>\n",
              "    </tr>\n",
              "    <tr>\n",
              "      <th>4</th>\n",
              "      <td>laapataa-ladies</td>\n",
              "      <td>2024</td>\n",
              "      <td>Drama</td>\n",
              "      <td>8.6  (7k)</td>\n",
              "      <td>https://www.justwatch.com/in/movie/laapataa-la...</td>\n",
              "      <td>Provider not found</td>\n",
              "    </tr>\n",
              "  </tbody>\n",
              "</table>\n",
              "</div>"
            ],
            "text/plain": [
              "                               Movie Names Release Year        Movie Genres  \\\n",
              "0  untitled-shahid-kapoor-kriti-sanon-film         2024  Action & Adventure   \n",
              "1                                  premalu         2024               Drama   \n",
              "2                              article-370         2024  Mystery & Thriller   \n",
              "3                                 hanu-man         2024  Mystery & Thriller   \n",
              "4                          laapataa-ladies         2024               Drama   \n",
              "\n",
              "  Movie IMDb Ratings                                          Movie Url  \\\n",
              "0         6.4  (47k)  https://www.justwatch.com/in/movie/untitled-sh...   \n",
              "1          8.0  (8k)         https://www.justwatch.com/in/movie/premalu   \n",
              "2         8.1  (15k)     https://www.justwatch.com/in/movie/article-370   \n",
              "3         7.9  (23k)        https://www.justwatch.com/in/movie/hanu-man   \n",
              "4          8.6  (7k)  https://www.justwatch.com/in/movie/laapataa-la...   \n",
              "\n",
              "  Movie Streaming Service  \n",
              "0      Provider not found  \n",
              "1                     aha  \n",
              "2      Provider not found  \n",
              "3      Provider not found  \n",
              "4      Provider not found  "
            ]
          },
          "execution_count": 28,
          "metadata": {},
          "output_type": "execute_result"
        }
      ],
      "source": [
        "#Creatind datafame of scrapped movie data\n",
        "import pandas as pd\n",
        "Movies_data=pd.DataFrame()\n",
        "Movies_data['Movie Names']=movie_names[:16]\n",
        "Movies_data['Release Year']=movie_release_years[:16]\n",
        "Movies_data['Movie Genres']=movie_genres[:16]\n",
        "Movies_data['Movie IMDb Ratings']=movie_imdb[:16]\n",
        "Movies_data['Movie Url']=movies[:16]\n",
        "Movies_data['Movie Streaming Service']=Movie_streaming[:16]\n",
        "\n",
        "\n",
        "Movies_data.head()"
      ]
    },
    {
      "cell_type": "markdown",
      "source": [
        "\n",
        "This code snippet creates a DataFrame named Movies_data containing scraped movie data. It extracts the first 16 elements from each of the lists representing movie names, release years, genres, IMDb ratings, movie URLs, and streaming services, and assigns them to respective columns in the DataFrame. Finally, it displays the first few rows of the DataFrame using the head() method."
      ],
      "metadata": {
        "id": "JsjbaTB3HP1X"
      }
    },
    {
      "cell_type": "markdown",
      "metadata": {
        "id": "LYQ5acWzJRZr"
      },
      "source": [
        "## **Scraping TV  Show Data**"
      ]
    },
    {
      "cell_type": "code",
      "execution_count": null,
      "metadata": {
        "id": "Xic8FWfwI6AT"
      },
      "outputs": [],
      "source": [
        "# Specifying the URL from which tv show related data will be fetched\n",
        "tv_url='https://www.justwatch.com/in/tv-shows?release_year_from=2000'\n",
        "driver = webdriver.Chrome(options=chrome_options)\n",
        "driver.get(tv_url)"
      ]
    },
    {
      "cell_type": "markdown",
      "source": [
        "\n",
        "This code snippet specifies the URL from which TV show-related data will be fetched, initializes a Chrome WebDriver with specified options, and navigates to the provided URL using the get() method."
      ],
      "metadata": {
        "id": "BR5QMLUzPvBN"
      }
    },
    {
      "cell_type": "code",
      "execution_count": null,
      "metadata": {
        "colab": {
          "base_uri": "https://localhost:8080/"
        },
        "id": "KxWXybHGbOjP",
        "outputId": "1543307f-9839-497b-d25d-c869644b2a20"
      },
      "outputs": [
        {
          "data": {
            "text/plain": [
              "[<selenium.webdriver.remote.webelement.WebElement (session=\"c751bcd9c62674b04c52db6a34250147\", element=\"f.E8AFB82C7E7B6601D570942E206E183D.d.C68A5995BE34C87A1885A3DF2850248F.e.20\")>,\n",
              " <selenium.webdriver.remote.webelement.WebElement (session=\"c751bcd9c62674b04c52db6a34250147\", element=\"f.E8AFB82C7E7B6601D570942E206E183D.d.C68A5995BE34C87A1885A3DF2850248F.e.21\")>,\n",
              " <selenium.webdriver.remote.webelement.WebElement (session=\"c751bcd9c62674b04c52db6a34250147\", element=\"f.E8AFB82C7E7B6601D570942E206E183D.d.C68A5995BE34C87A1885A3DF2850248F.e.22\")>,\n",
              " <selenium.webdriver.remote.webelement.WebElement (session=\"c751bcd9c62674b04c52db6a34250147\", element=\"f.E8AFB82C7E7B6601D570942E206E183D.d.C68A5995BE34C87A1885A3DF2850248F.e.23\")>,\n",
              " <selenium.webdriver.remote.webelement.WebElement (session=\"c751bcd9c62674b04c52db6a34250147\", element=\"f.E8AFB82C7E7B6601D570942E206E183D.d.C68A5995BE34C87A1885A3DF2850248F.e.24\")>,\n",
              " <selenium.webdriver.remote.webelement.WebElement (session=\"c751bcd9c62674b04c52db6a34250147\", element=\"f.E8AFB82C7E7B6601D570942E206E183D.d.C68A5995BE34C87A1885A3DF2850248F.e.25\")>,\n",
              " <selenium.webdriver.remote.webelement.WebElement (session=\"c751bcd9c62674b04c52db6a34250147\", element=\"f.E8AFB82C7E7B6601D570942E206E183D.d.C68A5995BE34C87A1885A3DF2850248F.e.26\")>,\n",
              " <selenium.webdriver.remote.webelement.WebElement (session=\"c751bcd9c62674b04c52db6a34250147\", element=\"f.E8AFB82C7E7B6601D570942E206E183D.d.C68A5995BE34C87A1885A3DF2850248F.e.27\")>,\n",
              " <selenium.webdriver.remote.webelement.WebElement (session=\"c751bcd9c62674b04c52db6a34250147\", element=\"f.E8AFB82C7E7B6601D570942E206E183D.d.C68A5995BE34C87A1885A3DF2850248F.e.28\")>,\n",
              " <selenium.webdriver.remote.webelement.WebElement (session=\"c751bcd9c62674b04c52db6a34250147\", element=\"f.E8AFB82C7E7B6601D570942E206E183D.d.C68A5995BE34C87A1885A3DF2850248F.e.29\")>,\n",
              " <selenium.webdriver.remote.webelement.WebElement (session=\"c751bcd9c62674b04c52db6a34250147\", element=\"f.E8AFB82C7E7B6601D570942E206E183D.d.C68A5995BE34C87A1885A3DF2850248F.e.30\")>,\n",
              " <selenium.webdriver.remote.webelement.WebElement (session=\"c751bcd9c62674b04c52db6a34250147\", element=\"f.E8AFB82C7E7B6601D570942E206E183D.d.C68A5995BE34C87A1885A3DF2850248F.e.31\")>,\n",
              " <selenium.webdriver.remote.webelement.WebElement (session=\"c751bcd9c62674b04c52db6a34250147\", element=\"f.E8AFB82C7E7B6601D570942E206E183D.d.C68A5995BE34C87A1885A3DF2850248F.e.32\")>,\n",
              " <selenium.webdriver.remote.webelement.WebElement (session=\"c751bcd9c62674b04c52db6a34250147\", element=\"f.E8AFB82C7E7B6601D570942E206E183D.d.C68A5995BE34C87A1885A3DF2850248F.e.33\")>,\n",
              " <selenium.webdriver.remote.webelement.WebElement (session=\"c751bcd9c62674b04c52db6a34250147\", element=\"f.E8AFB82C7E7B6601D570942E206E183D.d.C68A5995BE34C87A1885A3DF2850248F.e.34\")>,\n",
              " <selenium.webdriver.remote.webelement.WebElement (session=\"c751bcd9c62674b04c52db6a34250147\", element=\"f.E8AFB82C7E7B6601D570942E206E183D.d.C68A5995BE34C87A1885A3DF2850248F.e.35\")>,\n",
              " <selenium.webdriver.remote.webelement.WebElement (session=\"c751bcd9c62674b04c52db6a34250147\", element=\"f.E8AFB82C7E7B6601D570942E206E183D.d.C68A5995BE34C87A1885A3DF2850248F.e.36\")>,\n",
              " <selenium.webdriver.remote.webelement.WebElement (session=\"c751bcd9c62674b04c52db6a34250147\", element=\"f.E8AFB82C7E7B6601D570942E206E183D.d.C68A5995BE34C87A1885A3DF2850248F.e.37\")>,\n",
              " <selenium.webdriver.remote.webelement.WebElement (session=\"c751bcd9c62674b04c52db6a34250147\", element=\"f.E8AFB82C7E7B6601D570942E206E183D.d.C68A5995BE34C87A1885A3DF2850248F.e.38\")>,\n",
              " <selenium.webdriver.remote.webelement.WebElement (session=\"c751bcd9c62674b04c52db6a34250147\", element=\"f.E8AFB82C7E7B6601D570942E206E183D.d.C68A5995BE34C87A1885A3DF2850248F.e.39\")>,\n",
              " <selenium.webdriver.remote.webelement.WebElement (session=\"c751bcd9c62674b04c52db6a34250147\", element=\"f.E8AFB82C7E7B6601D570942E206E183D.d.C68A5995BE34C87A1885A3DF2850248F.e.40\")>,\n",
              " <selenium.webdriver.remote.webelement.WebElement (session=\"c751bcd9c62674b04c52db6a34250147\", element=\"f.E8AFB82C7E7B6601D570942E206E183D.d.C68A5995BE34C87A1885A3DF2850248F.e.41\")>,\n",
              " <selenium.webdriver.remote.webelement.WebElement (session=\"c751bcd9c62674b04c52db6a34250147\", element=\"f.E8AFB82C7E7B6601D570942E206E183D.d.C68A5995BE34C87A1885A3DF2850248F.e.42\")>,\n",
              " <selenium.webdriver.remote.webelement.WebElement (session=\"c751bcd9c62674b04c52db6a34250147\", element=\"f.E8AFB82C7E7B6601D570942E206E183D.d.C68A5995BE34C87A1885A3DF2850248F.e.43\")>,\n",
              " <selenium.webdriver.remote.webelement.WebElement (session=\"c751bcd9c62674b04c52db6a34250147\", element=\"f.E8AFB82C7E7B6601D570942E206E183D.d.C68A5995BE34C87A1885A3DF2850248F.e.44\")>,\n",
              " <selenium.webdriver.remote.webelement.WebElement (session=\"c751bcd9c62674b04c52db6a34250147\", element=\"f.E8AFB82C7E7B6601D570942E206E183D.d.C68A5995BE34C87A1885A3DF2850248F.e.45\")>,\n",
              " <selenium.webdriver.remote.webelement.WebElement (session=\"c751bcd9c62674b04c52db6a34250147\", element=\"f.E8AFB82C7E7B6601D570942E206E183D.d.C68A5995BE34C87A1885A3DF2850248F.e.46\")>,\n",
              " <selenium.webdriver.remote.webelement.WebElement (session=\"c751bcd9c62674b04c52db6a34250147\", element=\"f.E8AFB82C7E7B6601D570942E206E183D.d.C68A5995BE34C87A1885A3DF2850248F.e.47\")>,\n",
              " <selenium.webdriver.remote.webelement.WebElement (session=\"c751bcd9c62674b04c52db6a34250147\", element=\"f.E8AFB82C7E7B6601D570942E206E183D.d.C68A5995BE34C87A1885A3DF2850248F.e.48\")>,\n",
              " <selenium.webdriver.remote.webelement.WebElement (session=\"c751bcd9c62674b04c52db6a34250147\", element=\"f.E8AFB82C7E7B6601D570942E206E183D.d.C68A5995BE34C87A1885A3DF2850248F.e.49\")>,\n",
              " <selenium.webdriver.remote.webelement.WebElement (session=\"c751bcd9c62674b04c52db6a34250147\", element=\"f.E8AFB82C7E7B6601D570942E206E183D.d.C68A5995BE34C87A1885A3DF2850248F.e.50\")>,\n",
              " <selenium.webdriver.remote.webelement.WebElement (session=\"c751bcd9c62674b04c52db6a34250147\", element=\"f.E8AFB82C7E7B6601D570942E206E183D.d.C68A5995BE34C87A1885A3DF2850248F.e.51\")>,\n",
              " <selenium.webdriver.remote.webelement.WebElement (session=\"c751bcd9c62674b04c52db6a34250147\", element=\"f.E8AFB82C7E7B6601D570942E206E183D.d.C68A5995BE34C87A1885A3DF2850248F.e.52\")>,\n",
              " <selenium.webdriver.remote.webelement.WebElement (session=\"c751bcd9c62674b04c52db6a34250147\", element=\"f.E8AFB82C7E7B6601D570942E206E183D.d.C68A5995BE34C87A1885A3DF2850248F.e.53\")>,\n",
              " <selenium.webdriver.remote.webelement.WebElement (session=\"c751bcd9c62674b04c52db6a34250147\", element=\"f.E8AFB82C7E7B6601D570942E206E183D.d.C68A5995BE34C87A1885A3DF2850248F.e.54\")>,\n",
              " <selenium.webdriver.remote.webelement.WebElement (session=\"c751bcd9c62674b04c52db6a34250147\", element=\"f.E8AFB82C7E7B6601D570942E206E183D.d.C68A5995BE34C87A1885A3DF2850248F.e.55\")>,\n",
              " <selenium.webdriver.remote.webelement.WebElement (session=\"c751bcd9c62674b04c52db6a34250147\", element=\"f.E8AFB82C7E7B6601D570942E206E183D.d.C68A5995BE34C87A1885A3DF2850248F.e.56\")>,\n",
              " <selenium.webdriver.remote.webelement.WebElement (session=\"c751bcd9c62674b04c52db6a34250147\", element=\"f.E8AFB82C7E7B6601D570942E206E183D.d.C68A5995BE34C87A1885A3DF2850248F.e.57\")>,\n",
              " <selenium.webdriver.remote.webelement.WebElement (session=\"c751bcd9c62674b04c52db6a34250147\", element=\"f.E8AFB82C7E7B6601D570942E206E183D.d.C68A5995BE34C87A1885A3DF2850248F.e.58\")>,\n",
              " <selenium.webdriver.remote.webelement.WebElement (session=\"c751bcd9c62674b04c52db6a34250147\", element=\"f.E8AFB82C7E7B6601D570942E206E183D.d.C68A5995BE34C87A1885A3DF2850248F.e.59\")>,\n",
              " <selenium.webdriver.remote.webelement.WebElement (session=\"c751bcd9c62674b04c52db6a34250147\", element=\"f.E8AFB82C7E7B6601D570942E206E183D.d.C68A5995BE34C87A1885A3DF2850248F.e.60\")>,\n",
              " <selenium.webdriver.remote.webelement.WebElement (session=\"c751bcd9c62674b04c52db6a34250147\", element=\"f.E8AFB82C7E7B6601D570942E206E183D.d.C68A5995BE34C87A1885A3DF2850248F.e.61\")>,\n",
              " <selenium.webdriver.remote.webelement.WebElement (session=\"c751bcd9c62674b04c52db6a34250147\", element=\"f.E8AFB82C7E7B6601D570942E206E183D.d.C68A5995BE34C87A1885A3DF2850248F.e.62\")>,\n",
              " <selenium.webdriver.remote.webelement.WebElement (session=\"c751bcd9c62674b04c52db6a34250147\", element=\"f.E8AFB82C7E7B6601D570942E206E183D.d.C68A5995BE34C87A1885A3DF2850248F.e.63\")>,\n",
              " <selenium.webdriver.remote.webelement.WebElement (session=\"c751bcd9c62674b04c52db6a34250147\", element=\"f.E8AFB82C7E7B6601D570942E206E183D.d.C68A5995BE34C87A1885A3DF2850248F.e.64\")>,\n",
              " <selenium.webdriver.remote.webelement.WebElement (session=\"c751bcd9c62674b04c52db6a34250147\", element=\"f.E8AFB82C7E7B6601D570942E206E183D.d.C68A5995BE34C87A1885A3DF2850248F.e.65\")>,\n",
              " <selenium.webdriver.remote.webelement.WebElement (session=\"c751bcd9c62674b04c52db6a34250147\", element=\"f.E8AFB82C7E7B6601D570942E206E183D.d.C68A5995BE34C87A1885A3DF2850248F.e.66\")>,\n",
              " <selenium.webdriver.remote.webelement.WebElement (session=\"c751bcd9c62674b04c52db6a34250147\", element=\"f.E8AFB82C7E7B6601D570942E206E183D.d.C68A5995BE34C87A1885A3DF2850248F.e.67\")>,\n",
              " <selenium.webdriver.remote.webelement.WebElement (session=\"c751bcd9c62674b04c52db6a34250147\", element=\"f.E8AFB82C7E7B6601D570942E206E183D.d.C68A5995BE34C87A1885A3DF2850248F.e.68\")>,\n",
              " <selenium.webdriver.remote.webelement.WebElement (session=\"c751bcd9c62674b04c52db6a34250147\", element=\"f.E8AFB82C7E7B6601D570942E206E183D.d.C68A5995BE34C87A1885A3DF2850248F.e.69\")>,\n",
              " <selenium.webdriver.remote.webelement.WebElement (session=\"c751bcd9c62674b04c52db6a34250147\", element=\"f.E8AFB82C7E7B6601D570942E206E183D.d.C68A5995BE34C87A1885A3DF2850248F.e.70\")>,\n",
              " <selenium.webdriver.remote.webelement.WebElement (session=\"c751bcd9c62674b04c52db6a34250147\", element=\"f.E8AFB82C7E7B6601D570942E206E183D.d.C68A5995BE34C87A1885A3DF2850248F.e.71\")>,\n",
              " <selenium.webdriver.remote.webelement.WebElement (session=\"c751bcd9c62674b04c52db6a34250147\", element=\"f.E8AFB82C7E7B6601D570942E206E183D.d.C68A5995BE34C87A1885A3DF2850248F.e.72\")>,\n",
              " <selenium.webdriver.remote.webelement.WebElement (session=\"c751bcd9c62674b04c52db6a34250147\", element=\"f.E8AFB82C7E7B6601D570942E206E183D.d.C68A5995BE34C87A1885A3DF2850248F.e.73\")>,\n",
              " <selenium.webdriver.remote.webelement.WebElement (session=\"c751bcd9c62674b04c52db6a34250147\", element=\"f.E8AFB82C7E7B6601D570942E206E183D.d.C68A5995BE34C87A1885A3DF2850248F.e.74\")>,\n",
              " <selenium.webdriver.remote.webelement.WebElement (session=\"c751bcd9c62674b04c52db6a34250147\", element=\"f.E8AFB82C7E7B6601D570942E206E183D.d.C68A5995BE34C87A1885A3DF2850248F.e.75\")>,\n",
              " <selenium.webdriver.remote.webelement.WebElement (session=\"c751bcd9c62674b04c52db6a34250147\", element=\"f.E8AFB82C7E7B6601D570942E206E183D.d.C68A5995BE34C87A1885A3DF2850248F.e.76\")>,\n",
              " <selenium.webdriver.remote.webelement.WebElement (session=\"c751bcd9c62674b04c52db6a34250147\", element=\"f.E8AFB82C7E7B6601D570942E206E183D.d.C68A5995BE34C87A1885A3DF2850248F.e.77\")>,\n",
              " <selenium.webdriver.remote.webelement.WebElement (session=\"c751bcd9c62674b04c52db6a34250147\", element=\"f.E8AFB82C7E7B6601D570942E206E183D.d.C68A5995BE34C87A1885A3DF2850248F.e.78\")>,\n",
              " <selenium.webdriver.remote.webelement.WebElement (session=\"c751bcd9c62674b04c52db6a34250147\", element=\"f.E8AFB82C7E7B6601D570942E206E183D.d.C68A5995BE34C87A1885A3DF2850248F.e.79\")>,\n",
              " <selenium.webdriver.remote.webelement.WebElement (session=\"c751bcd9c62674b04c52db6a34250147\", element=\"f.E8AFB82C7E7B6601D570942E206E183D.d.C68A5995BE34C87A1885A3DF2850248F.e.80\")>,\n",
              " <selenium.webdriver.remote.webelement.WebElement (session=\"c751bcd9c62674b04c52db6a34250147\", element=\"f.E8AFB82C7E7B6601D570942E206E183D.d.C68A5995BE34C87A1885A3DF2850248F.e.81\")>,\n",
              " <selenium.webdriver.remote.webelement.WebElement (session=\"c751bcd9c62674b04c52db6a34250147\", element=\"f.E8AFB82C7E7B6601D570942E206E183D.d.C68A5995BE34C87A1885A3DF2850248F.e.82\")>,\n",
              " <selenium.webdriver.remote.webelement.WebElement (session=\"c751bcd9c62674b04c52db6a34250147\", element=\"f.E8AFB82C7E7B6601D570942E206E183D.d.C68A5995BE34C87A1885A3DF2850248F.e.83\")>,\n",
              " <selenium.webdriver.remote.webelement.WebElement (session=\"c751bcd9c62674b04c52db6a34250147\", element=\"f.E8AFB82C7E7B6601D570942E206E183D.d.C68A5995BE34C87A1885A3DF2850248F.e.84\")>,\n",
              " <selenium.webdriver.remote.webelement.WebElement (session=\"c751bcd9c62674b04c52db6a34250147\", element=\"f.E8AFB82C7E7B6601D570942E206E183D.d.C68A5995BE34C87A1885A3DF2850248F.e.85\")>,\n",
              " <selenium.webdriver.remote.webelement.WebElement (session=\"c751bcd9c62674b04c52db6a34250147\", element=\"f.E8AFB82C7E7B6601D570942E206E183D.d.C68A5995BE34C87A1885A3DF2850248F.e.86\")>,\n",
              " <selenium.webdriver.remote.webelement.WebElement (session=\"c751bcd9c62674b04c52db6a34250147\", element=\"f.E8AFB82C7E7B6601D570942E206E183D.d.C68A5995BE34C87A1885A3DF2850248F.e.87\")>,\n",
              " <selenium.webdriver.remote.webelement.WebElement (session=\"c751bcd9c62674b04c52db6a34250147\", element=\"f.E8AFB82C7E7B6601D570942E206E183D.d.C68A5995BE34C87A1885A3DF2850248F.e.88\")>,\n",
              " <selenium.webdriver.remote.webelement.WebElement (session=\"c751bcd9c62674b04c52db6a34250147\", element=\"f.E8AFB82C7E7B6601D570942E206E183D.d.C68A5995BE34C87A1885A3DF2850248F.e.89\")>,\n",
              " <selenium.webdriver.remote.webelement.WebElement (session=\"c751bcd9c62674b04c52db6a34250147\", element=\"f.E8AFB82C7E7B6601D570942E206E183D.d.C68A5995BE34C87A1885A3DF2850248F.e.90\")>,\n",
              " <selenium.webdriver.remote.webelement.WebElement (session=\"c751bcd9c62674b04c52db6a34250147\", element=\"f.E8AFB82C7E7B6601D570942E206E183D.d.C68A5995BE34C87A1885A3DF2850248F.e.91\")>,\n",
              " <selenium.webdriver.remote.webelement.WebElement (session=\"c751bcd9c62674b04c52db6a34250147\", element=\"f.E8AFB82C7E7B6601D570942E206E183D.d.C68A5995BE34C87A1885A3DF2850248F.e.92\")>,\n",
              " <selenium.webdriver.remote.webelement.WebElement (session=\"c751bcd9c62674b04c52db6a34250147\", element=\"f.E8AFB82C7E7B6601D570942E206E183D.d.C68A5995BE34C87A1885A3DF2850248F.e.93\")>,\n",
              " <selenium.webdriver.remote.webelement.WebElement (session=\"c751bcd9c62674b04c52db6a34250147\", element=\"f.E8AFB82C7E7B6601D570942E206E183D.d.C68A5995BE34C87A1885A3DF2850248F.e.94\")>,\n",
              " <selenium.webdriver.remote.webelement.WebElement (session=\"c751bcd9c62674b04c52db6a34250147\", element=\"f.E8AFB82C7E7B6601D570942E206E183D.d.C68A5995BE34C87A1885A3DF2850248F.e.95\")>,\n",
              " <selenium.webdriver.remote.webelement.WebElement (session=\"c751bcd9c62674b04c52db6a34250147\", element=\"f.E8AFB82C7E7B6601D570942E206E183D.d.C68A5995BE34C87A1885A3DF2850248F.e.96\")>,\n",
              " <selenium.webdriver.remote.webelement.WebElement (session=\"c751bcd9c62674b04c52db6a34250147\", element=\"f.E8AFB82C7E7B6601D570942E206E183D.d.C68A5995BE34C87A1885A3DF2850248F.e.97\")>,\n",
              " <selenium.webdriver.remote.webelement.WebElement (session=\"c751bcd9c62674b04c52db6a34250147\", element=\"f.E8AFB82C7E7B6601D570942E206E183D.d.C68A5995BE34C87A1885A3DF2850248F.e.98\")>,\n",
              " <selenium.webdriver.remote.webelement.WebElement (session=\"c751bcd9c62674b04c52db6a34250147\", element=\"f.E8AFB82C7E7B6601D570942E206E183D.d.C68A5995BE34C87A1885A3DF2850248F.e.99\")>,\n",
              " <selenium.webdriver.remote.webelement.WebElement (session=\"c751bcd9c62674b04c52db6a34250147\", element=\"f.E8AFB82C7E7B6601D570942E206E183D.d.C68A5995BE34C87A1885A3DF2850248F.e.100\")>,\n",
              " <selenium.webdriver.remote.webelement.WebElement (session=\"c751bcd9c62674b04c52db6a34250147\", element=\"f.E8AFB82C7E7B6601D570942E206E183D.d.C68A5995BE34C87A1885A3DF2850248F.e.101\")>,\n",
              " <selenium.webdriver.remote.webelement.WebElement (session=\"c751bcd9c62674b04c52db6a34250147\", element=\"f.E8AFB82C7E7B6601D570942E206E183D.d.C68A5995BE34C87A1885A3DF2850248F.e.102\")>,\n",
              " <selenium.webdriver.remote.webelement.WebElement (session=\"c751bcd9c62674b04c52db6a34250147\", element=\"f.E8AFB82C7E7B6601D570942E206E183D.d.C68A5995BE34C87A1885A3DF2850248F.e.103\")>,\n",
              " <selenium.webdriver.remote.webelement.WebElement (session=\"c751bcd9c62674b04c52db6a34250147\", element=\"f.E8AFB82C7E7B6601D570942E206E183D.d.C68A5995BE34C87A1885A3DF2850248F.e.104\")>,\n",
              " <selenium.webdriver.remote.webelement.WebElement (session=\"c751bcd9c62674b04c52db6a34250147\", element=\"f.E8AFB82C7E7B6601D570942E206E183D.d.C68A5995BE34C87A1885A3DF2850248F.e.105\")>,\n",
              " <selenium.webdriver.remote.webelement.WebElement (session=\"c751bcd9c62674b04c52db6a34250147\", element=\"f.E8AFB82C7E7B6601D570942E206E183D.d.C68A5995BE34C87A1885A3DF2850248F.e.106\")>,\n",
              " <selenium.webdriver.remote.webelement.WebElement (session=\"c751bcd9c62674b04c52db6a34250147\", element=\"f.E8AFB82C7E7B6601D570942E206E183D.d.C68A5995BE34C87A1885A3DF2850248F.e.107\")>,\n",
              " <selenium.webdriver.remote.webelement.WebElement (session=\"c751bcd9c62674b04c52db6a34250147\", element=\"f.E8AFB82C7E7B6601D570942E206E183D.d.C68A5995BE34C87A1885A3DF2850248F.e.108\")>,\n",
              " <selenium.webdriver.remote.webelement.WebElement (session=\"c751bcd9c62674b04c52db6a34250147\", element=\"f.E8AFB82C7E7B6601D570942E206E183D.d.C68A5995BE34C87A1885A3DF2850248F.e.109\")>,\n",
              " <selenium.webdriver.remote.webelement.WebElement (session=\"c751bcd9c62674b04c52db6a34250147\", element=\"f.E8AFB82C7E7B6601D570942E206E183D.d.C68A5995BE34C87A1885A3DF2850248F.e.110\")>,\n",
              " <selenium.webdriver.remote.webelement.WebElement (session=\"c751bcd9c62674b04c52db6a34250147\", element=\"f.E8AFB82C7E7B6601D570942E206E183D.d.C68A5995BE34C87A1885A3DF2850248F.e.111\")>,\n",
              " <selenium.webdriver.remote.webelement.WebElement (session=\"c751bcd9c62674b04c52db6a34250147\", element=\"f.E8AFB82C7E7B6601D570942E206E183D.d.C68A5995BE34C87A1885A3DF2850248F.e.112\")>,\n",
              " <selenium.webdriver.remote.webelement.WebElement (session=\"c751bcd9c62674b04c52db6a34250147\", element=\"f.E8AFB82C7E7B6601D570942E206E183D.d.C68A5995BE34C87A1885A3DF2850248F.e.113\")>,\n",
              " <selenium.webdriver.remote.webelement.WebElement (session=\"c751bcd9c62674b04c52db6a34250147\", element=\"f.E8AFB82C7E7B6601D570942E206E183D.d.C68A5995BE34C87A1885A3DF2850248F.e.114\")>,\n",
              " <selenium.webdriver.remote.webelement.WebElement (session=\"c751bcd9c62674b04c52db6a34250147\", element=\"f.E8AFB82C7E7B6601D570942E206E183D.d.C68A5995BE34C87A1885A3DF2850248F.e.115\")>,\n",
              " <selenium.webdriver.remote.webelement.WebElement (session=\"c751bcd9c62674b04c52db6a34250147\", element=\"f.E8AFB82C7E7B6601D570942E206E183D.d.C68A5995BE34C87A1885A3DF2850248F.e.116\")>,\n",
              " <selenium.webdriver.remote.webelement.WebElement (session=\"c751bcd9c62674b04c52db6a34250147\", element=\"f.E8AFB82C7E7B6601D570942E206E183D.d.C68A5995BE34C87A1885A3DF2850248F.e.117\")>,\n",
              " <selenium.webdriver.remote.webelement.WebElement (session=\"c751bcd9c62674b04c52db6a34250147\", element=\"f.E8AFB82C7E7B6601D570942E206E183D.d.C68A5995BE34C87A1885A3DF2850248F.e.118\")>,\n",
              " <selenium.webdriver.remote.webelement.WebElement (session=\"c751bcd9c62674b04c52db6a34250147\", element=\"f.E8AFB82C7E7B6601D570942E206E183D.d.C68A5995BE34C87A1885A3DF2850248F.e.119\")>]"
            ]
          },
          "execution_count": 34,
          "metadata": {},
          "output_type": "execute_result"
        }
      ],
      "source": [
        "title_tv_list=driver.find_elements(By.XPATH,\"//a[@class='title-list-grid__item--link']\")\n",
        "title_tv_list"
      ]
    },
    {
      "cell_type": "markdown",
      "source": [
        "This code snippet finds all the elements on the webpage that match the specified XPath expression.  It then assigns these elements to the variable title_tv_list."
      ],
      "metadata": {
        "id": "8wTy6ZK1Ym5w"
      }
    },
    {
      "cell_type": "markdown",
      "metadata": {
        "id": "ev-VUSNvJ-fJ"
      },
      "source": [
        "## **Fetching Tv shows Url details**"
      ]
    },
    {
      "cell_type": "code",
      "execution_count": null,
      "metadata": {
        "colab": {
          "base_uri": "https://localhost:8080/"
        },
        "id": "eMlwT4I-8gGh",
        "outputId": "e6397483-f0db-4865-a21a-7d4359744d53"
      },
      "outputs": [
        {
          "data": {
            "text/plain": [
              "['https://www.justwatch.com/in/tv-show/shogun-2024',\n",
              " 'https://www.justwatch.com/in/tv-show/fallout',\n",
              " 'https://www.justwatch.com/in/tv-show/mirzapur',\n",
              " 'https://www.justwatch.com/in/tv-show/panchayat',\n",
              " 'https://www.justwatch.com/in/tv-show/3-body-problem',\n",
              " 'https://www.justwatch.com/in/tv-show/game-of-thrones',\n",
              " 'https://www.justwatch.com/in/tv-show/attack-on-titan',\n",
              " 'https://www.justwatch.com/in/tv-show/ripley',\n",
              " 'https://www.justwatch.com/in/tv-show/inspector-rishi',\n",
              " 'https://www.justwatch.com/in/tv-show/apharan',\n",
              " 'https://www.justwatch.com/in/tv-show/a-gentleman-in-moscow',\n",
              " 'https://www.justwatch.com/in/tv-show/untitled-kapil-sharma-netflix-project',\n",
              " 'https://www.justwatch.com/in/tv-show/young-sheldon',\n",
              " 'https://www.justwatch.com/in/tv-show/baby-reindeer',\n",
              " 'https://www.justwatch.com/in/tv-show/sunflower-2021',\n",
              " 'https://www.justwatch.com/in/tv-show/the-gentlemen',\n",
              " 'https://www.justwatch.com/in/tv-show/solo-leveling-2024',\n",
              " 'https://www.justwatch.com/in/tv-show/dead-boy-detectives',\n",
              " 'https://www.justwatch.com/in/tv-show/mastram',\n",
              " 'https://www.justwatch.com/in/tv-show/parasyte-the-grey',\n",
              " 'https://www.justwatch.com/in/tv-show/the-walking-dead',\n",
              " 'https://www.justwatch.com/in/tv-show/farzi',\n",
              " 'https://www.justwatch.com/in/tv-show/queen-of-tears',\n",
              " 'https://www.justwatch.com/in/tv-show/invincible',\n",
              " 'https://www.justwatch.com/in/tv-show/maharani-2021',\n",
              " 'https://www.justwatch.com/in/tv-show/heeramandi',\n",
              " 'https://www.justwatch.com/in/tv-show/lucifer',\n",
              " 'https://www.justwatch.com/in/tv-show/jujutsu-kaisen',\n",
              " 'https://www.justwatch.com/in/tv-show/maamla-legal-hai',\n",
              " 'https://www.justwatch.com/in/tv-show/anthracite',\n",
              " 'https://www.justwatch.com/in/tv-show/gandii-baat',\n",
              " 'https://www.justwatch.com/in/tv-show/the-family-man',\n",
              " 'https://www.justwatch.com/in/tv-show/true-detective',\n",
              " 'https://www.justwatch.com/in/tv-show/jack-reacher',\n",
              " 'https://www.justwatch.com/in/tv-show/the-rookie',\n",
              " 'https://www.justwatch.com/in/tv-show/euphoria',\n",
              " 'https://www.justwatch.com/in/tv-show/sugar',\n",
              " 'https://www.justwatch.com/in/tv-show/aashram',\n",
              " 'https://www.justwatch.com/in/tv-show/paperhouse',\n",
              " 'https://www.justwatch.com/in/tv-show/dehati-ladke',\n",
              " 'https://www.justwatch.com/in/tv-show/naruto',\n",
              " 'https://www.justwatch.com/in/tv-show/scam-1992',\n",
              " 'https://www.justwatch.com/in/tv-show/modern-family',\n",
              " 'https://www.justwatch.com/in/tv-show/asur',\n",
              " 'https://www.justwatch.com/in/tv-show/we-were-the-lucky-ones',\n",
              " 'https://www.justwatch.com/in/tv-show/the-last-of-us',\n",
              " 'https://www.justwatch.com/in/tv-show/the-flash',\n",
              " 'https://www.justwatch.com/in/tv-show/breaking-bad',\n",
              " 'https://www.justwatch.com/in/tv-show/naruto-shippuden',\n",
              " 'https://www.justwatch.com/in/tv-show/broken-but-beautiful',\n",
              " 'https://www.justwatch.com/in/tv-show/house-of-the-dragon',\n",
              " 'https://www.justwatch.com/in/tv-show/american-horror-story',\n",
              " 'https://www.justwatch.com/in/tv-show/the-good-doctor',\n",
              " 'https://www.justwatch.com/in/tv-show/gullak',\n",
              " 'https://www.justwatch.com/in/tv-show/damaged',\n",
              " 'https://www.justwatch.com/in/tv-show/halo',\n",
              " 'https://www.justwatch.com/in/tv-show/lootere',\n",
              " 'https://www.justwatch.com/in/tv-show/peaky-blinders',\n",
              " 'https://www.justwatch.com/in/tv-show/stranger-things',\n",
              " 'https://www.justwatch.com/in/tv-show/loki',\n",
              " 'https://www.justwatch.com/in/tv-show/goodbye-earth',\n",
              " 'https://www.justwatch.com/in/tv-show/yellowstone',\n",
              " 'https://www.justwatch.com/in/tv-show/dark-desire',\n",
              " 'https://www.justwatch.com/in/tv-show/monk',\n",
              " 'https://www.justwatch.com/in/tv-show/brigands-the-quest-for-gold',\n",
              " 'https://www.justwatch.com/in/tv-show/mtv-splitsvilla',\n",
              " 'https://www.justwatch.com/in/tv-show/under-the-dome',\n",
              " 'https://www.justwatch.com/in/tv-show/playground',\n",
              " 'https://www.justwatch.com/in/tv-show/the-freelancer',\n",
              " 'https://www.justwatch.com/in/tv-show/avatar-the-last-airbender',\n",
              " 'https://www.justwatch.com/in/tv-show/the-serpent',\n",
              " 'https://www.justwatch.com/in/tv-show/montu-pilot',\n",
              " 'https://www.justwatch.com/in/tv-show/one-punch-man',\n",
              " 'https://www.justwatch.com/in/tv-show/save-the-tigers',\n",
              " 'https://www.justwatch.com/in/tv-show/fargo',\n",
              " 'https://www.justwatch.com/in/tv-show/the-vampire-diaries',\n",
              " 'https://www.justwatch.com/in/tv-show/spartacus',\n",
              " 'https://www.justwatch.com/in/tv-show/house',\n",
              " 'https://www.justwatch.com/in/tv-show/death-note',\n",
              " 'https://www.justwatch.com/in/tv-show/taaza-khabar',\n",
              " 'https://www.justwatch.com/in/tv-show/greys-anatomy',\n",
              " 'https://www.justwatch.com/in/tv-show/better-call-saul',\n",
              " 'https://www.justwatch.com/in/tv-show/ranneeti-balakot-and-beyond',\n",
              " 'https://www.justwatch.com/in/tv-show/9-1-1',\n",
              " 'https://www.justwatch.com/in/tv-show/paurashpur',\n",
              " 'https://www.justwatch.com/in/tv-show/dil-dosti-dilemma',\n",
              " 'https://www.justwatch.com/in/tv-show/the-railway-men-the-untold-story-of-bhopal-1984',\n",
              " 'https://www.justwatch.com/in/tv-show/demon-slayer-kimetsu-no-yaiba',\n",
              " 'https://www.justwatch.com/in/tv-show/how-i-met-your-mother',\n",
              " 'https://www.justwatch.com/in/tv-show/tokyo-vice',\n",
              " 'https://www.justwatch.com/in/tv-show/the-boys',\n",
              " 'https://www.justwatch.com/in/tv-show/bigg-boss',\n",
              " 'https://www.justwatch.com/in/tv-show/aarya',\n",
              " 'https://www.justwatch.com/in/tv-show/supersex',\n",
              " 'https://www.justwatch.com/in/tv-show/chernobyl',\n",
              " 'https://www.justwatch.com/in/tv-show/yeh-meri-family',\n",
              " 'https://www.justwatch.com/in/tv-show/westworld',\n",
              " 'https://www.justwatch.com/in/tv-show/mashle-magic-and-muscles',\n",
              " 'https://www.justwatch.com/in/tv-show/monarch-legacy-of-monsters',\n",
              " 'https://www.justwatch.com/in/tv-show/dark']"
            ]
          },
          "execution_count": 35,
          "metadata": {},
          "output_type": "execute_result"
        }
      ],
      "source": [
        "Tv_url=[]\n",
        "for i in title_tv_list:\n",
        "    name=i.get_attribute('href')\n",
        "    Tv_url.append(name)\n",
        "Tv_url"
      ]
    },
    {
      "cell_type": "markdown",
      "source": [
        "This code iterates through each element in title_tv_list, extracts the 'href' attribute using get_attribute(), and appends it to the list Tv_url. Finally, it returns the list of TV show URLs."
      ],
      "metadata": {
        "id": "20hESrIKYyLE"
      }
    },
    {
      "cell_type": "markdown",
      "metadata": {
        "id": "1vZLzmqcKDPX"
      },
      "source": [
        "## **Fetching Tv Show Title details**"
      ]
    },
    {
      "cell_type": "code",
      "execution_count": null,
      "metadata": {
        "colab": {
          "base_uri": "https://localhost:8080/"
        },
        "id": "a8Y6UF6-JLvO",
        "outputId": "f8dc224b-5a52-48c1-d82f-234f477dfb5f"
      },
      "outputs": [
        {
          "name": "stdout",
          "output_type": "stream",
          "text": [
            "['shogun-2024', 'fallout', 'mirzapur', 'panchayat', '3-body-problem', 'game-of-thrones', 'attack-on-titan', 'ripley', 'inspector-rishi', 'apharan', 'a-gentleman-in-moscow', 'untitled-kapil-sharma-netflix-project', 'young-sheldon', 'baby-reindeer', 'sunflower-2021', 'the-gentlemen', 'solo-leveling-2024', 'dead-boy-detectives', 'mastram', 'parasyte-the-grey', 'the-walking-dead', 'farzi', 'queen-of-tears', 'invincible', 'maharani-2021', 'heeramandi', 'lucifer', 'jujutsu-kaisen', 'maamla-legal-hai', 'anthracite', 'gandii-baat', 'the-family-man', 'true-detective', 'jack-reacher', 'the-rookie', 'euphoria', 'sugar', 'aashram', 'paperhouse', 'dehati-ladke', 'naruto', 'scam-1992', 'modern-family', 'asur', 'we-were-the-lucky-ones', 'the-last-of-us', 'the-flash', 'breaking-bad', 'naruto-shippuden', 'broken-but-beautiful', 'house-of-the-dragon', 'american-horror-story', 'the-good-doctor', 'gullak', 'damaged', 'halo', 'lootere', 'peaky-blinders', 'stranger-things', 'loki', 'goodbye-earth', 'yellowstone', 'dark-desire', 'monk', 'brigands-the-quest-for-gold', 'mtv-splitsvilla', 'under-the-dome', 'playground', 'the-freelancer', 'avatar-the-last-airbender', 'the-serpent', 'montu-pilot', 'one-punch-man', 'save-the-tigers', 'fargo', 'the-vampire-diaries', 'spartacus', 'house', 'death-note', 'taaza-khabar', 'greys-anatomy', 'better-call-saul', 'ranneeti-balakot-and-beyond', '9-1-1', 'paurashpur', 'dil-dosti-dilemma', 'the-railway-men-the-untold-story-of-bhopal-1984', 'demon-slayer-kimetsu-no-yaiba', 'how-i-met-your-mother', 'tokyo-vice', 'the-boys', 'bigg-boss', 'aarya', 'supersex', 'chernobyl', 'yeh-meri-family', 'westworld', 'mashle-magic-and-muscles', 'monarch-legacy-of-monsters', 'dark']\n"
          ]
        }
      ],
      "source": [
        "tv_show_names = []\n",
        "\n",
        "# Extract the TV show names from the URLs\n",
        "for url in Tv_url:\n",
        "    tv_show_name = url.split('/')[-1]\n",
        "    tv_show_names.append(tv_show_name)\n",
        "\n",
        "print(tv_show_names)"
      ]
    },
    {
      "cell_type": "markdown",
      "source": [
        "\n",
        "This code extracts the TV show names from the URLs in the Tv_url list."
      ],
      "metadata": {
        "id": "4kqqx1EBZL4H"
      }
    },
    {
      "cell_type": "code",
      "execution_count": null,
      "metadata": {
        "colab": {
          "base_uri": "https://localhost:8080/"
        },
        "id": "9f1ctEqsdJQD",
        "outputId": "6408580c-fe8a-4595-87f9-da26fa32d7cd"
      },
      "outputs": [
        {
          "data": {
            "text/plain": [
              "['shogun-2024',\n",
              " 'fallout',\n",
              " 'mirzapur',\n",
              " 'panchayat',\n",
              " '3-body-problem',\n",
              " 'game-of-thrones',\n",
              " 'attack-on-titan',\n",
              " 'ripley',\n",
              " 'inspector-rishi',\n",
              " 'apharan',\n",
              " 'a-gentleman-in-moscow',\n",
              " 'untitled-kapil-sharma-netflix-project',\n",
              " 'young-sheldon',\n",
              " 'baby-reindeer',\n",
              " 'sunflower-2021',\n",
              " 'the-gentlemen',\n",
              " 'solo-leveling-2024',\n",
              " 'dead-boy-detectives',\n",
              " 'mastram',\n",
              " 'parasyte-the-grey',\n",
              " 'the-walking-dead',\n",
              " 'farzi',\n",
              " 'queen-of-tears',\n",
              " 'invincible',\n",
              " 'maharani-2021',\n",
              " 'heeramandi',\n",
              " 'lucifer',\n",
              " 'jujutsu-kaisen',\n",
              " 'maamla-legal-hai',\n",
              " 'anthracite',\n",
              " 'gandii-baat',\n",
              " 'the-family-man',\n",
              " 'true-detective',\n",
              " 'jack-reacher',\n",
              " 'the-rookie',\n",
              " 'euphoria',\n",
              " 'sugar',\n",
              " 'aashram',\n",
              " 'paperhouse',\n",
              " 'dehati-ladke',\n",
              " 'naruto',\n",
              " 'scam-1992',\n",
              " 'modern-family',\n",
              " 'asur',\n",
              " 'we-were-the-lucky-ones',\n",
              " 'the-last-of-us',\n",
              " 'the-flash',\n",
              " 'breaking-bad',\n",
              " 'naruto-shippuden',\n",
              " 'broken-but-beautiful',\n",
              " 'house-of-the-dragon',\n",
              " 'american-horror-story',\n",
              " 'the-good-doctor',\n",
              " 'gullak',\n",
              " 'damaged',\n",
              " 'halo',\n",
              " 'lootere',\n",
              " 'peaky-blinders',\n",
              " 'stranger-things',\n",
              " 'loki',\n",
              " 'goodbye-earth',\n",
              " 'yellowstone',\n",
              " 'dark-desire',\n",
              " 'monk',\n",
              " 'brigands-the-quest-for-gold',\n",
              " 'mtv-splitsvilla',\n",
              " 'under-the-dome',\n",
              " 'playground',\n",
              " 'the-freelancer',\n",
              " 'avatar-the-last-airbender',\n",
              " 'the-serpent',\n",
              " 'montu-pilot',\n",
              " 'one-punch-man',\n",
              " 'save-the-tigers',\n",
              " 'fargo',\n",
              " 'the-vampire-diaries',\n",
              " 'spartacus',\n",
              " 'house',\n",
              " 'death-note',\n",
              " 'taaza-khabar',\n",
              " 'greys-anatomy',\n",
              " 'better-call-saul',\n",
              " 'ranneeti-balakot-and-beyond',\n",
              " '9-1-1',\n",
              " 'paurashpur',\n",
              " 'dil-dosti-dilemma',\n",
              " 'the-railway-men-the-untold-story-of-bhopal-1984',\n",
              " 'demon-slayer-kimetsu-no-yaiba',\n",
              " 'how-i-met-your-mother',\n",
              " 'tokyo-vice',\n",
              " 'the-boys',\n",
              " 'bigg-boss',\n",
              " 'aarya',\n",
              " 'supersex',\n",
              " 'chernobyl',\n",
              " 'yeh-meri-family',\n",
              " 'westworld',\n",
              " 'mashle-magic-and-muscles',\n",
              " 'monarch-legacy-of-monsters',\n",
              " 'dark']"
            ]
          },
          "execution_count": 37,
          "metadata": {},
          "output_type": "execute_result"
        }
      ],
      "source": [
        "tv_show_names"
      ]
    },
    {
      "cell_type": "markdown",
      "source": [
        "the Tv Show names are listed above\n"
      ],
      "metadata": {
        "id": "nP-a9uWnZQxC"
      }
    },
    {
      "cell_type": "markdown",
      "metadata": {
        "id": "mEIt9j6RKa9B"
      },
      "source": [
        "## **Fetching Release Year**"
      ]
    },
    {
      "cell_type": "code",
      "execution_count": null,
      "metadata": {
        "colab": {
          "base_uri": "https://localhost:8080/"
        },
        "id": "r72fyiF8JozW",
        "outputId": "859f0b83-41de-41a8-d876-8196b27ea390"
      },
      "outputs": [
        {
          "name": "stdout",
          "output_type": "stream",
          "text": [
            "{'Tv url': 'https://www.justwatch.com/in/tv-show/shogun-2024', 'Release Year': '2024'}\n",
            "{'Tv url': 'https://www.justwatch.com/in/tv-show/fallout', 'Release Year': '2024'}\n",
            "{'Tv url': 'https://www.justwatch.com/in/tv-show/mirzapur', 'Release Year': '2018'}\n",
            "{'Tv url': 'https://www.justwatch.com/in/tv-show/panchayat', 'Release Year': '2020'}\n",
            "{'Tv url': 'https://www.justwatch.com/in/tv-show/3-body-problem', 'Release Year': '2024'}\n",
            "{'Tv url': 'https://www.justwatch.com/in/tv-show/game-of-thrones', 'Release Year': '2011'}\n",
            "{'Tv url': 'https://www.justwatch.com/in/tv-show/attack-on-titan', 'Release Year': '2013'}\n",
            "{'Tv url': 'https://www.justwatch.com/in/tv-show/ripley', 'Release Year': '2024'}\n",
            "{'Tv url': 'https://www.justwatch.com/in/tv-show/inspector-rishi', 'Release Year': '2024'}\n",
            "{'Tv url': 'https://www.justwatch.com/in/tv-show/apharan', 'Release Year': '2018'}\n",
            "{'Tv url': 'https://www.justwatch.com/in/tv-show/a-gentleman-in-moscow', 'Release Year': '2024'}\n",
            "{'Tv url': 'https://www.justwatch.com/in/tv-show/untitled-kapil-sharma-netflix-project', 'Release Year': '2024'}\n",
            "{'Tv url': 'https://www.justwatch.com/in/tv-show/young-sheldon', 'Release Year': '2017'}\n",
            "{'Tv url': 'https://www.justwatch.com/in/tv-show/baby-reindeer', 'Release Year': '2024'}\n",
            "{'Tv url': 'https://www.justwatch.com/in/tv-show/sunflower-2021', 'Release Year': '2021'}\n",
            "{'Tv url': 'https://www.justwatch.com/in/tv-show/the-gentlemen', 'Release Year': '2024'}\n",
            "{'Tv url': 'https://www.justwatch.com/in/tv-show/solo-leveling-2024', 'Release Year': '2024'}\n",
            "{'Tv url': 'https://www.justwatch.com/in/tv-show/dead-boy-detectives', 'Release Year': 'Release Year not found'}\n",
            "{'Tv url': 'https://www.justwatch.com/in/tv-show/mastram', 'Release Year': 'Release Year not found'}\n",
            "{'Tv url': 'https://www.justwatch.com/in/tv-show/parasyte-the-grey', 'Release Year': '2024'}\n",
            "{'Tv url': 'https://www.justwatch.com/in/tv-show/the-walking-dead', 'Release Year': 'Release Year not found'}\n",
            "{'Tv url': 'https://www.justwatch.com/in/tv-show/farzi', 'Release Year': 'Release Year not found'}\n",
            "{'Tv url': 'https://www.justwatch.com/in/tv-show/queen-of-tears', 'Release Year': 'Release Year not found'}\n",
            "{'Tv url': 'https://www.justwatch.com/in/tv-show/invincible', 'Release Year': 'Release Year not found'}\n",
            "{'Tv url': 'https://www.justwatch.com/in/tv-show/maharani-2021', 'Release Year': 'Release Year not found'}\n",
            "{'Tv url': 'https://www.justwatch.com/in/tv-show/heeramandi', 'Release Year': 'Release Year not found'}\n",
            "{'Tv url': 'https://www.justwatch.com/in/tv-show/lucifer', 'Release Year': 'Release Year not found'}\n",
            "{'Tv url': 'https://www.justwatch.com/in/tv-show/jujutsu-kaisen', 'Release Year': '2020'}\n",
            "{'Tv url': 'https://www.justwatch.com/in/tv-show/maamla-legal-hai', 'Release Year': 'Release Year not found'}\n",
            "{'Tv url': 'https://www.justwatch.com/in/tv-show/anthracite', 'Release Year': 'Release Year not found'}\n",
            "{'Tv url': 'https://www.justwatch.com/in/tv-show/gandii-baat', 'Release Year': 'Release Year not found'}\n",
            "{'Tv url': 'https://www.justwatch.com/in/tv-show/the-family-man', 'Release Year': 'Release Year not found'}\n",
            "{'Tv url': 'https://www.justwatch.com/in/tv-show/true-detective', 'Release Year': 'Release Year not found'}\n",
            "{'Tv url': 'https://www.justwatch.com/in/tv-show/jack-reacher', 'Release Year': 'Release Year not found'}\n",
            "{'Tv url': 'https://www.justwatch.com/in/tv-show/the-rookie', 'Release Year': '2018'}\n",
            "{'Tv url': 'https://www.justwatch.com/in/tv-show/euphoria', 'Release Year': 'Release Year not found'}\n",
            "{'Tv url': 'https://www.justwatch.com/in/tv-show/sugar', 'Release Year': 'Release Year not found'}\n",
            "{'Tv url': 'https://www.justwatch.com/in/tv-show/aashram', 'Release Year': 'Release Year not found'}\n",
            "{'Tv url': 'https://www.justwatch.com/in/tv-show/paperhouse', 'Release Year': 'Release Year not found'}\n",
            "{'Tv url': 'https://www.justwatch.com/in/tv-show/dehati-ladke', 'Release Year': 'Release Year not found'}\n",
            "{'Tv url': 'https://www.justwatch.com/in/tv-show/naruto', 'Release Year': 'Release Year not found'}\n",
            "{'Tv url': 'https://www.justwatch.com/in/tv-show/scam-1992', 'Release Year': '2020'}\n",
            "{'Tv url': 'https://www.justwatch.com/in/tv-show/modern-family', 'Release Year': 'Release Year not found'}\n",
            "{'Tv url': 'https://www.justwatch.com/in/tv-show/asur', 'Release Year': 'Release Year not found'}\n",
            "{'Tv url': 'https://www.justwatch.com/in/tv-show/we-were-the-lucky-ones', 'Release Year': 'Release Year not found'}\n",
            "{'Tv url': 'https://www.justwatch.com/in/tv-show/the-last-of-us', 'Release Year': 'Release Year not found'}\n",
            "{'Tv url': 'https://www.justwatch.com/in/tv-show/the-flash', 'Release Year': 'Release Year not found'}\n",
            "{'Tv url': 'https://www.justwatch.com/in/tv-show/breaking-bad', 'Release Year': 'Release Year not found'}\n",
            "{'Tv url': 'https://www.justwatch.com/in/tv-show/naruto-shippuden', 'Release Year': '2007'}\n",
            "{'Tv url': 'https://www.justwatch.com/in/tv-show/broken-but-beautiful', 'Release Year': 'Release Year not found'}\n",
            "{'Tv url': 'https://www.justwatch.com/in/tv-show/house-of-the-dragon', 'Release Year': 'Release Year not found'}\n",
            "{'Tv url': 'https://www.justwatch.com/in/tv-show/american-horror-story', 'Release Year': 'Release Year not found'}\n",
            "{'Tv url': 'https://www.justwatch.com/in/tv-show/the-good-doctor', 'Release Year': 'Release Year not found'}\n",
            "{'Tv url': 'https://www.justwatch.com/in/tv-show/gullak', 'Release Year': 'Release Year not found'}\n",
            "{'Tv url': 'https://www.justwatch.com/in/tv-show/damaged', 'Release Year': 'Release Year not found'}\n",
            "{'Tv url': 'https://www.justwatch.com/in/tv-show/halo', 'Release Year': '2022'}\n",
            "{'Tv url': 'https://www.justwatch.com/in/tv-show/lootere', 'Release Year': 'Release Year not found'}\n",
            "{'Tv url': 'https://www.justwatch.com/in/tv-show/peaky-blinders', 'Release Year': 'Release Year not found'}\n",
            "{'Tv url': 'https://www.justwatch.com/in/tv-show/stranger-things', 'Release Year': 'Release Year not found'}\n",
            "{'Tv url': 'https://www.justwatch.com/in/tv-show/loki', 'Release Year': 'Release Year not found'}\n",
            "{'Tv url': 'https://www.justwatch.com/in/tv-show/goodbye-earth', 'Release Year': 'Release Year not found'}\n",
            "{'Tv url': 'https://www.justwatch.com/in/tv-show/yellowstone', 'Release Year': '2018'}\n",
            "{'Tv url': 'https://www.justwatch.com/in/tv-show/dark-desire', 'Release Year': 'Release Year not found'}\n",
            "{'Tv url': 'https://www.justwatch.com/in/tv-show/monk', 'Release Year': 'Release Year not found'}\n",
            "{'Tv url': 'https://www.justwatch.com/in/tv-show/brigands-the-quest-for-gold', 'Release Year': 'Release Year not found'}\n",
            "{'Tv url': 'https://www.justwatch.com/in/tv-show/mtv-splitsvilla', 'Release Year': 'Release Year not found'}\n",
            "{'Tv url': 'https://www.justwatch.com/in/tv-show/under-the-dome', 'Release Year': 'Release Year not found'}\n",
            "{'Tv url': 'https://www.justwatch.com/in/tv-show/playground', 'Release Year': '2022'}\n",
            "{'Tv url': 'https://www.justwatch.com/in/tv-show/the-freelancer', 'Release Year': 'Release Year not found'}\n",
            "{'Tv url': 'https://www.justwatch.com/in/tv-show/avatar-the-last-airbender', 'Release Year': 'Release Year not found'}\n",
            "{'Tv url': 'https://www.justwatch.com/in/tv-show/the-serpent', 'Release Year': 'Release Year not found'}\n",
            "{'Tv url': 'https://www.justwatch.com/in/tv-show/montu-pilot', 'Release Year': 'Release Year not found'}\n",
            "{'Tv url': 'https://www.justwatch.com/in/tv-show/one-punch-man', 'Release Year': 'Release Year not found'}\n",
            "{'Tv url': 'https://www.justwatch.com/in/tv-show/save-the-tigers', 'Release Year': 'Release Year not found'}\n",
            "{'Tv url': 'https://www.justwatch.com/in/tv-show/fargo', 'Release Year': '2014'}\n",
            "{'Tv url': 'https://www.justwatch.com/in/tv-show/the-vampire-diaries', 'Release Year': 'Release Year not found'}\n",
            "{'Tv url': 'https://www.justwatch.com/in/tv-show/spartacus', 'Release Year': 'Release Year not found'}\n",
            "{'Tv url': 'https://www.justwatch.com/in/tv-show/house', 'Release Year': 'Release Year not found'}\n",
            "{'Tv url': 'https://www.justwatch.com/in/tv-show/death-note', 'Release Year': 'Release Year not found'}\n",
            "{'Tv url': 'https://www.justwatch.com/in/tv-show/taaza-khabar', 'Release Year': 'Release Year not found'}\n",
            "{'Tv url': 'https://www.justwatch.com/in/tv-show/greys-anatomy', 'Release Year': '2005'}\n",
            "{'Tv url': 'https://www.justwatch.com/in/tv-show/better-call-saul', 'Release Year': 'Release Year not found'}\n",
            "{'Tv url': 'https://www.justwatch.com/in/tv-show/ranneeti-balakot-and-beyond', 'Release Year': 'Release Year not found'}\n",
            "{'Tv url': 'https://www.justwatch.com/in/tv-show/9-1-1', 'Release Year': 'Release Year not found'}\n",
            "{'Tv url': 'https://www.justwatch.com/in/tv-show/paurashpur', 'Release Year': 'Release Year not found'}\n",
            "{'Tv url': 'https://www.justwatch.com/in/tv-show/dil-dosti-dilemma', 'Release Year': 'Release Year not found'}\n",
            "{'Tv url': 'https://www.justwatch.com/in/tv-show/the-railway-men-the-untold-story-of-bhopal-1984', 'Release Year': '2023'}\n",
            "{'Tv url': 'https://www.justwatch.com/in/tv-show/demon-slayer-kimetsu-no-yaiba', 'Release Year': 'Release Year not found'}\n",
            "{'Tv url': 'https://www.justwatch.com/in/tv-show/how-i-met-your-mother', 'Release Year': 'Release Year not found'}\n",
            "{'Tv url': 'https://www.justwatch.com/in/tv-show/tokyo-vice', 'Release Year': 'Release Year not found'}\n",
            "{'Tv url': 'https://www.justwatch.com/in/tv-show/the-boys', 'Release Year': '2019'}\n",
            "{'Tv url': 'https://www.justwatch.com/in/tv-show/bigg-boss', 'Release Year': 'Release Year not found'}\n",
            "{'Tv url': 'https://www.justwatch.com/in/tv-show/aarya', 'Release Year': 'Release Year not found'}\n",
            "{'Tv url': 'https://www.justwatch.com/in/tv-show/supersex', 'Release Year': 'Release Year not found'}\n",
            "{'Tv url': 'https://www.justwatch.com/in/tv-show/chernobyl', 'Release Year': 'Release Year not found'}\n",
            "{'Tv url': 'https://www.justwatch.com/in/tv-show/yeh-meri-family', 'Release Year': 'Release Year not found'}\n",
            "{'Tv url': 'https://www.justwatch.com/in/tv-show/westworld', 'Release Year': 'Release Year not found'}\n",
            "{'Tv url': 'https://www.justwatch.com/in/tv-show/mashle-magic-and-muscles', 'Release Year': '2023'}\n",
            "{'Tv url': 'https://www.justwatch.com/in/tv-show/monarch-legacy-of-monsters', 'Release Year': 'Release Year not found'}\n",
            "{'Tv url': 'https://www.justwatch.com/in/tv-show/dark', 'Release Year': 'Release Year not found'}\n"
          ]
        }
      ],
      "source": [
        "Tv_Release_year=[]\n",
        "for tv_url in Tv_url:\n",
        "    # Navigate to the Tv URL\n",
        "    driver.get(tv_url)\n",
        "\n",
        "    try:\n",
        "        # Find the release year element\n",
        "        release_year_element = driver.find_element(By.XPATH, \"//span[@class='text-muted']\")\n",
        "        release_year = release_year_element.text.strip(\"()\")\n",
        "    except:\n",
        "        release_year = \"Release Year not found\"\n",
        "    Tv_Release_year.append({\"Tv url\": tv_url, \"Release Year\": release_year})\n",
        "\n",
        "for release in Tv_Release_year:\n",
        "  print(release)"
      ]
    },
    {
      "cell_type": "markdown",
      "source": [
        "This script iterates through each TV show URL in the Tv_url list. For each URL, it navigates to the page using driver.get(tv_url). Then, it attempts to find the release year element on the page using an XPath expression and extracts the text."
      ],
      "metadata": {
        "id": "pZsQFGLsZwMF"
      }
    },
    {
      "cell_type": "code",
      "execution_count": null,
      "metadata": {
        "id": "ex51qjBjbuCn"
      },
      "outputs": [],
      "source": [
        "tv_release_years = [year[\"Release Year\"] for year in Tv_Release_year]"
      ]
    },
    {
      "cell_type": "code",
      "execution_count": null,
      "metadata": {
        "colab": {
          "base_uri": "https://localhost:8080/"
        },
        "id": "xi-_gbKLdPNo",
        "outputId": "6ffe84a2-20db-4b91-b72e-463d61c0005a"
      },
      "outputs": [
        {
          "data": {
            "text/plain": [
              "['2024',\n",
              " '2024',\n",
              " '2018',\n",
              " '2020',\n",
              " '2024',\n",
              " '2011',\n",
              " '2013',\n",
              " '2024',\n",
              " '2024',\n",
              " '2018',\n",
              " '2024',\n",
              " '2024',\n",
              " '2017',\n",
              " '2024',\n",
              " '2021',\n",
              " '2024',\n",
              " '2024',\n",
              " 'Release Year not found',\n",
              " 'Release Year not found',\n",
              " '2024',\n",
              " 'Release Year not found',\n",
              " 'Release Year not found',\n",
              " 'Release Year not found',\n",
              " 'Release Year not found',\n",
              " 'Release Year not found',\n",
              " 'Release Year not found',\n",
              " 'Release Year not found',\n",
              " '2020',\n",
              " 'Release Year not found',\n",
              " 'Release Year not found',\n",
              " 'Release Year not found',\n",
              " 'Release Year not found',\n",
              " 'Release Year not found',\n",
              " 'Release Year not found',\n",
              " '2018',\n",
              " 'Release Year not found',\n",
              " 'Release Year not found',\n",
              " 'Release Year not found',\n",
              " 'Release Year not found',\n",
              " 'Release Year not found',\n",
              " 'Release Year not found',\n",
              " '2020',\n",
              " 'Release Year not found',\n",
              " 'Release Year not found',\n",
              " 'Release Year not found',\n",
              " 'Release Year not found',\n",
              " 'Release Year not found',\n",
              " 'Release Year not found',\n",
              " '2007',\n",
              " 'Release Year not found',\n",
              " 'Release Year not found',\n",
              " 'Release Year not found',\n",
              " 'Release Year not found',\n",
              " 'Release Year not found',\n",
              " 'Release Year not found',\n",
              " '2022',\n",
              " 'Release Year not found',\n",
              " 'Release Year not found',\n",
              " 'Release Year not found',\n",
              " 'Release Year not found',\n",
              " 'Release Year not found',\n",
              " '2018',\n",
              " 'Release Year not found',\n",
              " 'Release Year not found',\n",
              " 'Release Year not found',\n",
              " 'Release Year not found',\n",
              " 'Release Year not found',\n",
              " '2022',\n",
              " 'Release Year not found',\n",
              " 'Release Year not found',\n",
              " 'Release Year not found',\n",
              " 'Release Year not found',\n",
              " 'Release Year not found',\n",
              " 'Release Year not found',\n",
              " '2014',\n",
              " 'Release Year not found',\n",
              " 'Release Year not found',\n",
              " 'Release Year not found',\n",
              " 'Release Year not found',\n",
              " 'Release Year not found',\n",
              " '2005',\n",
              " 'Release Year not found',\n",
              " 'Release Year not found',\n",
              " 'Release Year not found',\n",
              " 'Release Year not found',\n",
              " 'Release Year not found',\n",
              " '2023',\n",
              " 'Release Year not found',\n",
              " 'Release Year not found',\n",
              " 'Release Year not found',\n",
              " '2019',\n",
              " 'Release Year not found',\n",
              " 'Release Year not found',\n",
              " 'Release Year not found',\n",
              " 'Release Year not found',\n",
              " 'Release Year not found',\n",
              " 'Release Year not found',\n",
              " '2023',\n",
              " 'Release Year not found',\n",
              " 'Release Year not found']"
            ]
          },
          "execution_count": 40,
          "metadata": {},
          "output_type": "execute_result"
        }
      ],
      "source": [
        "tv_release_years"
      ]
    },
    {
      "cell_type": "markdown",
      "source": [
        "\n",
        "This code extracts the release years from the Tv_Release_year list by iterating through each dictionary in the list and extracting the \"Release Year\" value. It stores these release years in the tv_release_years list using a list comprehension. The release years are listed above."
      ],
      "metadata": {
        "id": "Mp5hEynAZ0V9"
      }
    },
    {
      "cell_type": "markdown",
      "metadata": {
        "id": "P96pGO9kRCLv"
      },
      "source": [
        "## **Fetching TV Show Genre Details**"
      ]
    },
    {
      "cell_type": "code",
      "execution_count": null,
      "metadata": {
        "colab": {
          "base_uri": "https://localhost:8080/"
        },
        "id": "Jay8a9xgT43-",
        "outputId": "af3bb644-2926-4ca1-c3c0-82299702fd45"
      },
      "outputs": [
        {
          "name": "stderr",
          "output_type": "stream",
          "text": [
            "C:\\Users\\Deepika\\AppData\\Local\\Temp\\ipykernel_13692\\360582247.py:8: DeprecationWarning: The 'text' argument to find()-type methods is deprecated. Use 'string' instead.\n",
            "  genres_heading = soup.find('h3', class_='detail-infos__subheading', text='Genres')\n"
          ]
        },
        {
          "name": "stdout",
          "output_type": "stream",
          "text": [
            "['Crime', 'Action & Adventure', 'Drama', 'Mystery & Thriller', 'Drama', 'History', 'Mystery & Thriller', 'Comedy', 'Crime', 'Drama', 'Horror', 'Action & Adventure', 'Science-Fiction', 'Drama', 'Mystery & Thriller', 'Action & Adventure', 'Crime', 'Drama', 'Drama', 'Mystery & Thriller', 'Crime', 'Drama', 'Romance', 'Action & Adventure', 'Crime', 'Action & Adventure', 'Drama', 'History', 'Drama', 'Romance', 'Science-Fiction', 'Drama', 'Action & Adventure', 'Comedy', 'Fantasy', 'Mystery & Thriller', 'Animation', 'Action & Adventure', 'Fantasy', 'Mystery & Thriller', 'Science-Fiction', 'Kids & Family', 'Drama', 'Comedy', 'Romance']\n"
          ]
        }
      ],
      "source": [
        "def fetch_genre(url2):\n",
        "    response = requests.get(url2)\n",
        "    if response.status_code == 200:\n",
        "        soup = BeautifulSoup(response.content, 'html.parser')\n",
        "\n",
        "        # Find the genres using the provided XPath expression\n",
        "        genres_heading = soup.find('h3', class_='detail-infos__subheading', text='Genres')\n",
        "        if genres_heading:\n",
        "            genres_element = genres_heading.find_next_sibling('div', class_='detail-infos__value')\n",
        "            genres = genres_element.text.strip()\n",
        "\n",
        "            # Split the genres into a list\n",
        "            genres_list = [genre.strip() for genre in genres.split(',')]\n",
        "            return genres_list\n",
        "    return None\n",
        "\n",
        "# Fetch genres for each URL in 'tv' and store in a new list 'Tv_generes'\n",
        "Tv_genres = []\n",
        "\n",
        "for tv_url in Tv_url:\n",
        "    genres = fetch_genre(tv_url)\n",
        "    if genres:\n",
        "        Tv_genres.extend(genres)\n",
        "\n",
        "# Print the list of all genres\n",
        "print(Tv_genres)"
      ]
    },
    {
      "cell_type": "markdown",
      "source": [
        "This code defines a function fetch_genre(url2) to scrape the genres of TV shows from a given URL."
      ],
      "metadata": {
        "id": "-0n4okznagN9"
      }
    },
    {
      "cell_type": "code",
      "execution_count": null,
      "metadata": {
        "colab": {
          "base_uri": "https://localhost:8080/"
        },
        "id": "tF6MjXg7dVQh",
        "outputId": "2869a44d-55d1-4491-c0f9-6da79a0b0876"
      },
      "outputs": [
        {
          "data": {
            "text/plain": [
              "['Crime',\n",
              " 'Action & Adventure',\n",
              " 'Drama',\n",
              " 'Mystery & Thriller',\n",
              " 'Drama',\n",
              " 'History',\n",
              " 'Mystery & Thriller',\n",
              " 'Comedy',\n",
              " 'Crime',\n",
              " 'Drama',\n",
              " 'Horror',\n",
              " 'Action & Adventure',\n",
              " 'Science-Fiction',\n",
              " 'Drama',\n",
              " 'Mystery & Thriller',\n",
              " 'Action & Adventure',\n",
              " 'Crime',\n",
              " 'Drama',\n",
              " 'Drama',\n",
              " 'Mystery & Thriller',\n",
              " 'Crime',\n",
              " 'Drama',\n",
              " 'Romance',\n",
              " 'Action & Adventure',\n",
              " 'Crime',\n",
              " 'Action & Adventure',\n",
              " 'Drama',\n",
              " 'History',\n",
              " 'Drama',\n",
              " 'Romance',\n",
              " 'Science-Fiction',\n",
              " 'Drama',\n",
              " 'Action & Adventure',\n",
              " 'Comedy',\n",
              " 'Fantasy',\n",
              " 'Mystery & Thriller',\n",
              " 'Animation',\n",
              " 'Action & Adventure',\n",
              " 'Fantasy',\n",
              " 'Mystery & Thriller',\n",
              " 'Science-Fiction',\n",
              " 'Kids & Family',\n",
              " 'Drama',\n",
              " 'Comedy',\n",
              " 'Romance']"
            ]
          },
          "execution_count": 42,
          "metadata": {},
          "output_type": "execute_result"
        }
      ],
      "source": [
        "Tv_genres"
      ]
    },
    {
      "cell_type": "markdown",
      "source": [
        "Tv show genres are listed above."
      ],
      "metadata": {
        "id": "MP4zx2gdaiQ2"
      }
    },
    {
      "cell_type": "markdown",
      "metadata": {
        "id": "hk3eSdDAXQv8"
      },
      "source": [
        "## **Fetching IMDB Rating Details**"
      ]
    },
    {
      "cell_type": "code",
      "execution_count": null,
      "metadata": {
        "colab": {
          "base_uri": "https://localhost:8080/"
        },
        "id": "NV9-xqPzJzRf",
        "outputId": "443864c2-2ceb-4acb-83e5-1582d9aea8a2"
      },
      "outputs": [
        {
          "name": "stderr",
          "output_type": "stream",
          "text": [
            "C:\\Users\\Deepika\\AppData\\Local\\Temp\\ipykernel_13692\\2858171888.py:7: DeprecationWarning: The 'text' argument to find()-type methods is deprecated. Use 'string' instead.\n",
            "  imdb_heading = soup.find('h3', class_='detail-infos__subheading', text='Rating')\n"
          ]
        }
      ],
      "source": [
        "def fetch_imdb(url2):\n",
        "    response = requests.get(url2)\n",
        "    if response.status_code == 200:\n",
        "        soup = BeautifulSoup(response.content, 'html.parser')\n",
        "\n",
        "        # Find the genres using the provided XPath expression\n",
        "        imdb_heading = soup.find('h3', class_='detail-infos__subheading', text='Rating')\n",
        "        if imdb_heading:\n",
        "            imdb_element = imdb_heading.find_next_sibling('div', class_='detail-infos__value')\n",
        "            imdb = imdb_element.text.strip()\n",
        "\n",
        "            # Split the genres into a list\n",
        "            imdb_list = [imdb.strip() for imdb in imdb.split(',')]\n",
        "            return imdb_list\n",
        "    return None\n",
        "\n",
        "# Fetch genres for each URL in 'tv' and store in a new list 'Tv_generes'\n",
        "Tv_imdb = []\n",
        "\n",
        "for tv_url in Tv_url:\n",
        "    imdb = fetch_imdb(tv_url)\n",
        "    if imdb:\n",
        "        Tv_imdb.extend(imdb)"
      ]
    },
    {
      "cell_type": "markdown",
      "source": [
        "It finds the IMDb rating using the correct XPath expression and return it as a single numerical value."
      ],
      "metadata": {
        "id": "Eyt4fpZSa7oZ"
      }
    },
    {
      "cell_type": "code",
      "execution_count": null,
      "metadata": {
        "colab": {
          "base_uri": "https://localhost:8080/"
        },
        "id": "Fq13cnTHcEi-",
        "outputId": "fb92b133-f646-47d2-f4b4-94b5c361b38c"
      },
      "outputs": [
        {
          "data": {
            "text/plain": [
              "['8.9  (101k)',\n",
              " '8.5  (131k)',\n",
              " '8.5  (81k)',\n",
              " '8.9  (84k)',\n",
              " '7.6  (99k)',\n",
              " '9.2  (2m)',\n",
              " '9.0  (325k)',\n",
              " '8.2  (25k)',\n",
              " '7.2  (1k)',\n",
              " '8.3  (19k)',\n",
              " '6.7  (2k)',\n",
              " '7.5  (21k)',\n",
              " '7.6  (102k)',\n",
              " '8.1  (47k)',\n",
              " '7.5  (23k)',\n",
              " '8.1  (94k)',\n",
              " '8.4  (20k)',\n",
              " '7.6  (4k)',\n",
              " '7.1  (2k)',\n",
              " '7.2  (8k)',\n",
              " '8.1  (1m)',\n",
              " '8.4  (45k)',\n",
              " '',\n",
              " '8.7  (204k)',\n",
              " '7.9  (9k)',\n",
              " '3.8',\n",
              " '8.1  (356k)',\n",
              " '8.6  (114k)',\n",
              " '8.1  (6k)',\n",
              " '6.1  (2k)',\n",
              " '3.4  (2k)',\n",
              " '8.7  (98k)',\n",
              " '8.9  (656k)',\n",
              " '8.1  (211k)',\n",
              " '8.0  (72k)',\n",
              " '8.3  (241k)',\n",
              " '7.8  (6k)',\n",
              " '7.4  (32k)',\n",
              " '8.2  (532k)',\n",
              " '6.9  (1k)',\n",
              " '8.0  (112k)',\n",
              " '4.4',\n",
              " '7.2  (68k)',\n",
              " '8.7  (513k)',\n",
              " '6.1',\n",
              " '6.2  (3k)']"
            ]
          },
          "execution_count": 44,
          "metadata": {},
          "output_type": "execute_result"
        }
      ],
      "source": [
        "Tv_imdb"
      ]
    },
    {
      "cell_type": "markdown",
      "source": [
        "Tv show imdb ratings are listed above."
      ],
      "metadata": {
        "id": "ijGBanygbAlU"
      }
    },
    {
      "cell_type": "markdown",
      "metadata": {
        "id": "mHZwwgiKdlQm"
      },
      "source": [
        "## **Fetching Streaming Service details**"
      ]
    },
    {
      "cell_type": "code",
      "execution_count": null,
      "metadata": {
        "colab": {
          "base_uri": "https://localhost:8080/"
        },
        "id": "_MBl6Vqadrl9",
        "outputId": "799cc2b5-6091-4767-e146-4d916fbaacf0"
      },
      "outputs": [
        {
          "name": "stdout",
          "output_type": "stream",
          "text": [
            "{'Tv URL': 'https://www.justwatch.com/in/tv-show/shogun-2024', 'Provider Name': 'Provider not found'}\n",
            "{'Tv URL': 'https://www.justwatch.com/in/tv-show/fallout', 'Provider Name': 'Amazon Prime Video'}\n",
            "{'Tv URL': 'https://www.justwatch.com/in/tv-show/mirzapur', 'Provider Name': 'Provider not found'}\n",
            "{'Tv URL': 'https://www.justwatch.com/in/tv-show/panchayat', 'Provider Name': 'Provider not found'}\n",
            "{'Tv URL': 'https://www.justwatch.com/in/tv-show/3-body-problem', 'Provider Name': 'Provider not found'}\n",
            "{'Tv URL': 'https://www.justwatch.com/in/tv-show/game-of-thrones', 'Provider Name': 'Provider not found'}\n",
            "{'Tv URL': 'https://www.justwatch.com/in/tv-show/attack-on-titan', 'Provider Name': 'Provider not found'}\n",
            "{'Tv URL': 'https://www.justwatch.com/in/tv-show/ripley', 'Provider Name': 'Netflix'}\n",
            "{'Tv URL': 'https://www.justwatch.com/in/tv-show/inspector-rishi', 'Provider Name': 'Provider not found'}\n",
            "{'Tv URL': 'https://www.justwatch.com/in/tv-show/apharan', 'Provider Name': 'Provider not found'}\n",
            "{'Tv URL': 'https://www.justwatch.com/in/tv-show/a-gentleman-in-moscow', 'Provider Name': 'Provider not found'}\n",
            "{'Tv URL': 'https://www.justwatch.com/in/tv-show/untitled-kapil-sharma-netflix-project', 'Provider Name': 'Provider not found'}\n",
            "{'Tv URL': 'https://www.justwatch.com/in/tv-show/young-sheldon', 'Provider Name': 'Provider not found'}\n",
            "{'Tv URL': 'https://www.justwatch.com/in/tv-show/baby-reindeer', 'Provider Name': 'Provider not found'}\n",
            "{'Tv URL': 'https://www.justwatch.com/in/tv-show/sunflower-2021', 'Provider Name': 'VI movies and tv'}\n",
            "{'Tv URL': 'https://www.justwatch.com/in/tv-show/the-gentlemen', 'Provider Name': 'Provider not found'}\n",
            "{'Tv URL': 'https://www.justwatch.com/in/tv-show/solo-leveling-2024', 'Provider Name': 'Provider not found'}\n",
            "{'Tv URL': 'https://www.justwatch.com/in/tv-show/dead-boy-detectives', 'Provider Name': 'Provider not found'}\n",
            "{'Tv URL': 'https://www.justwatch.com/in/tv-show/mastram', 'Provider Name': 'Provider not found'}\n",
            "{'Tv URL': 'https://www.justwatch.com/in/tv-show/parasyte-the-grey', 'Provider Name': 'Netflix'}\n",
            "{'Tv URL': 'https://www.justwatch.com/in/tv-show/the-walking-dead', 'Provider Name': 'Provider not found'}\n",
            "{'Tv URL': 'https://www.justwatch.com/in/tv-show/farzi', 'Provider Name': 'Provider not found'}\n",
            "{'Tv URL': 'https://www.justwatch.com/in/tv-show/queen-of-tears', 'Provider Name': 'Provider not found'}\n",
            "{'Tv URL': 'https://www.justwatch.com/in/tv-show/invincible', 'Provider Name': 'Provider not found'}\n",
            "{'Tv URL': 'https://www.justwatch.com/in/tv-show/maharani-2021', 'Provider Name': 'Provider not found'}\n",
            "{'Tv URL': 'https://www.justwatch.com/in/tv-show/heeramandi', 'Provider Name': 'Netflix'}\n",
            "{'Tv URL': 'https://www.justwatch.com/in/tv-show/lucifer', 'Provider Name': 'Provider not found'}\n",
            "{'Tv URL': 'https://www.justwatch.com/in/tv-show/jujutsu-kaisen', 'Provider Name': 'Provider not found'}\n",
            "{'Tv URL': 'https://www.justwatch.com/in/tv-show/maamla-legal-hai', 'Provider Name': 'Provider not found'}\n",
            "{'Tv URL': 'https://www.justwatch.com/in/tv-show/anthracite', 'Provider Name': 'Provider not found'}\n",
            "{'Tv URL': 'https://www.justwatch.com/in/tv-show/gandii-baat', 'Provider Name': 'Provider not found'}\n",
            "{'Tv URL': 'https://www.justwatch.com/in/tv-show/the-family-man', 'Provider Name': 'Amazon Prime Video'}\n",
            "{'Tv URL': 'https://www.justwatch.com/in/tv-show/true-detective', 'Provider Name': 'Provider not found'}\n",
            "{'Tv URL': 'https://www.justwatch.com/in/tv-show/jack-reacher', 'Provider Name': 'Provider not found'}\n",
            "{'Tv URL': 'https://www.justwatch.com/in/tv-show/the-rookie', 'Provider Name': 'Provider not found'}\n",
            "{'Tv URL': 'https://www.justwatch.com/in/tv-show/euphoria', 'Provider Name': 'Provider not found'}\n",
            "{'Tv URL': 'https://www.justwatch.com/in/tv-show/sugar', 'Provider Name': 'Provider not found'}\n",
            "{'Tv URL': 'https://www.justwatch.com/in/tv-show/aashram', 'Provider Name': 'MX Player'}\n",
            "{'Tv URL': 'https://www.justwatch.com/in/tv-show/paperhouse', 'Provider Name': 'Provider not found'}\n",
            "{'Tv URL': 'https://www.justwatch.com/in/tv-show/dehati-ladke', 'Provider Name': 'Provider not found'}\n",
            "{'Tv URL': 'https://www.justwatch.com/in/tv-show/naruto', 'Provider Name': 'Provider not found'}\n",
            "{'Tv URL': 'https://www.justwatch.com/in/tv-show/scam-1992', 'Provider Name': 'Provider not found'}\n",
            "{'Tv URL': 'https://www.justwatch.com/in/tv-show/modern-family', 'Provider Name': 'Provider not found'}\n",
            "{'Tv URL': 'https://www.justwatch.com/in/tv-show/asur', 'Provider Name': 'Jio Cinema'}\n",
            "{'Tv URL': 'https://www.justwatch.com/in/tv-show/we-were-the-lucky-ones', 'Provider Name': 'Provider not found'}\n",
            "{'Tv URL': 'https://www.justwatch.com/in/tv-show/the-last-of-us', 'Provider Name': 'Provider not found'}\n",
            "{'Tv URL': 'https://www.justwatch.com/in/tv-show/the-flash', 'Provider Name': 'Provider not found'}\n",
            "{'Tv URL': 'https://www.justwatch.com/in/tv-show/breaking-bad', 'Provider Name': 'Provider not found'}\n",
            "{'Tv URL': 'https://www.justwatch.com/in/tv-show/naruto-shippuden', 'Provider Name': 'Provider not found'}\n",
            "{'Tv URL': 'https://www.justwatch.com/in/tv-show/broken-but-beautiful', 'Provider Name': 'Alt Balaji'}\n",
            "{'Tv URL': 'https://www.justwatch.com/in/tv-show/house-of-the-dragon', 'Provider Name': 'Provider not found'}\n",
            "{'Tv URL': 'https://www.justwatch.com/in/tv-show/american-horror-story', 'Provider Name': 'Provider not found'}\n",
            "{'Tv URL': 'https://www.justwatch.com/in/tv-show/the-good-doctor', 'Provider Name': 'Provider not found'}\n",
            "{'Tv URL': 'https://www.justwatch.com/in/tv-show/gullak', 'Provider Name': 'Provider not found'}\n",
            "{'Tv URL': 'https://www.justwatch.com/in/tv-show/damaged', 'Provider Name': 'Provider not found'}\n",
            "{'Tv URL': 'https://www.justwatch.com/in/tv-show/halo', 'Provider Name': 'Provider not found'}\n",
            "{'Tv URL': 'https://www.justwatch.com/in/tv-show/lootere', 'Provider Name': 'Provider not found'}\n",
            "{'Tv URL': 'https://www.justwatch.com/in/tv-show/peaky-blinders', 'Provider Name': 'Provider not found'}\n",
            "{'Tv URL': 'https://www.justwatch.com/in/tv-show/stranger-things', 'Provider Name': 'Provider not found'}\n",
            "{'Tv URL': 'https://www.justwatch.com/in/tv-show/loki', 'Provider Name': 'Provider not found'}\n",
            "{'Tv URL': 'https://www.justwatch.com/in/tv-show/goodbye-earth', 'Provider Name': 'Provider not found'}\n",
            "{'Tv URL': 'https://www.justwatch.com/in/tv-show/yellowstone', 'Provider Name': 'Netflix'}\n",
            "{'Tv URL': 'https://www.justwatch.com/in/tv-show/dark-desire', 'Provider Name': 'Provider not found'}\n",
            "{'Tv URL': 'https://www.justwatch.com/in/tv-show/monk', 'Provider Name': 'Provider not found'}\n",
            "{'Tv URL': 'https://www.justwatch.com/in/tv-show/brigands-the-quest-for-gold', 'Provider Name': 'Provider not found'}\n",
            "{'Tv URL': 'https://www.justwatch.com/in/tv-show/mtv-splitsvilla', 'Provider Name': 'Provider not found'}\n",
            "{'Tv URL': 'https://www.justwatch.com/in/tv-show/under-the-dome', 'Provider Name': 'Amazon Prime Video'}\n",
            "{'Tv URL': 'https://www.justwatch.com/in/tv-show/playground', 'Provider Name': 'Provider not found'}\n",
            "{'Tv URL': 'https://www.justwatch.com/in/tv-show/the-freelancer', 'Provider Name': 'Provider not found'}\n",
            "{'Tv URL': 'https://www.justwatch.com/in/tv-show/avatar-the-last-airbender', 'Provider Name': 'Provider not found'}\n",
            "{'Tv URL': 'https://www.justwatch.com/in/tv-show/the-serpent', 'Provider Name': 'Provider not found'}\n",
            "{'Tv URL': 'https://www.justwatch.com/in/tv-show/montu-pilot', 'Provider Name': 'Amazon Prime Video'}\n",
            "{'Tv URL': 'https://www.justwatch.com/in/tv-show/one-punch-man', 'Provider Name': 'Provider not found'}\n",
            "{'Tv URL': 'https://www.justwatch.com/in/tv-show/save-the-tigers', 'Provider Name': 'Provider not found'}\n",
            "{'Tv URL': 'https://www.justwatch.com/in/tv-show/fargo', 'Provider Name': 'Provider not found'}\n",
            "{'Tv URL': 'https://www.justwatch.com/in/tv-show/the-vampire-diaries', 'Provider Name': 'Provider not found'}\n",
            "{'Tv URL': 'https://www.justwatch.com/in/tv-show/spartacus', 'Provider Name': 'Provider not found'}\n",
            "{'Tv URL': 'https://www.justwatch.com/in/tv-show/house', 'Provider Name': 'Amazon Prime Video'}\n",
            "{'Tv URL': 'https://www.justwatch.com/in/tv-show/death-note', 'Provider Name': 'Provider not found'}\n",
            "{'Tv URL': 'https://www.justwatch.com/in/tv-show/taaza-khabar', 'Provider Name': 'Provider not found'}\n",
            "{'Tv URL': 'https://www.justwatch.com/in/tv-show/greys-anatomy', 'Provider Name': 'Provider not found'}\n",
            "{'Tv URL': 'https://www.justwatch.com/in/tv-show/better-call-saul', 'Provider Name': 'Provider not found'}\n",
            "{'Tv URL': 'https://www.justwatch.com/in/tv-show/ranneeti-balakot-and-beyond', 'Provider Name': 'Provider not found'}\n",
            "{'Tv URL': 'https://www.justwatch.com/in/tv-show/9-1-1', 'Provider Name': 'Hotstar'}\n",
            "{'Tv URL': 'https://www.justwatch.com/in/tv-show/paurashpur', 'Provider Name': 'Provider not found'}\n",
            "{'Tv URL': 'https://www.justwatch.com/in/tv-show/dil-dosti-dilemma', 'Provider Name': 'Provider not found'}\n",
            "{'Tv URL': 'https://www.justwatch.com/in/tv-show/the-railway-men-the-untold-story-of-bhopal-1984', 'Provider Name': 'Provider not found'}\n",
            "{'Tv URL': 'https://www.justwatch.com/in/tv-show/demon-slayer-kimetsu-no-yaiba', 'Provider Name': 'Provider not found'}\n",
            "{'Tv URL': 'https://www.justwatch.com/in/tv-show/how-i-met-your-mother', 'Provider Name': 'Provider not found'}\n",
            "{'Tv URL': 'https://www.justwatch.com/in/tv-show/tokyo-vice', 'Provider Name': 'Lionsgate Play'}\n",
            "{'Tv URL': 'https://www.justwatch.com/in/tv-show/the-boys', 'Provider Name': 'Provider not found'}\n",
            "{'Tv URL': 'https://www.justwatch.com/in/tv-show/bigg-boss', 'Provider Name': 'Provider not found'}\n",
            "{'Tv URL': 'https://www.justwatch.com/in/tv-show/aarya', 'Provider Name': 'Provider not found'}\n",
            "{'Tv URL': 'https://www.justwatch.com/in/tv-show/supersex', 'Provider Name': 'Netflix'}\n",
            "{'Tv URL': 'https://www.justwatch.com/in/tv-show/chernobyl', 'Provider Name': 'Provider not found'}\n",
            "{'Tv URL': 'https://www.justwatch.com/in/tv-show/yeh-meri-family', 'Provider Name': 'Provider not found'}\n",
            "{'Tv URL': 'https://www.justwatch.com/in/tv-show/westworld', 'Provider Name': 'Provider not found'}\n",
            "{'Tv URL': 'https://www.justwatch.com/in/tv-show/mashle-magic-and-muscles', 'Provider Name': 'Provider not found'}\n",
            "{'Tv URL': 'https://www.justwatch.com/in/tv-show/monarch-legacy-of-monsters', 'Provider Name': 'Apple TV Plus'}\n",
            "{'Tv URL': 'https://www.justwatch.com/in/tv-show/dark', 'Provider Name': 'Provider not found'}\n"
          ]
        }
      ],
      "source": [
        "Streaming_service = []\n",
        "\n",
        "for tv_url in Tv_url:\n",
        "    # Navigate to the Tv URL\n",
        "    driver.get(tv_url)\n",
        "\n",
        "    try:\n",
        "        # Find the provider element\n",
        "        provider_element = driver.find_element(By.XPATH, \"//img[@class='offer__icon']\")\n",
        "        provider_name = provider_element.get_attribute('alt')\n",
        "    except:\n",
        "        provider_name = \"Provider not found\"\n",
        "\n",
        "    Streaming_service.append({\"Tv URL\": tv_url, \"Provider Name\": provider_name})\n",
        "\n",
        "for stream in Streaming_service:\n",
        "  print(stream)"
      ]
    },
    {
      "cell_type": "markdown",
      "source": [
        "This script iterates through each TV show URL in the Tv_url list, navigates to each URL using driver.get(tv_url), and attempts to find the provider element using an XPath expression. It then extracts the provider name."
      ],
      "metadata": {
        "id": "ESYi12hhbRXt"
      }
    },
    {
      "cell_type": "code",
      "execution_count": null,
      "metadata": {
        "colab": {
          "base_uri": "https://localhost:8080/"
        },
        "id": "JzKBfwUYcofi",
        "outputId": "53ada8d1-5200-405e-f467-fc44ec60d9db"
      },
      "outputs": [
        {
          "name": "stdout",
          "output_type": "stream",
          "text": [
            "['Provider not found', 'Amazon Prime Video', 'Provider not found', 'Provider not found', 'Provider not found', 'Provider not found', 'Provider not found', 'Netflix', 'Provider not found', 'Provider not found', 'Provider not found', 'Provider not found', 'Provider not found', 'Provider not found', 'VI movies and tv', 'Provider not found', 'Provider not found', 'Provider not found', 'Provider not found', 'Netflix', 'Provider not found', 'Provider not found', 'Provider not found', 'Provider not found', 'Provider not found', 'Netflix', 'Provider not found', 'Provider not found', 'Provider not found', 'Provider not found', 'Provider not found', 'Amazon Prime Video', 'Provider not found', 'Provider not found', 'Provider not found', 'Provider not found', 'Provider not found', 'MX Player', 'Provider not found', 'Provider not found', 'Provider not found', 'Provider not found', 'Provider not found', 'Jio Cinema', 'Provider not found', 'Provider not found', 'Provider not found', 'Provider not found', 'Provider not found', 'Alt Balaji', 'Provider not found', 'Provider not found', 'Provider not found', 'Provider not found', 'Provider not found', 'Provider not found', 'Provider not found', 'Provider not found', 'Provider not found', 'Provider not found', 'Provider not found', 'Netflix', 'Provider not found', 'Provider not found', 'Provider not found', 'Provider not found', 'Amazon Prime Video', 'Provider not found', 'Provider not found', 'Provider not found', 'Provider not found', 'Amazon Prime Video', 'Provider not found', 'Provider not found', 'Provider not found', 'Provider not found', 'Provider not found', 'Amazon Prime Video', 'Provider not found', 'Provider not found', 'Provider not found', 'Provider not found', 'Provider not found', 'Hotstar', 'Provider not found', 'Provider not found', 'Provider not found', 'Provider not found', 'Provider not found', 'Lionsgate Play', 'Provider not found', 'Provider not found', 'Provider not found', 'Netflix', 'Provider not found', 'Provider not found', 'Provider not found', 'Provider not found', 'Apple TV Plus', 'Provider not found']\n"
          ]
        }
      ],
      "source": [
        "Tv_streaming = [Tv_info['Provider Name'] if 'Provider Name' in Tv_info else 'not found' for Tv_info in Streaming_service]\n",
        "print(Tv_streaming)"
      ]
    },
    {
      "cell_type": "markdown",
      "source": [
        "\n",
        "This code snippet creates a list Tv_streaming containing the provider names for TV shows. It iterates through each dictionary Tv_info in the Streaming_service list, checks if the key 'Provider Name' exists in the dictionary, and if it does, it appends the provider name to Tv_streaming."
      ],
      "metadata": {
        "id": "2DjFa5hvbWHN"
      }
    },
    {
      "cell_type": "code",
      "execution_count": null,
      "metadata": {
        "colab": {
          "base_uri": "https://localhost:8080/"
        },
        "id": "etT6SaxXc90S",
        "outputId": "4732f4ab-65e0-424c-a182-a424f5357c2e"
      },
      "outputs": [
        {
          "name": "stdout",
          "output_type": "stream",
          "text": [
            "100\n"
          ]
        }
      ],
      "source": [
        "Tv_streaming = [Tv_info['Provider Name'] for Tv_info in Streaming_service]\n",
        "\n",
        "print(len(Tv_streaming))"
      ]
    },
    {
      "cell_type": "code",
      "execution_count": null,
      "metadata": {
        "colab": {
          "base_uri": "https://localhost:8080/"
        },
        "id": "yge94hnTdf31",
        "outputId": "edad05b1-978f-4cc6-9c90-c6eae26212c6"
      },
      "outputs": [
        {
          "data": {
            "text/plain": [
              "['Provider not found',\n",
              " 'Amazon Prime Video',\n",
              " 'Provider not found',\n",
              " 'Provider not found',\n",
              " 'Provider not found',\n",
              " 'Provider not found',\n",
              " 'Provider not found',\n",
              " 'Netflix',\n",
              " 'Provider not found',\n",
              " 'Provider not found',\n",
              " 'Provider not found',\n",
              " 'Provider not found',\n",
              " 'Provider not found',\n",
              " 'Provider not found',\n",
              " 'VI movies and tv',\n",
              " 'Provider not found',\n",
              " 'Provider not found',\n",
              " 'Provider not found',\n",
              " 'Provider not found',\n",
              " 'Netflix',\n",
              " 'Provider not found',\n",
              " 'Provider not found',\n",
              " 'Provider not found',\n",
              " 'Provider not found',\n",
              " 'Provider not found',\n",
              " 'Netflix',\n",
              " 'Provider not found',\n",
              " 'Provider not found',\n",
              " 'Provider not found',\n",
              " 'Provider not found',\n",
              " 'Provider not found',\n",
              " 'Amazon Prime Video',\n",
              " 'Provider not found',\n",
              " 'Provider not found',\n",
              " 'Provider not found',\n",
              " 'Provider not found',\n",
              " 'Provider not found',\n",
              " 'MX Player',\n",
              " 'Provider not found',\n",
              " 'Provider not found',\n",
              " 'Provider not found',\n",
              " 'Provider not found',\n",
              " 'Provider not found',\n",
              " 'Jio Cinema',\n",
              " 'Provider not found',\n",
              " 'Provider not found',\n",
              " 'Provider not found',\n",
              " 'Provider not found',\n",
              " 'Provider not found',\n",
              " 'Alt Balaji',\n",
              " 'Provider not found',\n",
              " 'Provider not found',\n",
              " 'Provider not found',\n",
              " 'Provider not found',\n",
              " 'Provider not found',\n",
              " 'Provider not found',\n",
              " 'Provider not found',\n",
              " 'Provider not found',\n",
              " 'Provider not found',\n",
              " 'Provider not found',\n",
              " 'Provider not found',\n",
              " 'Netflix',\n",
              " 'Provider not found',\n",
              " 'Provider not found',\n",
              " 'Provider not found',\n",
              " 'Provider not found',\n",
              " 'Amazon Prime Video',\n",
              " 'Provider not found',\n",
              " 'Provider not found',\n",
              " 'Provider not found',\n",
              " 'Provider not found',\n",
              " 'Amazon Prime Video',\n",
              " 'Provider not found',\n",
              " 'Provider not found',\n",
              " 'Provider not found',\n",
              " 'Provider not found',\n",
              " 'Provider not found',\n",
              " 'Amazon Prime Video',\n",
              " 'Provider not found',\n",
              " 'Provider not found',\n",
              " 'Provider not found',\n",
              " 'Provider not found',\n",
              " 'Provider not found',\n",
              " 'Hotstar',\n",
              " 'Provider not found',\n",
              " 'Provider not found',\n",
              " 'Provider not found',\n",
              " 'Provider not found',\n",
              " 'Provider not found',\n",
              " 'Lionsgate Play',\n",
              " 'Provider not found',\n",
              " 'Provider not found',\n",
              " 'Provider not found',\n",
              " 'Netflix',\n",
              " 'Provider not found',\n",
              " 'Provider not found',\n",
              " 'Provider not found',\n",
              " 'Provider not found',\n",
              " 'Apple TV Plus',\n",
              " 'Provider not found']"
            ]
          },
          "execution_count": 48,
          "metadata": {},
          "output_type": "execute_result"
        }
      ],
      "source": [
        "Tv_streaming"
      ]
    },
    {
      "cell_type": "code",
      "execution_count": null,
      "metadata": {
        "colab": {
          "base_uri": "https://localhost:8080/"
        },
        "id": "YKXG4aXtNHLR",
        "outputId": "fc45f786-09b4-43ad-ef95-a80411446ebd"
      },
      "outputs": [
        {
          "data": {
            "text/plain": [
              "['https://www.justwatch.com/in/tv-show/shogun-2024',\n",
              " 'https://www.justwatch.com/in/tv-show/fallout',\n",
              " 'https://www.justwatch.com/in/tv-show/mirzapur',\n",
              " 'https://www.justwatch.com/in/tv-show/panchayat',\n",
              " 'https://www.justwatch.com/in/tv-show/3-body-problem',\n",
              " 'https://www.justwatch.com/in/tv-show/game-of-thrones',\n",
              " 'https://www.justwatch.com/in/tv-show/attack-on-titan',\n",
              " 'https://www.justwatch.com/in/tv-show/ripley',\n",
              " 'https://www.justwatch.com/in/tv-show/inspector-rishi',\n",
              " 'https://www.justwatch.com/in/tv-show/apharan',\n",
              " 'https://www.justwatch.com/in/tv-show/a-gentleman-in-moscow',\n",
              " 'https://www.justwatch.com/in/tv-show/untitled-kapil-sharma-netflix-project',\n",
              " 'https://www.justwatch.com/in/tv-show/young-sheldon',\n",
              " 'https://www.justwatch.com/in/tv-show/baby-reindeer',\n",
              " 'https://www.justwatch.com/in/tv-show/sunflower-2021',\n",
              " 'https://www.justwatch.com/in/tv-show/the-gentlemen',\n",
              " 'https://www.justwatch.com/in/tv-show/solo-leveling-2024',\n",
              " 'https://www.justwatch.com/in/tv-show/dead-boy-detectives',\n",
              " 'https://www.justwatch.com/in/tv-show/mastram',\n",
              " 'https://www.justwatch.com/in/tv-show/parasyte-the-grey',\n",
              " 'https://www.justwatch.com/in/tv-show/the-walking-dead',\n",
              " 'https://www.justwatch.com/in/tv-show/farzi',\n",
              " 'https://www.justwatch.com/in/tv-show/queen-of-tears',\n",
              " 'https://www.justwatch.com/in/tv-show/invincible',\n",
              " 'https://www.justwatch.com/in/tv-show/maharani-2021',\n",
              " 'https://www.justwatch.com/in/tv-show/heeramandi',\n",
              " 'https://www.justwatch.com/in/tv-show/lucifer',\n",
              " 'https://www.justwatch.com/in/tv-show/jujutsu-kaisen',\n",
              " 'https://www.justwatch.com/in/tv-show/maamla-legal-hai',\n",
              " 'https://www.justwatch.com/in/tv-show/anthracite',\n",
              " 'https://www.justwatch.com/in/tv-show/gandii-baat',\n",
              " 'https://www.justwatch.com/in/tv-show/the-family-man',\n",
              " 'https://www.justwatch.com/in/tv-show/true-detective',\n",
              " 'https://www.justwatch.com/in/tv-show/jack-reacher',\n",
              " 'https://www.justwatch.com/in/tv-show/the-rookie',\n",
              " 'https://www.justwatch.com/in/tv-show/euphoria',\n",
              " 'https://www.justwatch.com/in/tv-show/sugar',\n",
              " 'https://www.justwatch.com/in/tv-show/aashram',\n",
              " 'https://www.justwatch.com/in/tv-show/paperhouse',\n",
              " 'https://www.justwatch.com/in/tv-show/dehati-ladke',\n",
              " 'https://www.justwatch.com/in/tv-show/naruto',\n",
              " 'https://www.justwatch.com/in/tv-show/scam-1992',\n",
              " 'https://www.justwatch.com/in/tv-show/modern-family',\n",
              " 'https://www.justwatch.com/in/tv-show/asur',\n",
              " 'https://www.justwatch.com/in/tv-show/we-were-the-lucky-ones',\n",
              " 'https://www.justwatch.com/in/tv-show/the-last-of-us',\n",
              " 'https://www.justwatch.com/in/tv-show/the-flash',\n",
              " 'https://www.justwatch.com/in/tv-show/breaking-bad',\n",
              " 'https://www.justwatch.com/in/tv-show/naruto-shippuden',\n",
              " 'https://www.justwatch.com/in/tv-show/broken-but-beautiful',\n",
              " 'https://www.justwatch.com/in/tv-show/house-of-the-dragon',\n",
              " 'https://www.justwatch.com/in/tv-show/american-horror-story',\n",
              " 'https://www.justwatch.com/in/tv-show/the-good-doctor',\n",
              " 'https://www.justwatch.com/in/tv-show/gullak',\n",
              " 'https://www.justwatch.com/in/tv-show/damaged',\n",
              " 'https://www.justwatch.com/in/tv-show/halo',\n",
              " 'https://www.justwatch.com/in/tv-show/lootere',\n",
              " 'https://www.justwatch.com/in/tv-show/peaky-blinders',\n",
              " 'https://www.justwatch.com/in/tv-show/stranger-things',\n",
              " 'https://www.justwatch.com/in/tv-show/loki',\n",
              " 'https://www.justwatch.com/in/tv-show/goodbye-earth',\n",
              " 'https://www.justwatch.com/in/tv-show/yellowstone',\n",
              " 'https://www.justwatch.com/in/tv-show/dark-desire',\n",
              " 'https://www.justwatch.com/in/tv-show/monk',\n",
              " 'https://www.justwatch.com/in/tv-show/brigands-the-quest-for-gold',\n",
              " 'https://www.justwatch.com/in/tv-show/mtv-splitsvilla',\n",
              " 'https://www.justwatch.com/in/tv-show/under-the-dome',\n",
              " 'https://www.justwatch.com/in/tv-show/playground',\n",
              " 'https://www.justwatch.com/in/tv-show/the-freelancer',\n",
              " 'https://www.justwatch.com/in/tv-show/avatar-the-last-airbender',\n",
              " 'https://www.justwatch.com/in/tv-show/the-serpent',\n",
              " 'https://www.justwatch.com/in/tv-show/montu-pilot',\n",
              " 'https://www.justwatch.com/in/tv-show/one-punch-man',\n",
              " 'https://www.justwatch.com/in/tv-show/save-the-tigers',\n",
              " 'https://www.justwatch.com/in/tv-show/fargo',\n",
              " 'https://www.justwatch.com/in/tv-show/the-vampire-diaries',\n",
              " 'https://www.justwatch.com/in/tv-show/spartacus',\n",
              " 'https://www.justwatch.com/in/tv-show/house',\n",
              " 'https://www.justwatch.com/in/tv-show/death-note',\n",
              " 'https://www.justwatch.com/in/tv-show/taaza-khabar',\n",
              " 'https://www.justwatch.com/in/tv-show/greys-anatomy',\n",
              " 'https://www.justwatch.com/in/tv-show/better-call-saul',\n",
              " 'https://www.justwatch.com/in/tv-show/ranneeti-balakot-and-beyond',\n",
              " 'https://www.justwatch.com/in/tv-show/9-1-1',\n",
              " 'https://www.justwatch.com/in/tv-show/paurashpur',\n",
              " 'https://www.justwatch.com/in/tv-show/dil-dosti-dilemma',\n",
              " 'https://www.justwatch.com/in/tv-show/the-railway-men-the-untold-story-of-bhopal-1984',\n",
              " 'https://www.justwatch.com/in/tv-show/demon-slayer-kimetsu-no-yaiba',\n",
              " 'https://www.justwatch.com/in/tv-show/how-i-met-your-mother',\n",
              " 'https://www.justwatch.com/in/tv-show/tokyo-vice',\n",
              " 'https://www.justwatch.com/in/tv-show/the-boys',\n",
              " 'https://www.justwatch.com/in/tv-show/bigg-boss',\n",
              " 'https://www.justwatch.com/in/tv-show/aarya',\n",
              " 'https://www.justwatch.com/in/tv-show/supersex',\n",
              " 'https://www.justwatch.com/in/tv-show/chernobyl',\n",
              " 'https://www.justwatch.com/in/tv-show/yeh-meri-family',\n",
              " 'https://www.justwatch.com/in/tv-show/westworld',\n",
              " 'https://www.justwatch.com/in/tv-show/mashle-magic-and-muscles',\n",
              " 'https://www.justwatch.com/in/tv-show/monarch-legacy-of-monsters',\n",
              " 'https://www.justwatch.com/in/tv-show/dark']"
            ]
          },
          "execution_count": 49,
          "metadata": {},
          "output_type": "execute_result"
        }
      ],
      "source": [
        "Tv_url"
      ]
    },
    {
      "cell_type": "code",
      "execution_count": null,
      "metadata": {
        "id": "1rHB6E1PQIrM"
      },
      "outputs": [],
      "source": [
        "Tv_imdb_ratings = [rating for rating in Tv_imdb if rating != 'not listed']"
      ]
    },
    {
      "cell_type": "code",
      "execution_count": null,
      "metadata": {
        "colab": {
          "base_uri": "https://localhost:8080/"
        },
        "id": "gBJvTmiWdr0R",
        "outputId": "7739eee2-ac75-4bcd-f3bc-9c00c9d06c59"
      },
      "outputs": [
        {
          "name": "stdout",
          "output_type": "stream",
          "text": [
            "100\n",
            "100\n",
            "45\n",
            "100\n",
            "46\n",
            "100\n"
          ]
        }
      ],
      "source": [
        "print(len(tv_show_names))\n",
        "print(len(tv_release_years))\n",
        "print(len(Tv_genres))\n",
        "print(len(Tv_url))\n",
        "print(len(Tv_imdb_ratings))\n",
        "print(len(Tv_streaming))"
      ]
    },
    {
      "cell_type": "code",
      "execution_count": null,
      "metadata": {
        "id": "o4x4YY6AfoL1"
      },
      "outputs": [],
      "source": [
        "# Write Your Code here\n",
        "driver.quit()"
      ]
    },
    {
      "cell_type": "markdown",
      "metadata": {
        "id": "nD4QVPT-nfVR"
      },
      "source": [
        "## **Creating TV Show DataFrame**"
      ]
    },
    {
      "cell_type": "code",
      "execution_count": null,
      "metadata": {
        "colab": {
          "base_uri": "https://localhost:8080/",
          "height": 206
        },
        "id": "W3Lnlb-xip2U",
        "outputId": "251e92b5-1a8c-4b18-e4d5-3a8c1662286a"
      },
      "outputs": [
        {
          "data": {
            "text/html": [
              "<div>\n",
              "<style scoped>\n",
              "    .dataframe tbody tr th:only-of-type {\n",
              "        vertical-align: middle;\n",
              "    }\n",
              "\n",
              "    .dataframe tbody tr th {\n",
              "        vertical-align: top;\n",
              "    }\n",
              "\n",
              "    .dataframe thead th {\n",
              "        text-align: right;\n",
              "    }\n",
              "</style>\n",
              "<table border=\"1\" class=\"dataframe\">\n",
              "  <thead>\n",
              "    <tr style=\"text-align: right;\">\n",
              "      <th></th>\n",
              "      <th>Show names</th>\n",
              "      <th>Release year</th>\n",
              "      <th>Genere</th>\n",
              "      <th>url</th>\n",
              "      <th>Imdb Ratings</th>\n",
              "      <th>streaming service</th>\n",
              "    </tr>\n",
              "  </thead>\n",
              "  <tbody>\n",
              "    <tr>\n",
              "      <th>0</th>\n",
              "      <td>shogun-2024</td>\n",
              "      <td>2024</td>\n",
              "      <td>Crime</td>\n",
              "      <td>https://www.justwatch.com/in/tv-show/shogun-2024</td>\n",
              "      <td>8.9  (101k)</td>\n",
              "      <td>Provider not found</td>\n",
              "    </tr>\n",
              "    <tr>\n",
              "      <th>1</th>\n",
              "      <td>fallout</td>\n",
              "      <td>2024</td>\n",
              "      <td>Action &amp; Adventure</td>\n",
              "      <td>https://www.justwatch.com/in/tv-show/fallout</td>\n",
              "      <td>8.5  (131k)</td>\n",
              "      <td>Amazon Prime Video</td>\n",
              "    </tr>\n",
              "    <tr>\n",
              "      <th>2</th>\n",
              "      <td>mirzapur</td>\n",
              "      <td>2018</td>\n",
              "      <td>Drama</td>\n",
              "      <td>https://www.justwatch.com/in/tv-show/mirzapur</td>\n",
              "      <td>8.5  (81k)</td>\n",
              "      <td>Provider not found</td>\n",
              "    </tr>\n",
              "    <tr>\n",
              "      <th>3</th>\n",
              "      <td>panchayat</td>\n",
              "      <td>2020</td>\n",
              "      <td>Mystery &amp; Thriller</td>\n",
              "      <td>https://www.justwatch.com/in/tv-show/panchayat</td>\n",
              "      <td>8.9  (84k)</td>\n",
              "      <td>Provider not found</td>\n",
              "    </tr>\n",
              "    <tr>\n",
              "      <th>4</th>\n",
              "      <td>3-body-problem</td>\n",
              "      <td>2024</td>\n",
              "      <td>Drama</td>\n",
              "      <td>https://www.justwatch.com/in/tv-show/3-body-pr...</td>\n",
              "      <td>7.6  (99k)</td>\n",
              "      <td>Provider not found</td>\n",
              "    </tr>\n",
              "  </tbody>\n",
              "</table>\n",
              "</div>"
            ],
            "text/plain": [
              "       Show names Release year              Genere  \\\n",
              "0     shogun-2024         2024               Crime   \n",
              "1         fallout         2024  Action & Adventure   \n",
              "2        mirzapur         2018               Drama   \n",
              "3       panchayat         2020  Mystery & Thriller   \n",
              "4  3-body-problem         2024               Drama   \n",
              "\n",
              "                                                 url Imdb Ratings  \\\n",
              "0   https://www.justwatch.com/in/tv-show/shogun-2024  8.9  (101k)   \n",
              "1       https://www.justwatch.com/in/tv-show/fallout  8.5  (131k)   \n",
              "2      https://www.justwatch.com/in/tv-show/mirzapur   8.5  (81k)   \n",
              "3     https://www.justwatch.com/in/tv-show/panchayat   8.9  (84k)   \n",
              "4  https://www.justwatch.com/in/tv-show/3-body-pr...   7.6  (99k)   \n",
              "\n",
              "    streaming service  \n",
              "0  Provider not found  \n",
              "1  Amazon Prime Video  \n",
              "2  Provider not found  \n",
              "3  Provider not found  \n",
              "4  Provider not found  "
            ]
          },
          "execution_count": 53,
          "metadata": {},
          "output_type": "execute_result"
        }
      ],
      "source": [
        "import pandas as pd\n",
        "Tv_data=pd.DataFrame()\n",
        "Tv_data['Show names']=tv_show_names[:45]\n",
        "Tv_data['Release year']=tv_release_years[:45]\n",
        "Tv_data['Genere']=Tv_genres[:45]\n",
        "Tv_data['url']=Tv_url[:45]\n",
        "Tv_data['Imdb Ratings']=Tv_imdb_ratings[:45]\n",
        "Tv_data['streaming service']=Tv_streaming[:45]\n",
        "Tv_data.head()"
      ]
    },
    {
      "cell_type": "markdown",
      "source": [
        "This code snippet creates a DataFrame named Tv_data containing the scraped TV show data. It extracts the first 45 elements from each of the lists representing TV show names, release years, genres, URLs, IMDb ratings, and streaming services, and assigns them to respective columns in the DataFrame. Then it displays the first few rows of the DataFrame using the head() method."
      ],
      "metadata": {
        "id": "hLk_JLHsbmbQ"
      }
    },
    {
      "cell_type": "markdown",
      "metadata": {
        "id": "CyqHHKh4IDx6"
      },
      "source": [
        "## **Task 2 :- Data Filtering & Analysis**"
      ]
    },
    {
      "cell_type": "code",
      "execution_count": null,
      "metadata": {
        "id": "AzJBxvzSPG2n"
      },
      "outputs": [],
      "source": [
        "import pandas as pd"
      ]
    },
    {
      "cell_type": "code",
      "execution_count": null,
      "metadata": {
        "id": "ly64H04vH1v9"
      },
      "outputs": [],
      "source": [
        "df1 = Movies_data\n",
        "df2 = Tv_data"
      ]
    },
    {
      "cell_type": "markdown",
      "source": [
        "Created two DataFrames: df1 containing movie data (Movies_data) and df2 containing TV show data (Tv_data)."
      ],
      "metadata": {
        "id": "qldeYPMXb15h"
      }
    },
    {
      "cell_type": "code",
      "execution_count": null,
      "metadata": {
        "colab": {
          "base_uri": "https://localhost:8080/",
          "height": 363
        },
        "id": "oKzJrAoFPA5P",
        "outputId": "b32c929f-dffb-4914-921a-5f74ec7571dd"
      },
      "outputs": [
        {
          "data": {
            "text/html": [
              "<div>\n",
              "<style scoped>\n",
              "    .dataframe tbody tr th:only-of-type {\n",
              "        vertical-align: middle;\n",
              "    }\n",
              "\n",
              "    .dataframe tbody tr th {\n",
              "        vertical-align: top;\n",
              "    }\n",
              "\n",
              "    .dataframe thead th {\n",
              "        text-align: right;\n",
              "    }\n",
              "</style>\n",
              "<table border=\"1\" class=\"dataframe\">\n",
              "  <thead>\n",
              "    <tr style=\"text-align: right;\">\n",
              "      <th></th>\n",
              "      <th>Movie Names</th>\n",
              "      <th>Release Year</th>\n",
              "      <th>Movie Genres</th>\n",
              "      <th>Movie IMDb Ratings</th>\n",
              "      <th>Movie Url</th>\n",
              "      <th>Movie Streaming Service</th>\n",
              "    </tr>\n",
              "  </thead>\n",
              "  <tbody>\n",
              "    <tr>\n",
              "      <th>0</th>\n",
              "      <td>untitled-shahid-kapoor-kriti-sanon-film</td>\n",
              "      <td>2024</td>\n",
              "      <td>Action &amp; Adventure</td>\n",
              "      <td>6.4  (47k)</td>\n",
              "      <td>https://www.justwatch.com/in/movie/untitled-sh...</td>\n",
              "      <td>Provider not found</td>\n",
              "    </tr>\n",
              "    <tr>\n",
              "      <th>1</th>\n",
              "      <td>premalu</td>\n",
              "      <td>2024</td>\n",
              "      <td>Drama</td>\n",
              "      <td>8.0  (8k)</td>\n",
              "      <td>https://www.justwatch.com/in/movie/premalu</td>\n",
              "      <td>aha</td>\n",
              "    </tr>\n",
              "    <tr>\n",
              "      <th>2</th>\n",
              "      <td>article-370</td>\n",
              "      <td>2024</td>\n",
              "      <td>Mystery &amp; Thriller</td>\n",
              "      <td>8.1  (15k)</td>\n",
              "      <td>https://www.justwatch.com/in/movie/article-370</td>\n",
              "      <td>Provider not found</td>\n",
              "    </tr>\n",
              "    <tr>\n",
              "      <th>3</th>\n",
              "      <td>hanu-man</td>\n",
              "      <td>2024</td>\n",
              "      <td>Mystery &amp; Thriller</td>\n",
              "      <td>7.9  (23k)</td>\n",
              "      <td>https://www.justwatch.com/in/movie/hanu-man</td>\n",
              "      <td>Provider not found</td>\n",
              "    </tr>\n",
              "    <tr>\n",
              "      <th>4</th>\n",
              "      <td>laapataa-ladies</td>\n",
              "      <td>2024</td>\n",
              "      <td>Drama</td>\n",
              "      <td>8.6  (7k)</td>\n",
              "      <td>https://www.justwatch.com/in/movie/laapataa-la...</td>\n",
              "      <td>Provider not found</td>\n",
              "    </tr>\n",
              "    <tr>\n",
              "      <th>5</th>\n",
              "      <td>oppenheimer</td>\n",
              "      <td>2023</td>\n",
              "      <td>Action &amp; Adventure</td>\n",
              "      <td>9.0  (111k)</td>\n",
              "      <td>https://www.justwatch.com/in/movie/oppenheimer</td>\n",
              "      <td>Provider not found</td>\n",
              "    </tr>\n",
              "    <tr>\n",
              "      <th>6</th>\n",
              "      <td>dune-part-two</td>\n",
              "      <td>2024</td>\n",
              "      <td>Animation</td>\n",
              "      <td>7.0  (1k)</td>\n",
              "      <td>https://www.justwatch.com/in/movie/dune-part-two</td>\n",
              "      <td>Provider not found</td>\n",
              "    </tr>\n",
              "    <tr>\n",
              "      <th>7</th>\n",
              "      <td>the-crew-2024</td>\n",
              "      <td>2024</td>\n",
              "      <td>Action &amp; Adventure</td>\n",
              "      <td>6.2  (112k)</td>\n",
              "      <td>https://www.justwatch.com/in/movie/the-crew-2024</td>\n",
              "      <td>Provider not found</td>\n",
              "    </tr>\n",
              "    <tr>\n",
              "      <th>8</th>\n",
              "      <td>anatomie-dune-chute</td>\n",
              "      <td>2023</td>\n",
              "      <td>Comedy</td>\n",
              "      <td>5.8</td>\n",
              "      <td>https://www.justwatch.com/in/movie/anatomie-du...</td>\n",
              "      <td>Amazon Prime Video</td>\n",
              "    </tr>\n",
              "    <tr>\n",
              "      <th>9</th>\n",
              "      <td>manjummel-boys</td>\n",
              "      <td>2024</td>\n",
              "      <td>Kids &amp; Family</td>\n",
              "      <td>5.2</td>\n",
              "      <td>https://www.justwatch.com/in/movie/manjummel-boys</td>\n",
              "      <td>Provider not found</td>\n",
              "    </tr>\n",
              "  </tbody>\n",
              "</table>\n",
              "</div>"
            ],
            "text/plain": [
              "                               Movie Names Release Year        Movie Genres  \\\n",
              "0  untitled-shahid-kapoor-kriti-sanon-film         2024  Action & Adventure   \n",
              "1                                  premalu         2024               Drama   \n",
              "2                              article-370         2024  Mystery & Thriller   \n",
              "3                                 hanu-man         2024  Mystery & Thriller   \n",
              "4                          laapataa-ladies         2024               Drama   \n",
              "5                              oppenheimer         2023  Action & Adventure   \n",
              "6                            dune-part-two         2024           Animation   \n",
              "7                            the-crew-2024         2024  Action & Adventure   \n",
              "8                      anatomie-dune-chute         2023              Comedy   \n",
              "9                           manjummel-boys         2024       Kids & Family   \n",
              "\n",
              "  Movie IMDb Ratings                                          Movie Url  \\\n",
              "0         6.4  (47k)  https://www.justwatch.com/in/movie/untitled-sh...   \n",
              "1          8.0  (8k)         https://www.justwatch.com/in/movie/premalu   \n",
              "2         8.1  (15k)     https://www.justwatch.com/in/movie/article-370   \n",
              "3         7.9  (23k)        https://www.justwatch.com/in/movie/hanu-man   \n",
              "4          8.6  (7k)  https://www.justwatch.com/in/movie/laapataa-la...   \n",
              "5        9.0  (111k)     https://www.justwatch.com/in/movie/oppenheimer   \n",
              "6          7.0  (1k)   https://www.justwatch.com/in/movie/dune-part-two   \n",
              "7        6.2  (112k)   https://www.justwatch.com/in/movie/the-crew-2024   \n",
              "8                5.8  https://www.justwatch.com/in/movie/anatomie-du...   \n",
              "9                5.2  https://www.justwatch.com/in/movie/manjummel-boys   \n",
              "\n",
              "  Movie Streaming Service  \n",
              "0      Provider not found  \n",
              "1                     aha  \n",
              "2      Provider not found  \n",
              "3      Provider not found  \n",
              "4      Provider not found  \n",
              "5      Provider not found  \n",
              "6      Provider not found  \n",
              "7      Provider not found  \n",
              "8      Amazon Prime Video  \n",
              "9      Provider not found  "
            ]
          },
          "execution_count": 56,
          "metadata": {},
          "output_type": "execute_result"
        }
      ],
      "source": [
        "df1.head(10)"
      ]
    },
    {
      "cell_type": "markdown",
      "source": [
        "Show the first 10 rows of the DataFrame Movies data."
      ],
      "metadata": {
        "id": "9o2K_aeQb5ev"
      }
    },
    {
      "cell_type": "code",
      "execution_count": null,
      "metadata": {
        "colab": {
          "base_uri": "https://localhost:8080/",
          "height": 363
        },
        "id": "6lqMH4bEPDFu",
        "outputId": "dd9805e0-3128-4ffb-e50c-f55d68e4e47b"
      },
      "outputs": [
        {
          "data": {
            "text/html": [
              "<div>\n",
              "<style scoped>\n",
              "    .dataframe tbody tr th:only-of-type {\n",
              "        vertical-align: middle;\n",
              "    }\n",
              "\n",
              "    .dataframe tbody tr th {\n",
              "        vertical-align: top;\n",
              "    }\n",
              "\n",
              "    .dataframe thead th {\n",
              "        text-align: right;\n",
              "    }\n",
              "</style>\n",
              "<table border=\"1\" class=\"dataframe\">\n",
              "  <thead>\n",
              "    <tr style=\"text-align: right;\">\n",
              "      <th></th>\n",
              "      <th>Show names</th>\n",
              "      <th>Release year</th>\n",
              "      <th>Genere</th>\n",
              "      <th>url</th>\n",
              "      <th>Imdb Ratings</th>\n",
              "      <th>streaming service</th>\n",
              "    </tr>\n",
              "  </thead>\n",
              "  <tbody>\n",
              "    <tr>\n",
              "      <th>0</th>\n",
              "      <td>shogun-2024</td>\n",
              "      <td>2024</td>\n",
              "      <td>Crime</td>\n",
              "      <td>https://www.justwatch.com/in/tv-show/shogun-2024</td>\n",
              "      <td>8.9  (101k)</td>\n",
              "      <td>Provider not found</td>\n",
              "    </tr>\n",
              "    <tr>\n",
              "      <th>1</th>\n",
              "      <td>fallout</td>\n",
              "      <td>2024</td>\n",
              "      <td>Action &amp; Adventure</td>\n",
              "      <td>https://www.justwatch.com/in/tv-show/fallout</td>\n",
              "      <td>8.5  (131k)</td>\n",
              "      <td>Amazon Prime Video</td>\n",
              "    </tr>\n",
              "    <tr>\n",
              "      <th>2</th>\n",
              "      <td>mirzapur</td>\n",
              "      <td>2018</td>\n",
              "      <td>Drama</td>\n",
              "      <td>https://www.justwatch.com/in/tv-show/mirzapur</td>\n",
              "      <td>8.5  (81k)</td>\n",
              "      <td>Provider not found</td>\n",
              "    </tr>\n",
              "    <tr>\n",
              "      <th>3</th>\n",
              "      <td>panchayat</td>\n",
              "      <td>2020</td>\n",
              "      <td>Mystery &amp; Thriller</td>\n",
              "      <td>https://www.justwatch.com/in/tv-show/panchayat</td>\n",
              "      <td>8.9  (84k)</td>\n",
              "      <td>Provider not found</td>\n",
              "    </tr>\n",
              "    <tr>\n",
              "      <th>4</th>\n",
              "      <td>3-body-problem</td>\n",
              "      <td>2024</td>\n",
              "      <td>Drama</td>\n",
              "      <td>https://www.justwatch.com/in/tv-show/3-body-pr...</td>\n",
              "      <td>7.6  (99k)</td>\n",
              "      <td>Provider not found</td>\n",
              "    </tr>\n",
              "    <tr>\n",
              "      <th>5</th>\n",
              "      <td>game-of-thrones</td>\n",
              "      <td>2011</td>\n",
              "      <td>History</td>\n",
              "      <td>https://www.justwatch.com/in/tv-show/game-of-t...</td>\n",
              "      <td>9.2  (2m)</td>\n",
              "      <td>Provider not found</td>\n",
              "    </tr>\n",
              "    <tr>\n",
              "      <th>6</th>\n",
              "      <td>attack-on-titan</td>\n",
              "      <td>2013</td>\n",
              "      <td>Mystery &amp; Thriller</td>\n",
              "      <td>https://www.justwatch.com/in/tv-show/attack-on...</td>\n",
              "      <td>9.0  (325k)</td>\n",
              "      <td>Provider not found</td>\n",
              "    </tr>\n",
              "    <tr>\n",
              "      <th>7</th>\n",
              "      <td>ripley</td>\n",
              "      <td>2024</td>\n",
              "      <td>Comedy</td>\n",
              "      <td>https://www.justwatch.com/in/tv-show/ripley</td>\n",
              "      <td>8.2  (25k)</td>\n",
              "      <td>Netflix</td>\n",
              "    </tr>\n",
              "    <tr>\n",
              "      <th>8</th>\n",
              "      <td>inspector-rishi</td>\n",
              "      <td>2024</td>\n",
              "      <td>Crime</td>\n",
              "      <td>https://www.justwatch.com/in/tv-show/inspector...</td>\n",
              "      <td>7.2  (1k)</td>\n",
              "      <td>Provider not found</td>\n",
              "    </tr>\n",
              "    <tr>\n",
              "      <th>9</th>\n",
              "      <td>apharan</td>\n",
              "      <td>2018</td>\n",
              "      <td>Drama</td>\n",
              "      <td>https://www.justwatch.com/in/tv-show/apharan</td>\n",
              "      <td>8.3  (19k)</td>\n",
              "      <td>Provider not found</td>\n",
              "    </tr>\n",
              "  </tbody>\n",
              "</table>\n",
              "</div>"
            ],
            "text/plain": [
              "        Show names Release year              Genere  \\\n",
              "0      shogun-2024         2024               Crime   \n",
              "1          fallout         2024  Action & Adventure   \n",
              "2         mirzapur         2018               Drama   \n",
              "3        panchayat         2020  Mystery & Thriller   \n",
              "4   3-body-problem         2024               Drama   \n",
              "5  game-of-thrones         2011             History   \n",
              "6  attack-on-titan         2013  Mystery & Thriller   \n",
              "7           ripley         2024              Comedy   \n",
              "8  inspector-rishi         2024               Crime   \n",
              "9          apharan         2018               Drama   \n",
              "\n",
              "                                                 url Imdb Ratings  \\\n",
              "0   https://www.justwatch.com/in/tv-show/shogun-2024  8.9  (101k)   \n",
              "1       https://www.justwatch.com/in/tv-show/fallout  8.5  (131k)   \n",
              "2      https://www.justwatch.com/in/tv-show/mirzapur   8.5  (81k)   \n",
              "3     https://www.justwatch.com/in/tv-show/panchayat   8.9  (84k)   \n",
              "4  https://www.justwatch.com/in/tv-show/3-body-pr...   7.6  (99k)   \n",
              "5  https://www.justwatch.com/in/tv-show/game-of-t...    9.2  (2m)   \n",
              "6  https://www.justwatch.com/in/tv-show/attack-on...  9.0  (325k)   \n",
              "7        https://www.justwatch.com/in/tv-show/ripley   8.2  (25k)   \n",
              "8  https://www.justwatch.com/in/tv-show/inspector...    7.2  (1k)   \n",
              "9       https://www.justwatch.com/in/tv-show/apharan   8.3  (19k)   \n",
              "\n",
              "    streaming service  \n",
              "0  Provider not found  \n",
              "1  Amazon Prime Video  \n",
              "2  Provider not found  \n",
              "3  Provider not found  \n",
              "4  Provider not found  \n",
              "5  Provider not found  \n",
              "6  Provider not found  \n",
              "7             Netflix  \n",
              "8  Provider not found  \n",
              "9  Provider not found  "
            ]
          },
          "execution_count": 57,
          "metadata": {},
          "output_type": "execute_result"
        }
      ],
      "source": [
        "df2.head(10)"
      ]
    },
    {
      "cell_type": "markdown",
      "source": [
        "Show the first 10 rows of the DataFrame TV show data."
      ],
      "metadata": {
        "id": "c-GJF_d-cFZl"
      }
    },
    {
      "cell_type": "code",
      "execution_count": null,
      "metadata": {
        "colab": {
          "base_uri": "https://localhost:8080/",
          "height": 206
        },
        "id": "XluaJdXUTGfj",
        "outputId": "b33451f6-9f8d-4272-b7ed-d0759b7687f3",
        "scrolled": false
      },
      "outputs": [
        {
          "data": {
            "text/html": [
              "<div>\n",
              "<style scoped>\n",
              "    .dataframe tbody tr th:only-of-type {\n",
              "        vertical-align: middle;\n",
              "    }\n",
              "\n",
              "    .dataframe tbody tr th {\n",
              "        vertical-align: top;\n",
              "    }\n",
              "\n",
              "    .dataframe thead th {\n",
              "        text-align: right;\n",
              "    }\n",
              "</style>\n",
              "<table border=\"1\" class=\"dataframe\">\n",
              "  <thead>\n",
              "    <tr style=\"text-align: right;\">\n",
              "      <th></th>\n",
              "      <th>Movie Names</th>\n",
              "      <th>Release Year</th>\n",
              "      <th>Movie Genres</th>\n",
              "      <th>Movie IMDb Ratings</th>\n",
              "      <th>Movie Url</th>\n",
              "      <th>Movie Streaming Service</th>\n",
              "    </tr>\n",
              "  </thead>\n",
              "  <tbody>\n",
              "    <tr>\n",
              "      <th>0</th>\n",
              "      <td>untitled-shahid-kapoor-kriti-sanon-film</td>\n",
              "      <td>2024</td>\n",
              "      <td>Action &amp; Adventure</td>\n",
              "      <td>6.4  (47k)</td>\n",
              "      <td>https://www.justwatch.com/in/movie/untitled-sh...</td>\n",
              "      <td>Provider not found</td>\n",
              "    </tr>\n",
              "    <tr>\n",
              "      <th>1</th>\n",
              "      <td>premalu</td>\n",
              "      <td>2024</td>\n",
              "      <td>Drama</td>\n",
              "      <td>8.0  (8k)</td>\n",
              "      <td>https://www.justwatch.com/in/movie/premalu</td>\n",
              "      <td>aha</td>\n",
              "    </tr>\n",
              "    <tr>\n",
              "      <th>2</th>\n",
              "      <td>article-370</td>\n",
              "      <td>2024</td>\n",
              "      <td>Mystery &amp; Thriller</td>\n",
              "      <td>8.1  (15k)</td>\n",
              "      <td>https://www.justwatch.com/in/movie/article-370</td>\n",
              "      <td>Provider not found</td>\n",
              "    </tr>\n",
              "    <tr>\n",
              "      <th>3</th>\n",
              "      <td>hanu-man</td>\n",
              "      <td>2024</td>\n",
              "      <td>Mystery &amp; Thriller</td>\n",
              "      <td>7.9  (23k)</td>\n",
              "      <td>https://www.justwatch.com/in/movie/hanu-man</td>\n",
              "      <td>Provider not found</td>\n",
              "    </tr>\n",
              "    <tr>\n",
              "      <th>4</th>\n",
              "      <td>laapataa-ladies</td>\n",
              "      <td>2024</td>\n",
              "      <td>Drama</td>\n",
              "      <td>8.6  (7k)</td>\n",
              "      <td>https://www.justwatch.com/in/movie/laapataa-la...</td>\n",
              "      <td>Provider not found</td>\n",
              "    </tr>\n",
              "  </tbody>\n",
              "</table>\n",
              "</div>"
            ],
            "text/plain": [
              "                               Movie Names  Release Year        Movie Genres  \\\n",
              "0  untitled-shahid-kapoor-kriti-sanon-film          2024  Action & Adventure   \n",
              "1                                  premalu          2024               Drama   \n",
              "2                              article-370          2024  Mystery & Thriller   \n",
              "3                                 hanu-man          2024  Mystery & Thriller   \n",
              "4                          laapataa-ladies          2024               Drama   \n",
              "\n",
              "  Movie IMDb Ratings                                          Movie Url  \\\n",
              "0         6.4  (47k)  https://www.justwatch.com/in/movie/untitled-sh...   \n",
              "1          8.0  (8k)         https://www.justwatch.com/in/movie/premalu   \n",
              "2         8.1  (15k)     https://www.justwatch.com/in/movie/article-370   \n",
              "3         7.9  (23k)        https://www.justwatch.com/in/movie/hanu-man   \n",
              "4          8.6  (7k)  https://www.justwatch.com/in/movie/laapataa-la...   \n",
              "\n",
              "  Movie Streaming Service  \n",
              "0      Provider not found  \n",
              "1                     aha  \n",
              "2      Provider not found  \n",
              "3      Provider not found  \n",
              "4      Provider not found  "
            ]
          },
          "execution_count": 58,
          "metadata": {},
          "output_type": "execute_result"
        }
      ],
      "source": [
        "df1['Release Year'] = pd.to_numeric(df1['Release Year'], errors='coerce')\n",
        "\n",
        "movie_data_filtered = df1[df1['Release Year'] >=2024 - 2]\n",
        "movie_data_filtered.head()"
      ]
    },
    {
      "cell_type": "markdown",
      "source": [
        "This code snippet converts the 'Release Year' column in the DataFrame df1 to numeric values using pd.to_numeric() function.\n",
        "\n",
        "Then, it creates a filtered DataFrame movie_data_filtered containing only the rows where the 'Release Year' is greater than or equal to 2022 (The current year is 2024)."
      ],
      "metadata": {
        "id": "b0lderXKcP4Q"
      }
    },
    {
      "cell_type": "code",
      "execution_count": null,
      "metadata": {
        "id": "WITrd1R4Amxw"
      },
      "outputs": [],
      "source": [
        "# making  a copy of movie_data_filtered in to df3 dataframe\n",
        "df3 = movie_data_filtered.copy()"
      ]
    },
    {
      "cell_type": "code",
      "execution_count": null,
      "metadata": {
        "id": "HwMBCu7OAmxw",
        "outputId": "3f4ef772-89c4-4ff1-fc3a-0262532bbf70"
      },
      "outputs": [
        {
          "name": "stdout",
          "output_type": "stream",
          "text": [
            "    IMDb Rating     Votes\n",
            "0           6.4   47000.0\n",
            "1           8.0    8000.0\n",
            "2           8.1   15000.0\n",
            "3           7.9   23000.0\n",
            "4           8.6    7000.0\n",
            "5           9.0  111000.0\n",
            "6           7.0    1000.0\n",
            "7           6.2  112000.0\n",
            "8           5.8       NaN\n",
            "9           5.2       NaN\n",
            "10          6.7    2000.0\n",
            "11          7.6   87000.0\n",
            "12          8.3  150000.0\n",
            "13          7.8   13000.0\n",
            "15          7.6   51000.0\n"
          ]
        },
        {
          "name": "stderr",
          "output_type": "stream",
          "text": [
            "C:\\Users\\Deepika\\AppData\\Local\\Temp\\ipykernel_13692\\2526220302.py:2: FutureWarning: In a future version of pandas all arguments of StringMethods.split except for the argument 'pat' will be keyword-only.\n",
            "  df3['IMDb Rating'], df3['Votes'] = df3['Movie IMDb Ratings'].str.split(' ', 1).str\n",
            "C:\\Users\\Deepika\\AppData\\Local\\Temp\\ipykernel_13692\\2526220302.py:2: FutureWarning: Columnar iteration over characters will be deprecated in future releases.\n",
            "  df3['IMDb Rating'], df3['Votes'] = df3['Movie IMDb Ratings'].str.split(' ', 1).str\n",
            "C:\\Users\\Deepika\\AppData\\Local\\Temp\\ipykernel_13692\\2526220302.py:3: FutureWarning: The default value of regex will change from True to False in a future version. In addition, single character regular expressions will *not* be treated as literal strings when regex=True.\n",
            "  df3['Votes'] = df3['Votes'].str.replace('(', '').str.replace(')', '')  # Remove parentheses\n"
          ]
        }
      ],
      "source": [
        "df3['IMDb Rating'], df3['Votes'] = df3['Movie IMDb Ratings'].str.split(' ', 1).str\n",
        "df3['Votes'] = df3['Votes'].str.replace('(', '').str.replace(')', '')\n",
        "\n",
        "# Convert 'IMDb Rating' to float and 'Votes' to integer\n",
        "df3['IMDb Rating'] = df3['IMDb Rating'].astype(float)\n",
        "df3['Votes'] = df3['Votes'].str.replace('k', '').astype(float) * 1000  # Convert 'k' to a thousand"
      ]
    },
    {
      "cell_type": "markdown",
      "source": [
        "This code snippet correctly splits the 'Movie IMDb Ratings' column into two separate columns: 'IMDb Rating' and 'Votes' using the space character as the delimiter.\n",
        "\n",
        "Subsequently, it converts the 'IMDb Rating' column to float and the 'Votes' column to float."
      ],
      "metadata": {
        "id": "AUSw1sg1ewEc"
      }
    },
    {
      "cell_type": "code",
      "execution_count": null,
      "metadata": {
        "id": "MKOHXPp6Amxw",
        "outputId": "e6e87d58-4bbe-4f0c-a637-59dcd5f2044f"
      },
      "outputs": [
        {
          "data": {
            "text/html": [
              "<div>\n",
              "<style scoped>\n",
              "    .dataframe tbody tr th:only-of-type {\n",
              "        vertical-align: middle;\n",
              "    }\n",
              "\n",
              "    .dataframe tbody tr th {\n",
              "        vertical-align: top;\n",
              "    }\n",
              "\n",
              "    .dataframe thead th {\n",
              "        text-align: right;\n",
              "    }\n",
              "</style>\n",
              "<table border=\"1\" class=\"dataframe\">\n",
              "  <thead>\n",
              "    <tr style=\"text-align: right;\">\n",
              "      <th></th>\n",
              "      <th>Movie Names</th>\n",
              "      <th>Release Year</th>\n",
              "      <th>Movie Genres</th>\n",
              "      <th>Movie IMDb Ratings</th>\n",
              "      <th>Movie Url</th>\n",
              "      <th>Movie Streaming Service</th>\n",
              "      <th>IMDb Rating</th>\n",
              "      <th>Votes</th>\n",
              "    </tr>\n",
              "  </thead>\n",
              "  <tbody>\n",
              "    <tr>\n",
              "      <th>0</th>\n",
              "      <td>untitled-shahid-kapoor-kriti-sanon-film</td>\n",
              "      <td>2024</td>\n",
              "      <td>Action &amp; Adventure</td>\n",
              "      <td>6.4  (47k)</td>\n",
              "      <td>https://www.justwatch.com/in/movie/untitled-sh...</td>\n",
              "      <td>Provider not found</td>\n",
              "      <td>6.4</td>\n",
              "      <td>47000.0</td>\n",
              "    </tr>\n",
              "    <tr>\n",
              "      <th>1</th>\n",
              "      <td>premalu</td>\n",
              "      <td>2024</td>\n",
              "      <td>Drama</td>\n",
              "      <td>8.0  (8k)</td>\n",
              "      <td>https://www.justwatch.com/in/movie/premalu</td>\n",
              "      <td>aha</td>\n",
              "      <td>8.0</td>\n",
              "      <td>8000.0</td>\n",
              "    </tr>\n",
              "    <tr>\n",
              "      <th>2</th>\n",
              "      <td>article-370</td>\n",
              "      <td>2024</td>\n",
              "      <td>Mystery &amp; Thriller</td>\n",
              "      <td>8.1  (15k)</td>\n",
              "      <td>https://www.justwatch.com/in/movie/article-370</td>\n",
              "      <td>Provider not found</td>\n",
              "      <td>8.1</td>\n",
              "      <td>15000.0</td>\n",
              "    </tr>\n",
              "    <tr>\n",
              "      <th>3</th>\n",
              "      <td>hanu-man</td>\n",
              "      <td>2024</td>\n",
              "      <td>Mystery &amp; Thriller</td>\n",
              "      <td>7.9  (23k)</td>\n",
              "      <td>https://www.justwatch.com/in/movie/hanu-man</td>\n",
              "      <td>Provider not found</td>\n",
              "      <td>7.9</td>\n",
              "      <td>23000.0</td>\n",
              "    </tr>\n",
              "    <tr>\n",
              "      <th>4</th>\n",
              "      <td>laapataa-ladies</td>\n",
              "      <td>2024</td>\n",
              "      <td>Drama</td>\n",
              "      <td>8.6  (7k)</td>\n",
              "      <td>https://www.justwatch.com/in/movie/laapataa-la...</td>\n",
              "      <td>Provider not found</td>\n",
              "      <td>8.6</td>\n",
              "      <td>7000.0</td>\n",
              "    </tr>\n",
              "    <tr>\n",
              "      <th>5</th>\n",
              "      <td>oppenheimer</td>\n",
              "      <td>2023</td>\n",
              "      <td>Action &amp; Adventure</td>\n",
              "      <td>9.0  (111k)</td>\n",
              "      <td>https://www.justwatch.com/in/movie/oppenheimer</td>\n",
              "      <td>Provider not found</td>\n",
              "      <td>9.0</td>\n",
              "      <td>111000.0</td>\n",
              "    </tr>\n",
              "    <tr>\n",
              "      <th>6</th>\n",
              "      <td>dune-part-two</td>\n",
              "      <td>2024</td>\n",
              "      <td>Animation</td>\n",
              "      <td>7.0  (1k)</td>\n",
              "      <td>https://www.justwatch.com/in/movie/dune-part-two</td>\n",
              "      <td>Provider not found</td>\n",
              "      <td>7.0</td>\n",
              "      <td>1000.0</td>\n",
              "    </tr>\n",
              "    <tr>\n",
              "      <th>7</th>\n",
              "      <td>the-crew-2024</td>\n",
              "      <td>2024</td>\n",
              "      <td>Action &amp; Adventure</td>\n",
              "      <td>6.2  (112k)</td>\n",
              "      <td>https://www.justwatch.com/in/movie/the-crew-2024</td>\n",
              "      <td>Provider not found</td>\n",
              "      <td>6.2</td>\n",
              "      <td>112000.0</td>\n",
              "    </tr>\n",
              "    <tr>\n",
              "      <th>8</th>\n",
              "      <td>anatomie-dune-chute</td>\n",
              "      <td>2023</td>\n",
              "      <td>Comedy</td>\n",
              "      <td>5.8</td>\n",
              "      <td>https://www.justwatch.com/in/movie/anatomie-du...</td>\n",
              "      <td>Amazon Prime Video</td>\n",
              "      <td>5.8</td>\n",
              "      <td>NaN</td>\n",
              "    </tr>\n",
              "    <tr>\n",
              "      <th>9</th>\n",
              "      <td>manjummel-boys</td>\n",
              "      <td>2024</td>\n",
              "      <td>Kids &amp; Family</td>\n",
              "      <td>5.2</td>\n",
              "      <td>https://www.justwatch.com/in/movie/manjummel-boys</td>\n",
              "      <td>Provider not found</td>\n",
              "      <td>5.2</td>\n",
              "      <td>NaN</td>\n",
              "    </tr>\n",
              "    <tr>\n",
              "      <th>10</th>\n",
              "      <td>amar-singh-chamkila</td>\n",
              "      <td>2024</td>\n",
              "      <td>Fantasy</td>\n",
              "      <td>6.7  (2k)</td>\n",
              "      <td>https://www.justwatch.com/in/movie/amar-singh-...</td>\n",
              "      <td>Provider not found</td>\n",
              "      <td>6.7</td>\n",
              "      <td>2000.0</td>\n",
              "    </tr>\n",
              "    <tr>\n",
              "      <th>11</th>\n",
              "      <td>anyone-but-you</td>\n",
              "      <td>2024</td>\n",
              "      <td>Comedy</td>\n",
              "      <td>7.6  (87k)</td>\n",
              "      <td>https://www.justwatch.com/in/movie/anyone-but-you</td>\n",
              "      <td>Provider not found</td>\n",
              "      <td>7.6</td>\n",
              "      <td>87000.0</td>\n",
              "    </tr>\n",
              "    <tr>\n",
              "      <th>12</th>\n",
              "      <td>animal-2022</td>\n",
              "      <td>2023</td>\n",
              "      <td>Drama</td>\n",
              "      <td>8.3  (150k)</td>\n",
              "      <td>https://www.justwatch.com/in/movie/animal-2022</td>\n",
              "      <td>Provider not found</td>\n",
              "      <td>8.3</td>\n",
              "      <td>150000.0</td>\n",
              "    </tr>\n",
              "    <tr>\n",
              "      <th>13</th>\n",
              "      <td>fighter-2022</td>\n",
              "      <td>2024</td>\n",
              "      <td>Mystery &amp; Thriller</td>\n",
              "      <td>7.8  (13k)</td>\n",
              "      <td>https://www.justwatch.com/in/movie/fighter-2022</td>\n",
              "      <td>Provider not found</td>\n",
              "      <td>7.8</td>\n",
              "      <td>13000.0</td>\n",
              "    </tr>\n",
              "    <tr>\n",
              "      <th>15</th>\n",
              "      <td>monkey-man</td>\n",
              "      <td>2024</td>\n",
              "      <td>Action &amp; Adventure</td>\n",
              "      <td>7.6  (51k)</td>\n",
              "      <td>https://www.justwatch.com/in/movie/monkey-man</td>\n",
              "      <td>Provider not found</td>\n",
              "      <td>7.6</td>\n",
              "      <td>51000.0</td>\n",
              "    </tr>\n",
              "  </tbody>\n",
              "</table>\n",
              "</div>"
            ],
            "text/plain": [
              "                                Movie Names  Release Year        Movie Genres  \\\n",
              "0   untitled-shahid-kapoor-kriti-sanon-film          2024  Action & Adventure   \n",
              "1                                   premalu          2024               Drama   \n",
              "2                               article-370          2024  Mystery & Thriller   \n",
              "3                                  hanu-man          2024  Mystery & Thriller   \n",
              "4                           laapataa-ladies          2024               Drama   \n",
              "5                               oppenheimer          2023  Action & Adventure   \n",
              "6                             dune-part-two          2024           Animation   \n",
              "7                             the-crew-2024          2024  Action & Adventure   \n",
              "8                       anatomie-dune-chute          2023              Comedy   \n",
              "9                            manjummel-boys          2024       Kids & Family   \n",
              "10                      amar-singh-chamkila          2024             Fantasy   \n",
              "11                           anyone-but-you          2024              Comedy   \n",
              "12                              animal-2022          2023               Drama   \n",
              "13                             fighter-2022          2024  Mystery & Thriller   \n",
              "15                               monkey-man          2024  Action & Adventure   \n",
              "\n",
              "   Movie IMDb Ratings                                          Movie Url  \\\n",
              "0          6.4  (47k)  https://www.justwatch.com/in/movie/untitled-sh...   \n",
              "1           8.0  (8k)         https://www.justwatch.com/in/movie/premalu   \n",
              "2          8.1  (15k)     https://www.justwatch.com/in/movie/article-370   \n",
              "3          7.9  (23k)        https://www.justwatch.com/in/movie/hanu-man   \n",
              "4           8.6  (7k)  https://www.justwatch.com/in/movie/laapataa-la...   \n",
              "5         9.0  (111k)     https://www.justwatch.com/in/movie/oppenheimer   \n",
              "6           7.0  (1k)   https://www.justwatch.com/in/movie/dune-part-two   \n",
              "7         6.2  (112k)   https://www.justwatch.com/in/movie/the-crew-2024   \n",
              "8                 5.8  https://www.justwatch.com/in/movie/anatomie-du...   \n",
              "9                 5.2  https://www.justwatch.com/in/movie/manjummel-boys   \n",
              "10          6.7  (2k)  https://www.justwatch.com/in/movie/amar-singh-...   \n",
              "11         7.6  (87k)  https://www.justwatch.com/in/movie/anyone-but-you   \n",
              "12        8.3  (150k)     https://www.justwatch.com/in/movie/animal-2022   \n",
              "13         7.8  (13k)    https://www.justwatch.com/in/movie/fighter-2022   \n",
              "15         7.6  (51k)      https://www.justwatch.com/in/movie/monkey-man   \n",
              "\n",
              "   Movie Streaming Service  IMDb Rating     Votes  \n",
              "0       Provider not found          6.4   47000.0  \n",
              "1                      aha          8.0    8000.0  \n",
              "2       Provider not found          8.1   15000.0  \n",
              "3       Provider not found          7.9   23000.0  \n",
              "4       Provider not found          8.6    7000.0  \n",
              "5       Provider not found          9.0  111000.0  \n",
              "6       Provider not found          7.0    1000.0  \n",
              "7       Provider not found          6.2  112000.0  \n",
              "8       Amazon Prime Video          5.8       NaN  \n",
              "9       Provider not found          5.2       NaN  \n",
              "10      Provider not found          6.7    2000.0  \n",
              "11      Provider not found          7.6   87000.0  \n",
              "12      Provider not found          8.3  150000.0  \n",
              "13      Provider not found          7.8   13000.0  \n",
              "15      Provider not found          7.6   51000.0  "
            ]
          },
          "execution_count": 80,
          "metadata": {},
          "output_type": "execute_result"
        }
      ],
      "source": [
        "df3"
      ]
    },
    {
      "cell_type": "code",
      "execution_count": null,
      "metadata": {
        "colab": {
          "base_uri": "https://localhost:8080/",
          "height": 206
        },
        "id": "-NtMZjz6TFIi",
        "outputId": "98d192e6-a4ce-498d-a270-5258797d485d"
      },
      "outputs": [
        {
          "data": {
            "text/html": [
              "<div>\n",
              "<style scoped>\n",
              "    .dataframe tbody tr th:only-of-type {\n",
              "        vertical-align: middle;\n",
              "    }\n",
              "\n",
              "    .dataframe tbody tr th {\n",
              "        vertical-align: top;\n",
              "    }\n",
              "\n",
              "    .dataframe thead th {\n",
              "        text-align: right;\n",
              "    }\n",
              "</style>\n",
              "<table border=\"1\" class=\"dataframe\">\n",
              "  <thead>\n",
              "    <tr style=\"text-align: right;\">\n",
              "      <th></th>\n",
              "      <th>Show names</th>\n",
              "      <th>Release year</th>\n",
              "      <th>Genere</th>\n",
              "      <th>url</th>\n",
              "      <th>Imdb Ratings</th>\n",
              "      <th>streaming service</th>\n",
              "    </tr>\n",
              "  </thead>\n",
              "  <tbody>\n",
              "    <tr>\n",
              "      <th>0</th>\n",
              "      <td>shogun-2024</td>\n",
              "      <td>2024.0</td>\n",
              "      <td>Crime</td>\n",
              "      <td>https://www.justwatch.com/in/tv-show/shogun-2024</td>\n",
              "      <td>8.9  (101k)</td>\n",
              "      <td>Provider not found</td>\n",
              "    </tr>\n",
              "    <tr>\n",
              "      <th>1</th>\n",
              "      <td>fallout</td>\n",
              "      <td>2024.0</td>\n",
              "      <td>Action &amp; Adventure</td>\n",
              "      <td>https://www.justwatch.com/in/tv-show/fallout</td>\n",
              "      <td>8.5  (131k)</td>\n",
              "      <td>Amazon Prime Video</td>\n",
              "    </tr>\n",
              "    <tr>\n",
              "      <th>4</th>\n",
              "      <td>3-body-problem</td>\n",
              "      <td>2024.0</td>\n",
              "      <td>Drama</td>\n",
              "      <td>https://www.justwatch.com/in/tv-show/3-body-pr...</td>\n",
              "      <td>7.6  (99k)</td>\n",
              "      <td>Provider not found</td>\n",
              "    </tr>\n",
              "    <tr>\n",
              "      <th>7</th>\n",
              "      <td>ripley</td>\n",
              "      <td>2024.0</td>\n",
              "      <td>Comedy</td>\n",
              "      <td>https://www.justwatch.com/in/tv-show/ripley</td>\n",
              "      <td>8.2  (25k)</td>\n",
              "      <td>Netflix</td>\n",
              "    </tr>\n",
              "    <tr>\n",
              "      <th>8</th>\n",
              "      <td>inspector-rishi</td>\n",
              "      <td>2024.0</td>\n",
              "      <td>Crime</td>\n",
              "      <td>https://www.justwatch.com/in/tv-show/inspector...</td>\n",
              "      <td>7.2  (1k)</td>\n",
              "      <td>Provider not found</td>\n",
              "    </tr>\n",
              "  </tbody>\n",
              "</table>\n",
              "</div>"
            ],
            "text/plain": [
              "        Show names  Release year              Genere  \\\n",
              "0      shogun-2024        2024.0               Crime   \n",
              "1          fallout        2024.0  Action & Adventure   \n",
              "4   3-body-problem        2024.0               Drama   \n",
              "7           ripley        2024.0              Comedy   \n",
              "8  inspector-rishi        2024.0               Crime   \n",
              "\n",
              "                                                 url Imdb Ratings  \\\n",
              "0   https://www.justwatch.com/in/tv-show/shogun-2024  8.9  (101k)   \n",
              "1       https://www.justwatch.com/in/tv-show/fallout  8.5  (131k)   \n",
              "4  https://www.justwatch.com/in/tv-show/3-body-pr...   7.6  (99k)   \n",
              "7        https://www.justwatch.com/in/tv-show/ripley   8.2  (25k)   \n",
              "8  https://www.justwatch.com/in/tv-show/inspector...    7.2  (1k)   \n",
              "\n",
              "    streaming service  \n",
              "0  Provider not found  \n",
              "1  Amazon Prime Video  \n",
              "4  Provider not found  \n",
              "7             Netflix  \n",
              "8  Provider not found  "
            ]
          },
          "execution_count": 59,
          "metadata": {},
          "output_type": "execute_result"
        }
      ],
      "source": [
        "df2['Release year'] = pd.to_numeric(df2['Release year'], errors='coerce')\n",
        "\n",
        "Tv_data_filtered = df2[df2['Release year'] >=2024 - 2]\n",
        "Tv_data_filtered.head()"
      ]
    },
    {
      "cell_type": "markdown",
      "source": [
        "it creates a filtered DataFrame Tv_data_filtered containing only the rows where the 'Release year' is greater than or equal to 2022 (as the current year is 2024)."
      ],
      "metadata": {
        "id": "nbZEsMCBe5yx"
      }
    },
    {
      "cell_type": "code",
      "execution_count": null,
      "metadata": {
        "id": "qcTirD6pAmxx"
      },
      "outputs": [],
      "source": [
        "Tv_data_filtered1 = Tv_data_filtered.copy()"
      ]
    },
    {
      "cell_type": "markdown",
      "source": [
        "creating a copy of a DataFrame named Tv_data_filtered and storing it in a new DataFrame called Tv_data_filtered1."
      ],
      "metadata": {
        "id": "AmzleGcR8cv7"
      }
    },
    {
      "cell_type": "code",
      "execution_count": null,
      "metadata": {
        "id": "f8ae-N2XAmxx",
        "outputId": "2f6e1f5f-c929-4ea9-9949-3d1733195e21"
      },
      "outputs": [
        {
          "name": "stderr",
          "output_type": "stream",
          "text": [
            "C:\\Users\\Deepika\\AppData\\Local\\Temp\\ipykernel_13692\\561178549.py:2: FutureWarning: In a future version of pandas all arguments of StringMethods.split except for the argument 'pat' will be keyword-only.\n",
            "  Tv_data_filtered1['IMDb Rating'], Tv_data_filtered1['Votes'] = Tv_data_filtered1['Imdb Ratings'].str.split(' ', 1).str\n",
            "C:\\Users\\Deepika\\AppData\\Local\\Temp\\ipykernel_13692\\561178549.py:2: FutureWarning: Columnar iteration over characters will be deprecated in future releases.\n",
            "  Tv_data_filtered1['IMDb Rating'], Tv_data_filtered1['Votes'] = Tv_data_filtered1['Imdb Ratings'].str.split(' ', 1).str\n",
            "C:\\Users\\Deepika\\AppData\\Local\\Temp\\ipykernel_13692\\561178549.py:3: FutureWarning: The default value of regex will change from True to False in a future version. In addition, single character regular expressions will *not* be treated as literal strings when regex=True.\n",
            "  Tv_data_filtered1['Votes'] = Tv_data_filtered1['Votes'].str.replace('(', '').str.replace(')', '')  # Remove parentheses\n"
          ]
        },
        {
          "data": {
            "text/html": [
              "<div>\n",
              "<style scoped>\n",
              "    .dataframe tbody tr th:only-of-type {\n",
              "        vertical-align: middle;\n",
              "    }\n",
              "\n",
              "    .dataframe tbody tr th {\n",
              "        vertical-align: top;\n",
              "    }\n",
              "\n",
              "    .dataframe thead th {\n",
              "        text-align: right;\n",
              "    }\n",
              "</style>\n",
              "<table border=\"1\" class=\"dataframe\">\n",
              "  <thead>\n",
              "    <tr style=\"text-align: right;\">\n",
              "      <th></th>\n",
              "      <th>Show names</th>\n",
              "      <th>Release year</th>\n",
              "      <th>Genere</th>\n",
              "      <th>url</th>\n",
              "      <th>Imdb Ratings</th>\n",
              "      <th>streaming service</th>\n",
              "      <th>IMDb Rating</th>\n",
              "      <th>Votes</th>\n",
              "    </tr>\n",
              "  </thead>\n",
              "  <tbody>\n",
              "    <tr>\n",
              "      <th>0</th>\n",
              "      <td>shogun-2024</td>\n",
              "      <td>2024.0</td>\n",
              "      <td>Crime</td>\n",
              "      <td>https://www.justwatch.com/in/tv-show/shogun-2024</td>\n",
              "      <td>8.9  (101k)</td>\n",
              "      <td>Provider not found</td>\n",
              "      <td>8.9</td>\n",
              "      <td>101000.0</td>\n",
              "    </tr>\n",
              "    <tr>\n",
              "      <th>1</th>\n",
              "      <td>fallout</td>\n",
              "      <td>2024.0</td>\n",
              "      <td>Action &amp; Adventure</td>\n",
              "      <td>https://www.justwatch.com/in/tv-show/fallout</td>\n",
              "      <td>8.5  (131k)</td>\n",
              "      <td>Amazon Prime Video</td>\n",
              "      <td>8.5</td>\n",
              "      <td>131000.0</td>\n",
              "    </tr>\n",
              "    <tr>\n",
              "      <th>4</th>\n",
              "      <td>3-body-problem</td>\n",
              "      <td>2024.0</td>\n",
              "      <td>Drama</td>\n",
              "      <td>https://www.justwatch.com/in/tv-show/3-body-pr...</td>\n",
              "      <td>7.6  (99k)</td>\n",
              "      <td>Provider not found</td>\n",
              "      <td>7.6</td>\n",
              "      <td>99000.0</td>\n",
              "    </tr>\n",
              "    <tr>\n",
              "      <th>7</th>\n",
              "      <td>ripley</td>\n",
              "      <td>2024.0</td>\n",
              "      <td>Comedy</td>\n",
              "      <td>https://www.justwatch.com/in/tv-show/ripley</td>\n",
              "      <td>8.2  (25k)</td>\n",
              "      <td>Netflix</td>\n",
              "      <td>8.2</td>\n",
              "      <td>25000.0</td>\n",
              "    </tr>\n",
              "    <tr>\n",
              "      <th>8</th>\n",
              "      <td>inspector-rishi</td>\n",
              "      <td>2024.0</td>\n",
              "      <td>Crime</td>\n",
              "      <td>https://www.justwatch.com/in/tv-show/inspector...</td>\n",
              "      <td>7.2  (1k)</td>\n",
              "      <td>Provider not found</td>\n",
              "      <td>7.2</td>\n",
              "      <td>1000.0</td>\n",
              "    </tr>\n",
              "    <tr>\n",
              "      <th>10</th>\n",
              "      <td>a-gentleman-in-moscow</td>\n",
              "      <td>2024.0</td>\n",
              "      <td>Horror</td>\n",
              "      <td>https://www.justwatch.com/in/tv-show/a-gentlem...</td>\n",
              "      <td>6.7  (2k)</td>\n",
              "      <td>Provider not found</td>\n",
              "      <td>6.7</td>\n",
              "      <td>2000.0</td>\n",
              "    </tr>\n",
              "    <tr>\n",
              "      <th>11</th>\n",
              "      <td>untitled-kapil-sharma-netflix-project</td>\n",
              "      <td>2024.0</td>\n",
              "      <td>Action &amp; Adventure</td>\n",
              "      <td>https://www.justwatch.com/in/tv-show/untitled-...</td>\n",
              "      <td>7.5  (21k)</td>\n",
              "      <td>Provider not found</td>\n",
              "      <td>7.5</td>\n",
              "      <td>21000.0</td>\n",
              "    </tr>\n",
              "    <tr>\n",
              "      <th>13</th>\n",
              "      <td>baby-reindeer</td>\n",
              "      <td>2024.0</td>\n",
              "      <td>Drama</td>\n",
              "      <td>https://www.justwatch.com/in/tv-show/baby-rein...</td>\n",
              "      <td>8.1  (47k)</td>\n",
              "      <td>Provider not found</td>\n",
              "      <td>8.1</td>\n",
              "      <td>47000.0</td>\n",
              "    </tr>\n",
              "    <tr>\n",
              "      <th>15</th>\n",
              "      <td>the-gentlemen</td>\n",
              "      <td>2024.0</td>\n",
              "      <td>Action &amp; Adventure</td>\n",
              "      <td>https://www.justwatch.com/in/tv-show/the-gentl...</td>\n",
              "      <td>8.1  (94k)</td>\n",
              "      <td>Provider not found</td>\n",
              "      <td>8.1</td>\n",
              "      <td>94000.0</td>\n",
              "    </tr>\n",
              "    <tr>\n",
              "      <th>16</th>\n",
              "      <td>solo-leveling-2024</td>\n",
              "      <td>2024.0</td>\n",
              "      <td>Crime</td>\n",
              "      <td>https://www.justwatch.com/in/tv-show/solo-leve...</td>\n",
              "      <td>8.4  (20k)</td>\n",
              "      <td>Provider not found</td>\n",
              "      <td>8.4</td>\n",
              "      <td>20000.0</td>\n",
              "    </tr>\n",
              "    <tr>\n",
              "      <th>19</th>\n",
              "      <td>parasyte-the-grey</td>\n",
              "      <td>2024.0</td>\n",
              "      <td>Mystery &amp; Thriller</td>\n",
              "      <td>https://www.justwatch.com/in/tv-show/parasyte-...</td>\n",
              "      <td>7.2  (8k)</td>\n",
              "      <td>Netflix</td>\n",
              "      <td>7.2</td>\n",
              "      <td>8000.0</td>\n",
              "    </tr>\n",
              "  </tbody>\n",
              "</table>\n",
              "</div>"
            ],
            "text/plain": [
              "                               Show names  Release year              Genere  \\\n",
              "0                             shogun-2024        2024.0               Crime   \n",
              "1                                 fallout        2024.0  Action & Adventure   \n",
              "4                          3-body-problem        2024.0               Drama   \n",
              "7                                  ripley        2024.0              Comedy   \n",
              "8                         inspector-rishi        2024.0               Crime   \n",
              "10                  a-gentleman-in-moscow        2024.0              Horror   \n",
              "11  untitled-kapil-sharma-netflix-project        2024.0  Action & Adventure   \n",
              "13                          baby-reindeer        2024.0               Drama   \n",
              "15                          the-gentlemen        2024.0  Action & Adventure   \n",
              "16                     solo-leveling-2024        2024.0               Crime   \n",
              "19                      parasyte-the-grey        2024.0  Mystery & Thriller   \n",
              "\n",
              "                                                  url Imdb Ratings  \\\n",
              "0    https://www.justwatch.com/in/tv-show/shogun-2024  8.9  (101k)   \n",
              "1        https://www.justwatch.com/in/tv-show/fallout  8.5  (131k)   \n",
              "4   https://www.justwatch.com/in/tv-show/3-body-pr...   7.6  (99k)   \n",
              "7         https://www.justwatch.com/in/tv-show/ripley   8.2  (25k)   \n",
              "8   https://www.justwatch.com/in/tv-show/inspector...    7.2  (1k)   \n",
              "10  https://www.justwatch.com/in/tv-show/a-gentlem...    6.7  (2k)   \n",
              "11  https://www.justwatch.com/in/tv-show/untitled-...   7.5  (21k)   \n",
              "13  https://www.justwatch.com/in/tv-show/baby-rein...   8.1  (47k)   \n",
              "15  https://www.justwatch.com/in/tv-show/the-gentl...   8.1  (94k)   \n",
              "16  https://www.justwatch.com/in/tv-show/solo-leve...   8.4  (20k)   \n",
              "19  https://www.justwatch.com/in/tv-show/parasyte-...    7.2  (8k)   \n",
              "\n",
              "     streaming service  IMDb Rating     Votes  \n",
              "0   Provider not found          8.9  101000.0  \n",
              "1   Amazon Prime Video          8.5  131000.0  \n",
              "4   Provider not found          7.6   99000.0  \n",
              "7              Netflix          8.2   25000.0  \n",
              "8   Provider not found          7.2    1000.0  \n",
              "10  Provider not found          6.7    2000.0  \n",
              "11  Provider not found          7.5   21000.0  \n",
              "13  Provider not found          8.1   47000.0  \n",
              "15  Provider not found          8.1   94000.0  \n",
              "16  Provider not found          8.4   20000.0  \n",
              "19             Netflix          7.2    8000.0  "
            ]
          },
          "execution_count": 83,
          "metadata": {},
          "output_type": "execute_result"
        }
      ],
      "source": [
        "Tv_data_filtered1['IMDb Rating'], Tv_data_filtered1['Votes'] = Tv_data_filtered1['Imdb Ratings'].str.split(' ', 1).str\n",
        "Tv_data_filtered1['Votes'] = Tv_data_filtered1['Votes'].str.replace('(', '').str.replace(')', '')  # Remove parentheses\n",
        "\n",
        "# Convert 'IMDb Rating' to float and 'Votes' to integer\n",
        "Tv_data_filtered1['IMDb Rating'] = Tv_data_filtered1['IMDb Rating'].astype(float)\n",
        "Tv_data_filtered1['Votes'] = Tv_data_filtered1['Votes'].str.replace('k', '').astype(float) * 1000\n",
        "Tv_data_filtered1"
      ]
    },
    {
      "cell_type": "markdown",
      "source": [
        "This code splits the 'Imdb Ratings' column into 'IMDb Rating' and 'Votes', removes parentheses from 'Votes', and then converts 'IMDb Rating' to float and 'Votes' to integer, converting 'k' to a thousand."
      ],
      "metadata": {
        "id": "0hXwvr1Y9G_s"
      }
    },
    {
      "cell_type": "markdown",
      "metadata": {
        "id": "0bPDbn-gPyfm"
      },
      "source": [
        "## **Calculating Mean IMDB Ratings for both Movies and Tv Shows**"
      ]
    },
    {
      "cell_type": "code",
      "execution_count": null,
      "metadata": {
        "colab": {
          "base_uri": "https://localhost:8080/"
        },
        "id": "6aGmGPOlIkk4",
        "outputId": "5030a5f6-8a1e-4d11-ae86-2a04c950334c"
      },
      "outputs": [
        {
          "name": "stdout",
          "output_type": "stream",
          "text": [
            "Average IMDb rating for movies in df3: 7.346666666666666\n"
          ]
        }
      ],
      "source": [
        "df3['IMDb Rating'] = pd.to_numeric(df3['IMDb Rating'], errors='coerce')\n",
        "\n",
        "# Calculate the average IMDb rating for movies\n",
        "average_movie_imdb_rating = df3['IMDb Rating'].mean()\n",
        "\n",
        "print(\"Average IMDb rating for movies in df3:\", average_movie_imdb_rating)"
      ]
    },
    {
      "cell_type": "markdown",
      "source": [
        "This code calculates the average IMDb rating for movies in the DataFrame df3."
      ],
      "metadata": {
        "id": "Z8CkWmL0BvzU"
      }
    },
    {
      "cell_type": "code",
      "execution_count": null,
      "metadata": {
        "colab": {
          "base_uri": "https://localhost:8080/"
        },
        "id": "Y4fEhTCmUnWd",
        "outputId": "3d3513e1-45e4-4dac-e85a-4c78592865d9"
      },
      "outputs": [
        {
          "name": "stdout",
          "output_type": "stream",
          "text": [
            "Average IMDb rating for Tv_shows in Tv_data_filtered1: 7.854545454545455\n"
          ]
        }
      ],
      "source": [
        "Tv_data_filtered1['IMDb Rating'] = pd.to_numeric(Tv_data_filtered1['IMDb Rating'], errors='coerce')\n",
        "\n",
        "# Calculate the average IMDb rating for Tv shows\n",
        "average_Tv_imdb_rating = Tv_data_filtered1['IMDb Rating'].mean()\n",
        "\n",
        "print(\"Average IMDb rating for Tv_shows in Tv_data_filtered1:\", average_Tv_imdb_rating)"
      ]
    },
    {
      "cell_type": "markdown",
      "source": [
        "This code calculates the average IMDb rating for TV shows in the DataFrame Tv_data_filtered1."
      ],
      "metadata": {
        "id": "sr9igjbgCM8M"
      }
    },
    {
      "cell_type": "code",
      "execution_count": null,
      "metadata": {
        "colab": {
          "base_uri": "https://localhost:8080/",
          "height": 112
        },
        "id": "iBSCMPwhWCmm",
        "outputId": "fe143b7d-d4b4-43c2-94d1-c951bad0a5b4"
      },
      "outputs": [
        {
          "data": {
            "text/html": [
              "<div>\n",
              "<style scoped>\n",
              "    .dataframe tbody tr th:only-of-type {\n",
              "        vertical-align: middle;\n",
              "    }\n",
              "\n",
              "    .dataframe tbody tr th {\n",
              "        vertical-align: top;\n",
              "    }\n",
              "\n",
              "    .dataframe thead th {\n",
              "        text-align: right;\n",
              "    }\n",
              "</style>\n",
              "<table border=\"1\" class=\"dataframe\">\n",
              "  <thead>\n",
              "    <tr style=\"text-align: right;\">\n",
              "      <th></th>\n",
              "      <th>Movie Names</th>\n",
              "      <th>Release Year</th>\n",
              "      <th>Movie Genres</th>\n",
              "      <th>Movie IMDb Ratings</th>\n",
              "      <th>Movie Url</th>\n",
              "      <th>Movie Streaming Service</th>\n",
              "      <th>IMDb Rating</th>\n",
              "      <th>Votes</th>\n",
              "    </tr>\n",
              "  </thead>\n",
              "  <tbody>\n",
              "    <tr>\n",
              "      <th>1</th>\n",
              "      <td>premalu</td>\n",
              "      <td>2024</td>\n",
              "      <td>Drama</td>\n",
              "      <td>8.0  (8k)</td>\n",
              "      <td>https://www.justwatch.com/in/movie/premalu</td>\n",
              "      <td>aha</td>\n",
              "      <td>8.0</td>\n",
              "      <td>8000.0</td>\n",
              "    </tr>\n",
              "    <tr>\n",
              "      <th>2</th>\n",
              "      <td>article-370</td>\n",
              "      <td>2024</td>\n",
              "      <td>Mystery &amp; Thriller</td>\n",
              "      <td>8.1  (15k)</td>\n",
              "      <td>https://www.justwatch.com/in/movie/article-370</td>\n",
              "      <td>Provider not found</td>\n",
              "      <td>8.1</td>\n",
              "      <td>15000.0</td>\n",
              "    </tr>\n",
              "    <tr>\n",
              "      <th>3</th>\n",
              "      <td>hanu-man</td>\n",
              "      <td>2024</td>\n",
              "      <td>Mystery &amp; Thriller</td>\n",
              "      <td>7.9  (23k)</td>\n",
              "      <td>https://www.justwatch.com/in/movie/hanu-man</td>\n",
              "      <td>Provider not found</td>\n",
              "      <td>7.9</td>\n",
              "      <td>23000.0</td>\n",
              "    </tr>\n",
              "    <tr>\n",
              "      <th>4</th>\n",
              "      <td>laapataa-ladies</td>\n",
              "      <td>2024</td>\n",
              "      <td>Drama</td>\n",
              "      <td>8.6  (7k)</td>\n",
              "      <td>https://www.justwatch.com/in/movie/laapataa-la...</td>\n",
              "      <td>Provider not found</td>\n",
              "      <td>8.6</td>\n",
              "      <td>7000.0</td>\n",
              "    </tr>\n",
              "    <tr>\n",
              "      <th>5</th>\n",
              "      <td>oppenheimer</td>\n",
              "      <td>2023</td>\n",
              "      <td>Action &amp; Adventure</td>\n",
              "      <td>9.0  (111k)</td>\n",
              "      <td>https://www.justwatch.com/in/movie/oppenheimer</td>\n",
              "      <td>Provider not found</td>\n",
              "      <td>9.0</td>\n",
              "      <td>111000.0</td>\n",
              "    </tr>\n",
              "  </tbody>\n",
              "</table>\n",
              "</div>"
            ],
            "text/plain": [
              "       Movie Names  Release Year        Movie Genres Movie IMDb Ratings  \\\n",
              "1          premalu          2024               Drama          8.0  (8k)   \n",
              "2      article-370          2024  Mystery & Thriller         8.1  (15k)   \n",
              "3         hanu-man          2024  Mystery & Thriller         7.9  (23k)   \n",
              "4  laapataa-ladies          2024               Drama          8.6  (7k)   \n",
              "5      oppenheimer          2023  Action & Adventure        9.0  (111k)   \n",
              "\n",
              "                                           Movie Url Movie Streaming Service  \\\n",
              "1         https://www.justwatch.com/in/movie/premalu                     aha   \n",
              "2     https://www.justwatch.com/in/movie/article-370      Provider not found   \n",
              "3        https://www.justwatch.com/in/movie/hanu-man      Provider not found   \n",
              "4  https://www.justwatch.com/in/movie/laapataa-la...      Provider not found   \n",
              "5     https://www.justwatch.com/in/movie/oppenheimer      Provider not found   \n",
              "\n",
              "   IMDb Rating     Votes  \n",
              "1          8.0    8000.0  \n",
              "2          8.1   15000.0  \n",
              "3          7.9   23000.0  \n",
              "4          8.6    7000.0  \n",
              "5          9.0  111000.0  "
            ]
          },
          "execution_count": 90,
          "metadata": {},
          "output_type": "execute_result"
        }
      ],
      "source": [
        "df3['IMDb Rating'] = pd.to_numeric(df3['IMDb Rating'], errors='coerce')\n",
        "Tv_data_filtered1['IMDb Rating'] = pd.to_numeric(Tv_data_filtered1['IMDb Rating'], errors='coerce')\n",
        "\n",
        "# Filter movies with IMDb rating 7 or higher\n",
        "movies_high_rating = df3[df3['IMDb Rating'] >= 7]\n",
        "\n",
        "\n",
        "# Filter TV shows with IMDb rating 7 or higher\n",
        "tv_shows_high_rating = Tv_data_filtered1[Tv_data_filtered1['IMDb Rating'] >= 7]\n",
        "movies_high_rating.head()"
      ]
    },
    {
      "cell_type": "markdown",
      "source": [
        "These lines of code filter movies and TV shows with IMDb ratings of 7 or higher."
      ],
      "metadata": {
        "id": "kgGfEEBpC8-l"
      }
    },
    {
      "cell_type": "code",
      "execution_count": null,
      "metadata": {
        "id": "n-3leKNSAmxy",
        "outputId": "0b8b4f4d-12c4-457a-8231-70b8ffecfff3"
      },
      "outputs": [
        {
          "data": {
            "text/html": [
              "<div>\n",
              "<style scoped>\n",
              "    .dataframe tbody tr th:only-of-type {\n",
              "        vertical-align: middle;\n",
              "    }\n",
              "\n",
              "    .dataframe tbody tr th {\n",
              "        vertical-align: top;\n",
              "    }\n",
              "\n",
              "    .dataframe thead th {\n",
              "        text-align: right;\n",
              "    }\n",
              "</style>\n",
              "<table border=\"1\" class=\"dataframe\">\n",
              "  <thead>\n",
              "    <tr style=\"text-align: right;\">\n",
              "      <th></th>\n",
              "      <th>Show names</th>\n",
              "      <th>Release year</th>\n",
              "      <th>Genere</th>\n",
              "      <th>url</th>\n",
              "      <th>Imdb Ratings</th>\n",
              "      <th>streaming service</th>\n",
              "      <th>IMDb Rating</th>\n",
              "      <th>Votes</th>\n",
              "    </tr>\n",
              "  </thead>\n",
              "  <tbody>\n",
              "    <tr>\n",
              "      <th>0</th>\n",
              "      <td>shogun-2024</td>\n",
              "      <td>2024.0</td>\n",
              "      <td>Crime</td>\n",
              "      <td>https://www.justwatch.com/in/tv-show/shogun-2024</td>\n",
              "      <td>8.9  (101k)</td>\n",
              "      <td>Provider not found</td>\n",
              "      <td>8.9</td>\n",
              "      <td>101000.0</td>\n",
              "    </tr>\n",
              "    <tr>\n",
              "      <th>1</th>\n",
              "      <td>fallout</td>\n",
              "      <td>2024.0</td>\n",
              "      <td>Action &amp; Adventure</td>\n",
              "      <td>https://www.justwatch.com/in/tv-show/fallout</td>\n",
              "      <td>8.5  (131k)</td>\n",
              "      <td>Amazon Prime Video</td>\n",
              "      <td>8.5</td>\n",
              "      <td>131000.0</td>\n",
              "    </tr>\n",
              "    <tr>\n",
              "      <th>4</th>\n",
              "      <td>3-body-problem</td>\n",
              "      <td>2024.0</td>\n",
              "      <td>Drama</td>\n",
              "      <td>https://www.justwatch.com/in/tv-show/3-body-pr...</td>\n",
              "      <td>7.6  (99k)</td>\n",
              "      <td>Provider not found</td>\n",
              "      <td>7.6</td>\n",
              "      <td>99000.0</td>\n",
              "    </tr>\n",
              "    <tr>\n",
              "      <th>7</th>\n",
              "      <td>ripley</td>\n",
              "      <td>2024.0</td>\n",
              "      <td>Comedy</td>\n",
              "      <td>https://www.justwatch.com/in/tv-show/ripley</td>\n",
              "      <td>8.2  (25k)</td>\n",
              "      <td>Netflix</td>\n",
              "      <td>8.2</td>\n",
              "      <td>25000.0</td>\n",
              "    </tr>\n",
              "    <tr>\n",
              "      <th>8</th>\n",
              "      <td>inspector-rishi</td>\n",
              "      <td>2024.0</td>\n",
              "      <td>Crime</td>\n",
              "      <td>https://www.justwatch.com/in/tv-show/inspector...</td>\n",
              "      <td>7.2  (1k)</td>\n",
              "      <td>Provider not found</td>\n",
              "      <td>7.2</td>\n",
              "      <td>1000.0</td>\n",
              "    </tr>\n",
              "  </tbody>\n",
              "</table>\n",
              "</div>"
            ],
            "text/plain": [
              "        Show names  Release year              Genere  \\\n",
              "0      shogun-2024        2024.0               Crime   \n",
              "1          fallout        2024.0  Action & Adventure   \n",
              "4   3-body-problem        2024.0               Drama   \n",
              "7           ripley        2024.0              Comedy   \n",
              "8  inspector-rishi        2024.0               Crime   \n",
              "\n",
              "                                                 url Imdb Ratings  \\\n",
              "0   https://www.justwatch.com/in/tv-show/shogun-2024  8.9  (101k)   \n",
              "1       https://www.justwatch.com/in/tv-show/fallout  8.5  (131k)   \n",
              "4  https://www.justwatch.com/in/tv-show/3-body-pr...   7.6  (99k)   \n",
              "7        https://www.justwatch.com/in/tv-show/ripley   8.2  (25k)   \n",
              "8  https://www.justwatch.com/in/tv-show/inspector...    7.2  (1k)   \n",
              "\n",
              "    streaming service  IMDb Rating     Votes  \n",
              "0  Provider not found          8.9  101000.0  \n",
              "1  Amazon Prime Video          8.5  131000.0  \n",
              "4  Provider not found          7.6   99000.0  \n",
              "7             Netflix          8.2   25000.0  \n",
              "8  Provider not found          7.2    1000.0  "
            ]
          },
          "execution_count": 91,
          "metadata": {},
          "output_type": "execute_result"
        }
      ],
      "source": [
        "tv_shows_high_rating.head()"
      ]
    },
    {
      "cell_type": "markdown",
      "metadata": {
        "id": "N_OroblUQG4r"
      },
      "source": [
        "## **Analyzing Top Genres**"
      ]
    },
    {
      "cell_type": "code",
      "execution_count": null,
      "metadata": {
        "colab": {
          "base_uri": "https://localhost:8080/"
        },
        "id": "ezQkEDK0J-FM",
        "outputId": "b5304000-40ae-4c66-e598-b3bfc31bee99"
      },
      "outputs": [
        {
          "name": "stdout",
          "output_type": "stream",
          "text": [
            "Top 5 Genres:\n",
            "Action 3\n",
            "Comedy 3\n",
            "Drama 3\n",
            "Thriller 1\n",
            "Horror 1\n"
          ]
        }
      ],
      "source": [
        "from collections import Counter\n",
        "\n",
        "# Sample list of genres\n",
        "genres = ['Action', 'Comedy', 'Action', 'Drama', 'Comedy', 'Thriller', 'Action', 'Horror', 'Comedy', 'Drama', 'Drama']\n",
        "\n",
        "# Count occurrences of each genre\n",
        "genre_counts = Counter(genres)\n",
        "\n",
        "# Sort genres based on counts\n",
        "sorted_genres = sorted(genre_counts.items(), key=lambda x: x[1], reverse=True)\n",
        "\n",
        "# Select the top 5 genres\n",
        "top_5_genres = sorted_genres[:5]\n",
        "\n",
        "print(\"Top 5 Genres:\")\n",
        "for genre, count in top_5_genres:\n",
        "    print(genre, count)\n"
      ]
    },
    {
      "cell_type": "markdown",
      "source": [
        "This code snippet demonstrates how to count occurrences of each genre in a list using the Counter class from the collections module. It then sorts the genres based on their counts in descending order and selects the top 5 genres."
      ],
      "metadata": {
        "id": "qloDy0rrDbxZ"
      }
    },
    {
      "cell_type": "code",
      "execution_count": null,
      "metadata": {
        "colab": {
          "base_uri": "https://localhost:8080/"
        },
        "id": "4ljPnIn2LJLZ",
        "outputId": "e19cc141-2cfd-4085-b408-ec49633e36f7"
      },
      "outputs": [
        {
          "name": "stdout",
          "output_type": "stream",
          "text": [
            "Top 5 genres with the highest number of available movies and TV shows:\n",
            "Drama                 14\n",
            "Action & Adventure    11\n",
            "Mystery & Thriller     9\n",
            "Crime                  6\n",
            "Comedy                 5\n",
            "Name: Genre, dtype: int64\n"
          ]
        }
      ],
      "source": [
        "df1['Genre'] = df1['Movie Genres']\n",
        "df2['Genre'] = df2['Genere']\n",
        "combined_data = pd.concat([df1[['Genre']],\n",
        "                          df2[['Genre']]])\n",
        "\n",
        "# Group the data by the 'Genre' column and count the occurrences of each genre\n",
        "genre_counts = combined_data['Genre'].value_counts()\n",
        "\n",
        "# Sort the genres in descending order based on their counts\n",
        "sorted_genres = genre_counts.sort_values(ascending=False)\n",
        "\n",
        "# Select the top 5 genres\n",
        "top_5_genres = sorted_genres.head(5)\n",
        "\n",
        "print(\"Top 5 genres with the highest number of available movies and TV shows:\")\n",
        "print(top_5_genres)"
      ]
    },
    {
      "cell_type": "markdown",
      "source": [
        "This code combines the 'Movie Genres' column from df1 and the 'Genere' column from df2 into a single DataFrame combined_data. It then groups the data by the 'Genre' column and counts the occurrences of each genre."
      ],
      "metadata": {
        "id": "hnJLPKHLDvwo"
      }
    },
    {
      "cell_type": "code",
      "execution_count": null,
      "metadata": {
        "colab": {
          "base_uri": "https://localhost:8080/",
          "height": 607
        },
        "id": "EBepUBptLyM7",
        "outputId": "c44c6f6b-00c2-4b3e-b42e-7db6aa541479"
      },
      "outputs": [
        {
          "data": {
            "image/png": "[encoded data removed]",
            "text/plain": [
              "<Figure size 1000x600 with 1 Axes>"
            ]
          },
          "metadata": {},
          "output_type": "display_data"
        }
      ],
      "source": [
        "import matplotlib.pyplot as plt\n",
        "\n",
        "# Plot the top 5 genres\n",
        "plt.figure(figsize=(10, 6))\n",
        "top_5_genres.plot(kind='bar', color='skyblue')\n",
        "plt.xlabel('Genre')\n",
        "plt.ylabel('Count')\n",
        "plt.title('Top 5 Genres with the Highest Number of Movies and TV Shows')\n",
        "plt.xticks(rotation=45)\n",
        "plt.tight_layout()\n",
        "plt.show()"
      ]
    },
    {
      "cell_type": "markdown",
      "source": [
        "This code snippet uses Matplotlib to create a bar plot of the top 5 genres with the highest number of movies and TV shows."
      ],
      "metadata": {
        "id": "SiBAPETdD8AV"
      }
    },
    {
      "cell_type": "code",
      "execution_count": null,
      "metadata": {
        "colab": {
          "base_uri": "https://localhost:8080/",
          "height": 446
        },
        "id": "7Nqu7MEEYa3c",
        "outputId": "93919148-095a-4e4f-b405-05c3de8d65d6"
      },
      "outputs": [
        {
          "data": {
            "image/png": "[encoded data removed]",
            "text/plain": [
              "<Figure size 1000x600 with 1 Axes>"
            ]
          },
          "metadata": {},
          "output_type": "display_data"
        }
      ],
      "source": [
        "#Let's Visvalize it using word cloud\n",
        "from wordcloud import WordCloud\n",
        "import matplotlib.pyplot as plt\n",
        "\n",
        "# Generate word cloud\n",
        "wordcloud = WordCloud(width=800, height=400, background_color='white').generate_from_frequencies(top_5_genres)\n",
        "\n",
        "# Plot the word cloud\n",
        "plt.figure(figsize=(10, 6))\n",
        "plt.imshow(wordcloud, interpolation='bilinear')\n",
        "plt.axis('off')\n",
        "plt.title('Top 5 Genres with the Highest Number of Movies and TV Shows')\n",
        "plt.show()"
      ]
    },
    {
      "cell_type": "markdown",
      "source": [
        "This code snippet generates a word cloud visualization of the top 5 genres with the highest number of movies and TV shows. It uses the WordCloud class from the wordcloud library to create the word cloud. The word cloud is generated from the frequency distribution of the top 5 genres."
      ],
      "metadata": {
        "id": "Zjf3_iw2EDAe"
      }
    },
    {
      "cell_type": "markdown",
      "metadata": {
        "id": "BUPye0P0QP5I"
      },
      "source": [
        "## **Finding Predominant Streaming Service**"
      ]
    },
    {
      "cell_type": "code",
      "execution_count": null,
      "metadata": {
        "colab": {
          "base_uri": "https://localhost:8080/"
        },
        "id": "cLXiCZSAO_40",
        "outputId": "ead720d6-6325-4d16-dafa-058fb03e01af"
      },
      "outputs": [
        {
          "name": "stdout",
          "output_type": "stream",
          "text": [
            "Streaming services with the number of offerings:\n",
            "    Streaming Service  Number of Offerings\n",
            "0  Provider not found                   51\n",
            "1  Amazon Prime Video                    3\n",
            "2             Netflix                    3\n",
            "3                 aha                    1\n",
            "4    VI movies and tv                    1\n",
            "5           MX Player                    1\n",
            "6          Jio Cinema                    1\n"
          ]
        }
      ],
      "source": [
        "df1['Streaming Service'] = df1['Movie Streaming Service']\n",
        "df2['Streaming Service'] =df2['streaming service']\n",
        "combined_data = pd.concat([df1[['Streaming Service']],\n",
        "                          df2[['Streaming Service']]])\n",
        "\n",
        "# Group the data by the 'Streaming Service' column and count the occurrences of each streaming service\n",
        "service_counts = combined_data['Streaming Service'].value_counts()\n",
        "\n",
        "# Find the streaming service with the most number of offerings\n",
        "# most_offering_service = service_counts.idxmax()\n",
        "# count_of_most_offering_service = service_counts.max()\n",
        "service_counts = combined_data['Streaming Service'].value_counts()\n",
        "\n",
        "# print(\"Streaming service with the most number of offerings:\")\n",
        "# print(f\"{most_offering_service} - {count_of_most_offering_service} offerings\")\n",
        "# Convert the series to a DataFrame\n",
        "service_counts_df = service_counts.reset_index()\n",
        "service_counts_df.columns = ['Streaming Service', 'Number of Offerings']\n",
        "\n",
        "print(\"Streaming services with the number of offerings:\")\n",
        "print(service_counts_df)"
      ]
    },
    {
      "cell_type": "markdown",
      "source": [
        "\n",
        "This code combines the 'Movie Streaming Service' column from df1 and the 'streaming service' column from df2 into a single DataFrame combined_data. It then groups the data by the 'Streaming Service' column and counts the occurrences of each streaming service.\n",
        "\n",
        "After that, it creates a DataFrame service_counts_df from the series of streaming service counts. This DataFrame contains two columns: 'Streaming Service' and 'Number of Offerings', indicating the number of offerings for each streaming service."
      ],
      "metadata": {
        "id": "sHjBbM2METB4"
      }
    },
    {
      "cell_type": "code",
      "execution_count": null,
      "metadata": {
        "colab": {
          "base_uri": "https://localhost:8080/",
          "height": 607
        },
        "id": "NTcvk1TvMpUS",
        "outputId": "e422c089-59d3-412b-ccf7-998ed9bfafbc"
      },
      "outputs": [
        {
          "data": {
            "image/png": "[encoded data removed]",
            "text/plain": [
              "<Figure size 1000x600 with 1 Axes>"
            ]
          },
          "metadata": {},
          "output_type": "display_data"
        }
      ],
      "source": [
        "import matplotlib.pyplot as plt\n",
        "\n",
        "# Plot the streaming services with the number of offerings\n",
        "plt.figure(figsize=(10, 6))\n",
        "plt.bar(service_counts_df['Streaming Service'], service_counts_df['Number of Offerings'], color='red')\n",
        "plt.xlabel('Streaming Service')\n",
        "plt.ylabel('Number of Offerings')\n",
        "plt.title('Number of Offerings by Streaming Service')\n",
        "plt.xticks(rotation=45)\n",
        "plt.tight_layout()\n",
        "plt.show()\n"
      ]
    },
    {
      "cell_type": "markdown",
      "source": [
        "This code snippet uses Matplotlib to create a bar plot showing the number of offerings by streaming service. It sets the figure size, plots the data as a bar plot, and adds labels and a title to the plot for better readability. Additionally, it rotates the x-axis labels by 45 degrees to avoid overlapping. Finally, it displays the plot using plt.show()."
      ],
      "metadata": {
        "id": "1H9umHhoE0xI"
      }
    },
    {
      "cell_type": "code",
      "execution_count": null,
      "metadata": {
        "colab": {
          "base_uri": "https://localhost:8080/",
          "height": 446
        },
        "id": "e0xdIO8APJYm",
        "outputId": "cdc00c72-a998-4b95-8f8e-c103883e1e77"
      },
      "outputs": [
        {
          "data": {
            "image/png": "[encoded data removed]",
            "text/plain": [
              "<Figure size 1000x600 with 1 Axes>"
            ]
          },
          "metadata": {},
          "output_type": "display_data"
        }
      ],
      "source": [
        "#Let's Visvalize it using word cloud\n",
        "from wordcloud import WordCloud\n",
        "import matplotlib.pyplot as plt\n",
        "\n",
        "# Convert the DataFrame to a dictionary\n",
        "service_counts_dict = dict(zip(service_counts_df['Streaming Service'], service_counts_df['Number of Offerings']))\n",
        "\n",
        "# Generate word cloud\n",
        "wordcloud = WordCloud(width=800, height=400, background_color='white').generate_from_frequencies(service_counts_dict)\n",
        "\n",
        "# Plot the word cloud\n",
        "plt.figure(figsize=(10, 6))\n",
        "plt.imshow(wordcloud, interpolation='bilinear')\n",
        "plt.axis('off')\n",
        "plt.title('Streaming Services with Number of Offerings')\n",
        "plt.show()\n"
      ]
    },
    {
      "cell_type": "markdown",
      "source": [
        "This code snippet generates a word cloud visualization of the streaming services with the number of offerings. It converts the DataFrame service_counts_df to a dictionary service_counts_dict, where the keys are streaming service names and the values are the corresponding number of offerings."
      ],
      "metadata": {
        "id": "qDyc45xlFVWd"
      }
    },
    {
      "cell_type": "markdown",
      "metadata": {
        "id": "tytqsADVR2x6"
      },
      "source": [
        "## **Task 3 :- Data Export**"
      ]
    },
    {
      "cell_type": "code",
      "execution_count": null,
      "metadata": {
        "id": "u4yaUlvrRj6g"
      },
      "outputs": [],
      "source": [
        "#saving final dataframe as Final Data in csv format\n",
        "#saving a scrapped movie data to csv file\n",
        "Movies_data.to_csv(\"D:/Movies_Data.csv\", index=False)\n",
        "\n",
        "#saving a scrapped Tv data to csv file\n",
        "Tv_data.to_csv(\"D:/Tv_Show_Data.csv\", index=False)"
      ]
    },
    {
      "cell_type": "markdown",
      "source": [
        "The code you provided saves the scraped movie data to a CSV file named \"Movies_Data.csv\" and the scraped TV show data to a CSV file named \"Tv_Show_Data.csv\". The to_csv() method is used to save the DataFrames Movies_data and Tv_data to CSV files, with the parameter index=False to exclude the index column from the saved CSV files."
      ],
      "metadata": {
        "id": "oVXi9zsbFr5h"
      }
    },
    {
      "cell_type": "code",
      "execution_count": null,
      "metadata": {
        "id": "SSmCEV22SSW_"
      },
      "outputs": [],
      "source": [
        "#saving filter data as Filter Data in csv format\n",
        "#saving a filtered movies data to csv file\n",
        "movies_high_rating.to_csv(\"D:/Movies_filtered_data.csv\", index=False)\n",
        "\n",
        "#saving a filtered Tv data to csv file\n",
        "tv_shows_high_rating.to_csv(\"D:/Tv_filttered_data.csv\", index=False)"
      ]
    },
    {
      "cell_type": "markdown",
      "source": [
        "The code provided saves the filtered movie data to a CSV file named \"Movies_filtered_data.csv\" and the filtered TV show data to a CSV file named \"Tv_filtered_data.csv\"."
      ],
      "metadata": {
        "id": "WSWEm9WVF9hn"
      }
    },
    {
      "cell_type": "markdown",
      "metadata": {
        "id": "j6F3wrlGWOcl"
      },
      "source": [
        "# **Dataset Drive Link (View Access with Anyone) -** https://drive.google.com/drive/folders/1l7bfqQ-VzAWOWRU4N1aXDvUF4ZiayTGQ?usp=sharing"
      ]
    }
  ],
  "metadata": {
    "colab": {
      "collapsed_sections": [
        "k8ptoMlNQ5zB",
        "-xHLaFLPn4yC",
        "NCWbwB1Og3bD",
        "V-qsNrtIsBEp",
        "Dam_ehZgvgmw",
        "VEg1U1uPzGoj",
        "aqzhL8STqaMX",
        "UOof6-0xFuf6",
        "IrJlIsBWrO2r",
        "Mnh22VX_7f6K",
        "LYQ5acWzJRZr",
        "ev-VUSNvJ-fJ",
        "1vZLzmqcKDPX",
        "mEIt9j6RKa9B",
        "P96pGO9kRCLv",
        "hk3eSdDAXQv8",
        "mHZwwgiKdlQm",
        "nD4QVPT-nfVR",
        "CyqHHKh4IDx6",
        "0bPDbn-gPyfm",
        "N_OroblUQG4r",
        "BUPye0P0QP5I"
      ],
      "provenance": [],
      "include_colab_link": true
    },
    "kernelspec": {
      "display_name": "Python 3 (ipykernel)",
      "language": "python",
      "name": "python3"
    },
    "language_info": {
      "codemirror_mode": {
        "name": "ipython",
        "version": 3
      },
      "file_extension": ".py",
      "mimetype": "text/x-python",
      "name": "python",
      "nbconvert_exporter": "python",
      "pygments_lexer": "ipython3",
      "version": "3.11.4"
    }
  },
  "nbformat": 4,
  "nbformat_minor": 0
}